{
 "cells": [
  {
   "cell_type": "markdown",
   "metadata": {},
   "source": [
    "Hello Mark!\n",
    "\n",
    "My name is Dmitry.  I'm glad to review your work today.\n",
    "I will mark your mistakes and give you some hints how it is possible to fix them. We are getting ready for real job, where your team leader/senior colleague will do exactly the same. Don't worry and study with pleasure! \n",
    "\n",
    "Below you will find my comments - **please do not move, modify or delete them**.\n",
    "\n",
    "You can find my comments in green, yellow or red boxes like this:\n",
    "\n",
    "<div class=\"alert alert-block alert-success\">\n",
    "<b>Reviewer's comment</b> <a class=\"tocSkip\"></a>\n",
    "\n",
    "Success. Everything is done succesfully.\n",
    "</div>\n",
    "\n",
    "<div class=\"alert alert-block alert-warning\">\n",
    "<b>Reviewer's comment</b> <a class=\"tocSkip\"></a>\n",
    "\n",
    "Remarks. Some recommendations.\n",
    "</div>\n",
    "\n",
    "<div class=\"alert alert-block alert-danger\">\n",
    "\n",
    "<b>Reviewer's comment</b> <a class=\"tocSkip\"></a>\n",
    "\n",
    "Needs fixing. The block requires some corrections. Work can't be accepted with the red comments.\n",
    "</div>\n",
    "\n",
    "You can answer me by using this:\n",
    "\n",
    "<div class=\"alert alert-block alert-info\">\n",
    "<b>Student answer.</b> <a class=\"tocSkip\"></a>\n",
    "\n",
    "Text here.\n",
    "</div>"
   ]
  },
  {
   "cell_type": "markdown",
   "metadata": {},
   "source": [
    "# Which one is a better plan?\n",
    "\n",
    "You work as an analyst for the telecom operator Megaline. The company offers its clients two prepaid plans, Surf and Ultimate. The commercial department wants to know which of the plans brings in more revenue in order to adjust the advertising budget.\n",
    "\n",
    "You are going to carry out a preliminary analysis of the plans based on a relatively small client selection. You'll have the data on 500 Megaline clients: who the clients are, where they're from, which plan they use, and the number of calls they made and text messages they sent in 2018. Your job is to analyze the clients' behavior and determine which prepaid plan brings in more revenue."
   ]
  },
  {
   "cell_type": "markdown",
   "metadata": {},
   "source": [
    "<!--[We've provided you with some commentary to guide your thinking as you complete this project. However, make sure to remove all the bracketed comments before submitting your project.]\n",
    "\n",
    "[Before you dive into analyzing your data, explain for yourself the purpose of the project and actions you plan to take.]\n",
    "\n",
    "[Please bear in mind that studying, amending, and analyzing data is an iterative process. It is normal to return to previous steps and correct/expand them to allow for further steps.]\n",
    "-->"
   ]
  },
  {
   "cell_type": "markdown",
   "metadata": {},
   "source": [
    "## Initialization"
   ]
  },
  {
   "cell_type": "markdown",
   "metadata": {},
   "source": [
    "<b><u>Objective</u></b>\n",
    "\n",
    "We are trying to ascertain which prepaid plan, Surf or Ultimate brings in more revenue in minutes, texts, and volume of data through the following steps:\n",
    "\n",
    "1. Preprocessing the data\n",
    "2. Analyzing the cleaned up data (statistical measures and visualizations)\n",
    "3. Hypothesis testing (average revenue is the same between plans; average revenue in the NY-NJ area is the same as other regions)"
   ]
  },
  {
   "cell_type": "markdown",
   "metadata": {},
   "source": [
    "<div class=\"alert alert-block alert-success\">\n",
    "<b>Reviewer's comment</b> <a class=\"tocSkip\"></a>\n",
    "\n",
    "Great start with an introduction!\n",
    "</div>"
   ]
  },
  {
   "cell_type": "code",
   "execution_count": 1,
   "metadata": {},
   "outputs": [],
   "source": [
    "# Loading all the libraries\n",
    "import pandas as pd\n",
    "from matplotlib import pyplot as plt\n",
    "import numpy as np\n",
    "import math as mt\n",
    "from math import factorial\n",
    "from scipy import stats as st"
   ]
  },
  {
   "cell_type": "markdown",
   "metadata": {},
   "source": [
    "## Load data"
   ]
  },
  {
   "cell_type": "markdown",
   "metadata": {},
   "source": [
    "Load in the five data sets from Megaline."
   ]
  },
  {
   "cell_type": "code",
   "execution_count": 2,
   "metadata": {},
   "outputs": [],
   "source": [
    "# Load the data files into different DataFrames\n",
    "df_calls = pd.read_csv('/datasets/megaline_calls.csv')\n",
    "df_internet = pd.read_csv('/datasets/megaline_internet.csv')\n",
    "df_messages = pd.read_csv('/datasets/megaline_messages.csv')\n",
    "df_plans = pd.read_csv('/datasets/megaline_plans.csv')\n",
    "df_users = pd.read_csv('/datasets/megaline_users.csv')"
   ]
  },
  {
   "cell_type": "markdown",
   "metadata": {},
   "source": [
    "## Prepare the data"
   ]
  },
  {
   "cell_type": "markdown",
   "metadata": {},
   "source": [
    "<!--[The data for this project is split into several tables. Explore each one to get an initial understanding of the data. Do necessary corrections to each table if necessary.]\n",
    "-->\n",
    "We are going to preprocess the data by checking for null values, checking the columns for their data types, and looking for duplicates."
   ]
  },
  {
   "cell_type": "code",
   "execution_count": 3,
   "metadata": {},
   "outputs": [
    {
     "name": "stdout",
     "output_type": "stream",
     "text": [
      "CALLS\n",
      "<class 'pandas.core.frame.DataFrame'>\n",
      "RangeIndex: 137735 entries, 0 to 137734\n",
      "Data columns (total 4 columns):\n",
      " #   Column     Non-Null Count   Dtype  \n",
      "---  ------     --------------   -----  \n",
      " 0   id         137735 non-null  object \n",
      " 1   user_id    137735 non-null  int64  \n",
      " 2   call_date  137735 non-null  object \n",
      " 3   duration   137735 non-null  float64\n",
      "dtypes: float64(1), int64(1), object(2)\n",
      "memory usage: 4.2+ MB\n",
      "None\n",
      "\n",
      "INERNET\n",
      "<class 'pandas.core.frame.DataFrame'>\n",
      "RangeIndex: 104825 entries, 0 to 104824\n",
      "Data columns (total 4 columns):\n",
      " #   Column        Non-Null Count   Dtype  \n",
      "---  ------        --------------   -----  \n",
      " 0   id            104825 non-null  object \n",
      " 1   user_id       104825 non-null  int64  \n",
      " 2   session_date  104825 non-null  object \n",
      " 3   mb_used       104825 non-null  float64\n",
      "dtypes: float64(1), int64(1), object(2)\n",
      "memory usage: 3.2+ MB\n",
      "None\n",
      "\n",
      "MESSAGES\n",
      "<class 'pandas.core.frame.DataFrame'>\n",
      "RangeIndex: 76051 entries, 0 to 76050\n",
      "Data columns (total 3 columns):\n",
      " #   Column        Non-Null Count  Dtype \n",
      "---  ------        --------------  ----- \n",
      " 0   id            76051 non-null  object\n",
      " 1   user_id       76051 non-null  int64 \n",
      " 2   message_date  76051 non-null  object\n",
      "dtypes: int64(1), object(2)\n",
      "memory usage: 1.7+ MB\n",
      "None\n",
      "\n",
      "PLANS\n",
      "<class 'pandas.core.frame.DataFrame'>\n",
      "RangeIndex: 2 entries, 0 to 1\n",
      "Data columns (total 8 columns):\n",
      " #   Column                 Non-Null Count  Dtype  \n",
      "---  ------                 --------------  -----  \n",
      " 0   messages_included      2 non-null      int64  \n",
      " 1   mb_per_month_included  2 non-null      int64  \n",
      " 2   minutes_included       2 non-null      int64  \n",
      " 3   usd_monthly_pay        2 non-null      int64  \n",
      " 4   usd_per_gb             2 non-null      int64  \n",
      " 5   usd_per_message        2 non-null      float64\n",
      " 6   usd_per_minute         2 non-null      float64\n",
      " 7   plan_name              2 non-null      object \n",
      "dtypes: float64(2), int64(5), object(1)\n",
      "memory usage: 256.0+ bytes\n",
      "None\n",
      "\n",
      "USERS\n",
      "<class 'pandas.core.frame.DataFrame'>\n",
      "RangeIndex: 500 entries, 0 to 499\n",
      "Data columns (total 8 columns):\n",
      " #   Column      Non-Null Count  Dtype \n",
      "---  ------      --------------  ----- \n",
      " 0   user_id     500 non-null    int64 \n",
      " 1   first_name  500 non-null    object\n",
      " 2   last_name   500 non-null    object\n",
      " 3   age         500 non-null    int64 \n",
      " 4   city        500 non-null    object\n",
      " 5   reg_date    500 non-null    object\n",
      " 6   plan        500 non-null    object\n",
      " 7   churn_date  34 non-null     object\n",
      "dtypes: int64(2), object(6)\n",
      "memory usage: 31.4+ KB\n",
      "None\n"
     ]
    }
   ],
   "source": [
    "# Looking into all the dataframes\n",
    "print('CALLS')\n",
    "print(df_calls.info())\n",
    "print('\\nINERNET')\n",
    "print(df_internet.info())\n",
    "print('\\nMESSAGES')\n",
    "print(df_messages.info())\n",
    "print('\\nPLANS')\n",
    "print(df_plans.info())\n",
    "print('\\nUSERS')\n",
    "print(df_users.info())"
   ]
  },
  {
   "cell_type": "code",
   "execution_count": 4,
   "metadata": {},
   "outputs": [
    {
     "name": "stdout",
     "output_type": "stream",
     "text": [
      "CALLS\n",
      "               id  user_id   call_date  duration\n",
      "15854    1062_94     1062  2018-07-07      2.06\n",
      "93885   1335_115     1335  2018-06-14      0.84\n",
      "39284   1146_572     1146  2018-11-18      0.00\n",
      "111735  1392_145     1392  2018-11-19      7.77\n",
      "107970  1382_953     1382  2018-06-28      0.00\n",
      "\n",
      "INERNET\n",
      "              id  user_id session_date  mb_used\n",
      "88792   1409_19     1409   2018-12-27   418.55\n",
      "63800   1293_48     1293   2018-09-29   617.21\n",
      "76065  1358_172     1358   2018-05-14   751.76\n",
      "78354   1366_43     1366   2018-09-20   608.37\n",
      "13707  1064_155     1064   2018-12-07   689.39\n",
      "\n",
      "MESSAGES\n",
      "              id  user_id message_date\n",
      "50781  1330_397     1330   2018-12-26\n",
      "36457  1242_129     1242   2018-11-25\n",
      "51847  1335_438     1335   2018-11-10\n",
      "38161  1251_213     1251   2018-06-23\n",
      "62206  1391_195     1391   2018-12-13\n",
      "\n",
      "PLANS\n",
      "    messages_included  mb_per_month_included  minutes_included  \\\n",
      "0                 50                  15360               500   \n",
      "1               1000                  30720              3000   \n",
      "\n",
      "   usd_monthly_pay  usd_per_gb  usd_per_message  usd_per_minute plan_name  \n",
      "0               20          10             0.03            0.03      surf  \n",
      "1               70           7             0.01            0.01  ultimate  \n",
      "\n",
      "USERS\n",
      "      user_id first_name  last_name  age  \\\n",
      "287     1287      Heide       Gill   74   \n",
      "286     1286      Casie  Castaneda   52   \n",
      "24      1024       Yuki      Tyson   74   \n",
      "339     1339   Mariette     Mclean   27   \n",
      "319     1319     Eliseo     Carson   21   \n",
      "\n",
      "                                          city    reg_date  plan churn_date  \n",
      "287        Sacramento–Roseville–Folsom, CA MSA  2018-03-15  surf        NaN  \n",
      "286                  New Haven-Milford, CT MSA  2018-12-07  surf        NaN  \n",
      "24   New York-Newark-Jersey City, NY-NJ-PA MSA  2018-08-21  surf        NaN  \n",
      "339      Charlotte-Concord-Gastonia, NC-SC MSA  2018-03-03  surf        NaN  \n",
      "319                   Colorado Springs, CO MSA  2018-06-17  surf        NaN  \n"
     ]
    }
   ],
   "source": [
    "# Showing a sample of each of the dataframes\n",
    "print('CALLS\\n', df_calls.sample(5))\n",
    "print('\\nINERNET\\n', df_internet.sample(5))\n",
    "print('\\nMESSAGES\\n', df_messages.sample(5))\n",
    "print('\\nPLANS\\n', df_plans)\n",
    "print('\\nUSERS\\n', df_users.sample(5))"
   ]
  },
  {
   "cell_type": "code",
   "execution_count": 5,
   "metadata": {},
   "outputs": [
    {
     "name": "stdout",
     "output_type": "stream",
     "text": [
      "['ultimate' 'surf']\n"
     ]
    }
   ],
   "source": [
    "# Checking if all the plans match\n",
    "print(df_users['plan'].unique())\n"
   ]
  },
  {
   "cell_type": "code",
   "execution_count": 6,
   "metadata": {},
   "outputs": [
    {
     "name": "stdout",
     "output_type": "stream",
     "text": [
      "CALLS\n",
      "              id  user_id   call_date  duration\n",
      "54126    1196_0     1196  2018-11-21      5.20\n",
      "54127    1196_1     1196  2018-04-04     11.64\n",
      "54128    1196_2     1196  2018-09-10      0.00\n",
      "54129    1196_3     1196  2018-03-17     10.27\n",
      "54130    1196_4     1196  2018-06-09     23.09\n",
      "...         ...      ...         ...       ...\n",
      "55053  1196_954     1196  2018-08-15      4.99\n",
      "55054  1196_956     1196  2018-08-23      0.00\n",
      "55055  1196_957     1196  2018-08-03      5.63\n",
      "55056  1196_958     1196  2018-07-28     19.04\n",
      "55057  1196_959     1196  2018-02-02      0.00\n",
      "\n",
      "[932 rows x 4 columns]\n",
      "\n",
      "INERNET\n",
      "              id  user_id session_date  mb_used\n",
      "44005    1196_0     1196   2018-02-05   819.20\n",
      "44006    1196_1     1196   2018-05-16     0.00\n",
      "44007    1196_2     1196   2018-04-24   590.12\n",
      "44008    1196_3     1196   2018-02-18   468.69\n",
      "44009    1196_4     1196   2018-07-16   788.32\n",
      "...         ...      ...          ...      ...\n",
      "44536  1196_552     1196   2018-10-10   248.86\n",
      "44537  1196_553     1196   2018-09-13  1074.05\n",
      "44538  1196_554     1196   2018-10-13   339.44\n",
      "44539  1196_555     1196   2018-09-17     0.00\n",
      "44540  1196_556     1196   2018-08-30   847.82\n",
      "\n",
      "[536 rows x 4 columns]\n",
      "\n",
      "MESSAGES\n",
      "              id  user_id message_date\n",
      "31521    1196_0     1196   2018-01-20\n",
      "31522    1196_1     1196   2018-11-12\n",
      "31523    1196_2     1196   2018-06-08\n",
      "31524    1196_3     1196   2018-06-01\n",
      "31525    1196_4     1196   2018-04-23\n",
      "...         ...      ...          ...\n",
      "31857  1196_343     1196   2018-06-05\n",
      "31858  1196_344     1196   2018-10-20\n",
      "31859  1196_345     1196   2018-07-04\n",
      "31860  1196_346     1196   2018-09-11\n",
      "31861  1196_347     1196   2018-06-04\n",
      "\n",
      "[341 rows x 3 columns]\n",
      "\n",
      "USERS\n",
      "      user_id first_name last_name  age  \\\n",
      "196     1196       Noel    Dawson   46   \n",
      "\n",
      "                                       city    reg_date      plan churn_date  \n",
      "196  Los Angeles-Long Beach-Anaheim, CA MSA  2018-01-14  ultimate        NaN  \n"
     ]
    }
   ],
   "source": [
    "# Getting an idea of how a user appears in each of the data sets\n",
    "print('CALLS\\n', df_calls[df_calls['user_id'] == 1196])\n",
    "print('\\nINERNET\\n', df_internet[df_internet['user_id'] == 1196])\n",
    "print('\\nMESSAGES\\n', df_messages[df_messages['user_id'] == 1196])\n",
    "print('\\nUSERS\\n', df_users[df_users['user_id'] == 1196])\n",
    "# print(df_users[~df_users['churn_date'].isna()])"
   ]
  },
  {
   "cell_type": "code",
   "execution_count": 7,
   "metadata": {},
   "outputs": [
    {
     "name": "stdout",
     "output_type": "stream",
     "text": [
      "CALLS\n",
      " Empty DataFrame\n",
      "Columns: [id, user_id, call_date, duration]\n",
      "Index: []\n",
      "\n",
      "INERNET\n",
      " Empty DataFrame\n",
      "Columns: [id, user_id, session_date, mb_used]\n",
      "Index: []\n",
      "\n",
      "MESSAGES\n",
      " Empty DataFrame\n",
      "Columns: [id, user_id, message_date]\n",
      "Index: []\n",
      "\n",
      "USERS\n",
      " Empty DataFrame\n",
      "Columns: [user_id, first_name, last_name, age, city, reg_date, plan, churn_date]\n",
      "Index: []\n",
      "\n",
      "481\n",
      "489\n",
      "402\n"
     ]
    }
   ],
   "source": [
    "# Checking for any duplicates and the number of unique users\n",
    "print('CALLS\\n', df_calls[df_calls.duplicated()])\n",
    "print('\\nINERNET\\n', df_internet[df_internet.duplicated()])\n",
    "print('\\nMESSAGES\\n', df_messages[df_messages.duplicated()])\n",
    "print('\\nUSERS\\n', df_users[df_users.duplicated()])\n",
    "print()\n",
    "print(df_calls['user_id'].nunique())\n",
    "print(df_internet['user_id'].nunique())\n",
    "print(df_messages['user_id'].nunique())"
   ]
  },
  {
   "cell_type": "markdown",
   "metadata": {},
   "source": [
    "We checked that there aren't any obvious duplicates for each of the data sets and that the number of users that appeared in each part of the plan (calls, texts, and internet usage). "
   ]
  },
  {
   "cell_type": "markdown",
   "metadata": {},
   "source": [
    "## Plans"
   ]
  },
  {
   "cell_type": "code",
   "execution_count": 8,
   "metadata": {},
   "outputs": [
    {
     "name": "stdout",
     "output_type": "stream",
     "text": [
      "PLANS\n",
      "<class 'pandas.core.frame.DataFrame'>\n",
      "RangeIndex: 2 entries, 0 to 1\n",
      "Data columns (total 8 columns):\n",
      " #   Column                 Non-Null Count  Dtype  \n",
      "---  ------                 --------------  -----  \n",
      " 0   messages_included      2 non-null      int64  \n",
      " 1   mb_per_month_included  2 non-null      int64  \n",
      " 2   minutes_included       2 non-null      int64  \n",
      " 3   usd_monthly_pay        2 non-null      int64  \n",
      " 4   usd_per_gb             2 non-null      int64  \n",
      " 5   usd_per_message        2 non-null      float64\n",
      " 6   usd_per_minute         2 non-null      float64\n",
      " 7   plan_name              2 non-null      object \n",
      "dtypes: float64(2), int64(5), object(1)\n",
      "memory usage: 256.0+ bytes\n",
      "None\n"
     ]
    }
   ],
   "source": [
    "# Print the general/summary information about the plans' DataFrame\n",
    "print('PLANS')\n",
    "print(df_plans.info())"
   ]
  },
  {
   "cell_type": "code",
   "execution_count": 9,
   "metadata": {
    "scrolled": true
   },
   "outputs": [
    {
     "name": "stdout",
     "output_type": "stream",
     "text": [
      "\n",
      "PLANS\n",
      "    messages_included  mb_per_month_included  minutes_included  \\\n",
      "0                 50                  15360               500   \n",
      "1               1000                  30720              3000   \n",
      "\n",
      "   usd_monthly_pay  usd_per_gb  usd_per_message  usd_per_minute plan_name  \n",
      "0               20          10             0.03            0.03      surf  \n",
      "1               70           7             0.01            0.01  ultimate  \n"
     ]
    }
   ],
   "source": [
    "# Print a sample of data for plans\n",
    "print('\\nPLANS\\n', df_plans)"
   ]
  },
  {
   "cell_type": "markdown",
   "metadata": {},
   "source": [
    "<!--[Describe what you see and notice in the general information and the printed data sample for the above price of data. Are there any issues (inappropriate data types, missing data etc) that may need further investigation and changes? How that can be fixed?]\n",
    "-->\n",
    "In the plans data set, there are no nulls, duplicates or data types needing to be changed. No adjustments were made to this data set yet."
   ]
  },
  {
   "cell_type": "markdown",
   "metadata": {},
   "source": [
    "<div class=\"alert alert-block alert-success\">\n",
    "<b>Reviewer's comment</b> <a class=\"tocSkip\"></a>\n",
    "\n",
    "Nice initial review.\n",
    "</div>"
   ]
  },
  {
   "cell_type": "markdown",
   "metadata": {},
   "source": [
    " "
   ]
  },
  {
   "cell_type": "markdown",
   "metadata": {},
   "source": [
    "## Fix data"
   ]
  },
  {
   "cell_type": "markdown",
   "metadata": {},
   "source": [
    "<!--[Fix obvious issues with the data given the initial observations.]-->\n",
    "\n",
    "We are going to add a gigabyte per month included column for a later calculation since we charge extra per gigabyte."
   ]
  },
  {
   "cell_type": "code",
   "execution_count": 10,
   "metadata": {},
   "outputs": [],
   "source": [
    "df_plans['gb_per_month_included'] = df_plans['mb_per_month_included']/1024\n"
   ]
  },
  {
   "cell_type": "markdown",
   "metadata": {},
   "source": [
    "## Enrich data"
   ]
  },
  {
   "cell_type": "markdown",
   "metadata": {},
   "source": [
    "<!--[Add additional factors to the data if you believe they might be useful.]\n",
    "-->\n",
    "We will check that the gb_per_month_included column was added correctly and ready for the calculations later."
   ]
  },
  {
   "cell_type": "code",
   "execution_count": 11,
   "metadata": {},
   "outputs": [
    {
     "name": "stdout",
     "output_type": "stream",
     "text": [
      "<class 'pandas.core.frame.DataFrame'>\n",
      "RangeIndex: 2 entries, 0 to 1\n",
      "Data columns (total 9 columns):\n",
      " #   Column                 Non-Null Count  Dtype  \n",
      "---  ------                 --------------  -----  \n",
      " 0   messages_included      2 non-null      int64  \n",
      " 1   mb_per_month_included  2 non-null      int64  \n",
      " 2   minutes_included       2 non-null      int64  \n",
      " 3   usd_monthly_pay        2 non-null      int64  \n",
      " 4   usd_per_gb             2 non-null      int64  \n",
      " 5   usd_per_message        2 non-null      float64\n",
      " 6   usd_per_minute         2 non-null      float64\n",
      " 7   plan_name              2 non-null      object \n",
      " 8   gb_per_month_included  2 non-null      float64\n",
      "dtypes: float64(3), int64(5), object(1)\n",
      "memory usage: 272.0+ bytes\n",
      "   messages_included  mb_per_month_included  minutes_included  \\\n",
      "0                 50                  15360               500   \n",
      "1               1000                  30720              3000   \n",
      "\n",
      "   usd_monthly_pay  usd_per_gb  usd_per_message  usd_per_minute plan_name  \\\n",
      "0               20          10             0.03            0.03      surf   \n",
      "1               70           7             0.01            0.01  ultimate   \n",
      "\n",
      "   gb_per_month_included  \n",
      "0                   15.0  \n",
      "1                   30.0  \n"
     ]
    }
   ],
   "source": [
    "df_plans.info()\n",
    "print(df_plans)"
   ]
  },
  {
   "cell_type": "markdown",
   "metadata": {},
   "source": [
    "## Users"
   ]
  },
  {
   "cell_type": "code",
   "execution_count": 12,
   "metadata": {},
   "outputs": [
    {
     "name": "stdout",
     "output_type": "stream",
     "text": [
      "<class 'pandas.core.frame.DataFrame'>\n",
      "RangeIndex: 500 entries, 0 to 499\n",
      "Data columns (total 8 columns):\n",
      " #   Column      Non-Null Count  Dtype \n",
      "---  ------      --------------  ----- \n",
      " 0   user_id     500 non-null    int64 \n",
      " 1   first_name  500 non-null    object\n",
      " 2   last_name   500 non-null    object\n",
      " 3   age         500 non-null    int64 \n",
      " 4   city        500 non-null    object\n",
      " 5   reg_date    500 non-null    object\n",
      " 6   plan        500 non-null    object\n",
      " 7   churn_date  34 non-null     object\n",
      "dtypes: int64(2), object(6)\n",
      "memory usage: 31.4+ KB\n",
      "['ultimate' 'surf']\n"
     ]
    }
   ],
   "source": [
    "# Print the general/summary information about the users' DataFrame\n",
    "df_users.info()\n",
    "print(df_users['plan'].unique())  # Making sure all users have a ultimate or surf plan"
   ]
  },
  {
   "cell_type": "code",
   "execution_count": 13,
   "metadata": {},
   "outputs": [
    {
     "data": {
      "text/html": [
       "<div>\n",
       "<style scoped>\n",
       "    .dataframe tbody tr th:only-of-type {\n",
       "        vertical-align: middle;\n",
       "    }\n",
       "\n",
       "    .dataframe tbody tr th {\n",
       "        vertical-align: top;\n",
       "    }\n",
       "\n",
       "    .dataframe thead th {\n",
       "        text-align: right;\n",
       "    }\n",
       "</style>\n",
       "<table border=\"1\" class=\"dataframe\">\n",
       "  <thead>\n",
       "    <tr style=\"text-align: right;\">\n",
       "      <th></th>\n",
       "      <th>user_id</th>\n",
       "      <th>first_name</th>\n",
       "      <th>last_name</th>\n",
       "      <th>age</th>\n",
       "      <th>city</th>\n",
       "      <th>reg_date</th>\n",
       "      <th>plan</th>\n",
       "      <th>churn_date</th>\n",
       "    </tr>\n",
       "  </thead>\n",
       "  <tbody>\n",
       "    <tr>\n",
       "      <th>364</th>\n",
       "      <td>1364</td>\n",
       "      <td>Clarine</td>\n",
       "      <td>Bonner</td>\n",
       "      <td>75</td>\n",
       "      <td>San Diego-Chula Vista-Carlsbad, CA MSA</td>\n",
       "      <td>2018-08-09</td>\n",
       "      <td>surf</td>\n",
       "      <td>NaN</td>\n",
       "    </tr>\n",
       "    <tr>\n",
       "      <th>154</th>\n",
       "      <td>1154</td>\n",
       "      <td>Humberto</td>\n",
       "      <td>Pruitt</td>\n",
       "      <td>53</td>\n",
       "      <td>Nashville-Davidson–Murfreesboro–Franklin, TN MSA</td>\n",
       "      <td>2018-07-18</td>\n",
       "      <td>ultimate</td>\n",
       "      <td>NaN</td>\n",
       "    </tr>\n",
       "    <tr>\n",
       "      <th>66</th>\n",
       "      <td>1066</td>\n",
       "      <td>Ariel</td>\n",
       "      <td>Woods</td>\n",
       "      <td>61</td>\n",
       "      <td>Boston-Cambridge-Newton, MA-NH MSA</td>\n",
       "      <td>2018-03-08</td>\n",
       "      <td>surf</td>\n",
       "      <td>NaN</td>\n",
       "    </tr>\n",
       "    <tr>\n",
       "      <th>414</th>\n",
       "      <td>1414</td>\n",
       "      <td>Georgianne</td>\n",
       "      <td>Herring</td>\n",
       "      <td>30</td>\n",
       "      <td>Urban Honolulu, HI MSA</td>\n",
       "      <td>2018-03-03</td>\n",
       "      <td>surf</td>\n",
       "      <td>2018-09-01</td>\n",
       "    </tr>\n",
       "    <tr>\n",
       "      <th>411</th>\n",
       "      <td>1411</td>\n",
       "      <td>Man</td>\n",
       "      <td>Fleming</td>\n",
       "      <td>64</td>\n",
       "      <td>Rochester, NY MSA</td>\n",
       "      <td>2018-08-10</td>\n",
       "      <td>surf</td>\n",
       "      <td>NaN</td>\n",
       "    </tr>\n",
       "  </tbody>\n",
       "</table>\n",
       "</div>"
      ],
      "text/plain": [
       "     user_id  first_name last_name  age  \\\n",
       "364     1364     Clarine    Bonner   75   \n",
       "154     1154    Humberto    Pruitt   53   \n",
       "66      1066       Ariel     Woods   61   \n",
       "414     1414  Georgianne   Herring   30   \n",
       "411     1411         Man   Fleming   64   \n",
       "\n",
       "                                                 city    reg_date      plan  \\\n",
       "364            San Diego-Chula Vista-Carlsbad, CA MSA  2018-08-09      surf   \n",
       "154  Nashville-Davidson–Murfreesboro–Franklin, TN MSA  2018-07-18  ultimate   \n",
       "66                 Boston-Cambridge-Newton, MA-NH MSA  2018-03-08      surf   \n",
       "414                            Urban Honolulu, HI MSA  2018-03-03      surf   \n",
       "411                                 Rochester, NY MSA  2018-08-10      surf   \n",
       "\n",
       "     churn_date  \n",
       "364         NaN  \n",
       "154         NaN  \n",
       "66          NaN  \n",
       "414  2018-09-01  \n",
       "411         NaN  "
      ]
     },
     "execution_count": 13,
     "metadata": {},
     "output_type": "execute_result"
    }
   ],
   "source": [
    "# Print a sample of data for users\n",
    "df_users.sample(5)\n",
    "# print(df_users[df_users['user_id']==1025])"
   ]
  },
  {
   "cell_type": "markdown",
   "metadata": {},
   "source": [
    "<!--[Describe what you see and notice in the general information and the printed data sample for the above price of data. Are there any issues (inappropriate data types, missing data etc) that may need further investigation and changes? How that can be fixed?]\n",
    "-->\n",
    "We will leave the churn_date column with null values since these are the customers that are still active."
   ]
  },
  {
   "cell_type": "markdown",
   "metadata": {},
   "source": [
    " "
   ]
  },
  {
   "cell_type": "markdown",
   "metadata": {},
   "source": [
    "### Fix Data"
   ]
  },
  {
   "cell_type": "markdown",
   "metadata": {},
   "source": [
    "<!--[Fix obvious issues with the data given the initial observations.]\n",
    "-->\n",
    "For the users data, we check to see if a user might have multiple accounts under their name, so we check for duplicated first and last names or duplicated IDs. We will also make sure the city column is a string type for an analysis we will perform later on."
   ]
  },
  {
   "cell_type": "code",
   "execution_count": 14,
   "metadata": {},
   "outputs": [
    {
     "name": "stdout",
     "output_type": "stream",
     "text": [
      "\n",
      "USER NAMES\n",
      " Empty DataFrame\n",
      "Columns: [user_id, first_name, last_name, age, city, reg_date, plan, churn_date]\n",
      "Index: []\n",
      "\n",
      "USER IDS\n",
      " Empty DataFrame\n",
      "Columns: [user_id, first_name, last_name, age, city, reg_date, plan, churn_date]\n",
      "Index: []\n"
     ]
    }
   ],
   "source": [
    "# Double checking just in case a user had multiple accounts\n",
    "print('\\nUSER NAMES\\n', df_users[df_users[['first_name', 'last_name']].duplicated()].sort_values(by='last_name'))  \n",
    "print('\\nUSER IDS\\n', df_users[df_users['user_id'].duplicated()])\n",
    "# print(len(df_users['city'].unique()))"
   ]
  },
  {
   "cell_type": "code",
   "execution_count": 15,
   "metadata": {},
   "outputs": [
    {
     "name": "stdout",
     "output_type": "stream",
     "text": [
      "     user_id  first_name   last_name  age  \\\n",
      "14      1014     Edmundo       Simon   61   \n",
      "22      1022          Bo        Snow   73   \n",
      "24      1024        Yuki       Tyson   74   \n",
      "27      1027  Georgeanna    Cardenas   38   \n",
      "28      1028    Jefferey   Rasmussen   57   \n",
      "..       ...         ...         ...  ...   \n",
      "469     1469        Rory       Nixon   75   \n",
      "482     1482      Armand       Glenn   70   \n",
      "494     1494     Preston       Downs   70   \n",
      "495     1495       Fidel      Sharpe   67   \n",
      "498     1498        Scot  Williamson   51   \n",
      "\n",
      "                                                city    reg_date      plan  \\\n",
      "14         New York-Newark-Jersey City, NY-NJ-PA MSA  2018-11-25      surf   \n",
      "22         New York-Newark-Jersey City, NY-NJ-PA MSA  2018-04-20      surf   \n",
      "24         New York-Newark-Jersey City, NY-NJ-PA MSA  2018-08-21      surf   \n",
      "27         New York-Newark-Jersey City, NY-NJ-PA MSA  2018-06-26      surf   \n",
      "28   Philadelphia-Camden-Wilmington, PA-NJ-DE-MD MSA  2018-02-21  ultimate   \n",
      "..                                               ...         ...       ...   \n",
      "469        New York-Newark-Jersey City, NY-NJ-PA MSA  2018-06-04      surf   \n",
      "482        New York-Newark-Jersey City, NY-NJ-PA MSA  2018-01-01  ultimate   \n",
      "494        New York-Newark-Jersey City, NY-NJ-PA MSA  2018-04-19      surf   \n",
      "495        New York-Newark-Jersey City, NY-NJ-PA MSA  2018-09-04      surf   \n",
      "498        New York-Newark-Jersey City, NY-NJ-PA MSA  2018-02-04      surf   \n",
      "\n",
      "     churn_date  \n",
      "14          NaN  \n",
      "22   2018-09-07  \n",
      "24          NaN  \n",
      "27          NaN  \n",
      "28          NaN  \n",
      "..          ...  \n",
      "469         NaN  \n",
      "482         NaN  \n",
      "494         NaN  \n",
      "495         NaN  \n",
      "498         NaN  \n",
      "\n",
      "[103 rows x 8 columns]\n"
     ]
    }
   ],
   "source": [
    "# Converting city into a string data type\n",
    "np.array_equal(df_users['city'], df_users['city'].astype('str'))  \n",
    "df_users['city'] = df_users['city'].astype(str)\n",
    "# Saving users from the NY-NJ area\n",
    "ny_nj_users = df_users[(df_users['city'].str.contains('NY')) | (df_users['city'].str.contains('NJ'))]\n",
    "print(ny_nj_users)\n",
    "# NY86, NJ97, NY_NJ80 \n",
    "# df_users.iloc[377]  df['col'].str.contains('partial_string')\n"
   ]
  },
  {
   "cell_type": "markdown",
   "metadata": {},
   "source": [
    "### Enrich Data"
   ]
  },
  {
   "cell_type": "markdown",
   "metadata": {},
   "source": [
    "<!--[Add additional factors to the data if you believe they might be useful.]\n",
    "-->\n",
    "For comparisons and calculations later, we will create a column denoting which users are from the NY-NJ regions."
   ]
  },
  {
   "cell_type": "code",
   "execution_count": 16,
   "metadata": {},
   "outputs": [
    {
     "name": "stdout",
     "output_type": "stream",
     "text": [
      "<class 'pandas.core.frame.DataFrame'>\n",
      "RangeIndex: 500 entries, 0 to 499\n",
      "Data columns (total 9 columns):\n",
      " #   Column      Non-Null Count  Dtype \n",
      "---  ------      --------------  ----- \n",
      " 0   user_id     500 non-null    int64 \n",
      " 1   first_name  500 non-null    object\n",
      " 2   last_name   500 non-null    object\n",
      " 3   age         500 non-null    int64 \n",
      " 4   city        500 non-null    object\n",
      " 5   reg_date    500 non-null    object\n",
      " 6   plan        500 non-null    object\n",
      " 7   churn_date  34 non-null     object\n",
      " 8   region      103 non-null    object\n",
      "dtypes: int64(2), object(7)\n",
      "memory usage: 35.3+ KB\n"
     ]
    }
   ],
   "source": [
    "# add region column for NY-NJ users\n",
    "def ny_nj_region(city):\n",
    "    if ('NY'in city) | ('NJ'in city): #city.str.contains('NJ'): (city.str.contains('NY')) | (city.str.contains('NJ')):\n",
    "        return 'ny-nj'\n",
    "\n",
    "# (df_users['city'].str.contains('NY')) | (df_users['city'].str.contains('NJ'))\n",
    "    \n",
    "df_users['region'] = df_users['city'].apply(ny_nj_region)\n",
    "# print(ny_nj_region('New York-Newark-Jersey City, NY-PA MSA'))\n",
    "df_users.info()\n"
   ]
  },
  {
   "cell_type": "markdown",
   "metadata": {},
   "source": [
    "## Calls"
   ]
  },
  {
   "cell_type": "code",
   "execution_count": 17,
   "metadata": {},
   "outputs": [
    {
     "name": "stdout",
     "output_type": "stream",
     "text": [
      "<class 'pandas.core.frame.DataFrame'>\n",
      "RangeIndex: 137735 entries, 0 to 137734\n",
      "Data columns (total 4 columns):\n",
      " #   Column     Non-Null Count   Dtype  \n",
      "---  ------     --------------   -----  \n",
      " 0   id         137735 non-null  object \n",
      " 1   user_id    137735 non-null  int64  \n",
      " 2   call_date  137735 non-null  object \n",
      " 3   duration   137735 non-null  float64\n",
      "dtypes: float64(1), int64(1), object(2)\n",
      "memory usage: 4.2+ MB\n"
     ]
    }
   ],
   "source": [
    "# Print the general/summary information about the calls' DataFrame\n",
    "# df_calls['call_date'] = pd.to_datetime(df_calls['call_date'], format='%Y-%m-%d')\n",
    "df_calls.info()\n"
   ]
  },
  {
   "cell_type": "code",
   "execution_count": 18,
   "metadata": {},
   "outputs": [
    {
     "data": {
      "text/html": [
       "<div>\n",
       "<style scoped>\n",
       "    .dataframe tbody tr th:only-of-type {\n",
       "        vertical-align: middle;\n",
       "    }\n",
       "\n",
       "    .dataframe tbody tr th {\n",
       "        vertical-align: top;\n",
       "    }\n",
       "\n",
       "    .dataframe thead th {\n",
       "        text-align: right;\n",
       "    }\n",
       "</style>\n",
       "<table border=\"1\" class=\"dataframe\">\n",
       "  <thead>\n",
       "    <tr style=\"text-align: right;\">\n",
       "      <th></th>\n",
       "      <th>id</th>\n",
       "      <th>user_id</th>\n",
       "      <th>call_date</th>\n",
       "      <th>duration</th>\n",
       "    </tr>\n",
       "  </thead>\n",
       "  <tbody>\n",
       "    <tr>\n",
       "      <th>122275</th>\n",
       "      <td>1432_125</td>\n",
       "      <td>1432</td>\n",
       "      <td>2018-12-08</td>\n",
       "      <td>6.04</td>\n",
       "    </tr>\n",
       "    <tr>\n",
       "      <th>110364</th>\n",
       "      <td>1389_445</td>\n",
       "      <td>1389</td>\n",
       "      <td>2018-05-12</td>\n",
       "      <td>6.24</td>\n",
       "    </tr>\n",
       "    <tr>\n",
       "      <th>64310</th>\n",
       "      <td>1232_639</td>\n",
       "      <td>1232</td>\n",
       "      <td>2018-11-23</td>\n",
       "      <td>0.67</td>\n",
       "    </tr>\n",
       "    <tr>\n",
       "      <th>2461</th>\n",
       "      <td>1010_30</td>\n",
       "      <td>1010</td>\n",
       "      <td>2018-08-06</td>\n",
       "      <td>12.25</td>\n",
       "    </tr>\n",
       "    <tr>\n",
       "      <th>76672</th>\n",
       "      <td>1273_387</td>\n",
       "      <td>1273</td>\n",
       "      <td>2018-11-27</td>\n",
       "      <td>15.06</td>\n",
       "    </tr>\n",
       "  </tbody>\n",
       "</table>\n",
       "</div>"
      ],
      "text/plain": [
       "              id  user_id   call_date  duration\n",
       "122275  1432_125     1432  2018-12-08      6.04\n",
       "110364  1389_445     1389  2018-05-12      6.24\n",
       "64310   1232_639     1232  2018-11-23      0.67\n",
       "2461     1010_30     1010  2018-08-06     12.25\n",
       "76672   1273_387     1273  2018-11-27     15.06"
      ]
     },
     "execution_count": 18,
     "metadata": {},
     "output_type": "execute_result"
    }
   ],
   "source": [
    "# Print a sample of data for calls\n",
    "df_calls.sample(5)\n"
   ]
  },
  {
   "cell_type": "markdown",
   "metadata": {},
   "source": [
    "<!--[Describe what you see and notice in the general information and the printed data sample for the above price of data. Are there any issues (inappropriate data types, missing data etc) that may need further investigation and changes? How that can be fixed?]\n",
    "-->\n",
    "We are going to change the date columns to the appropriate datetime type to be able to work with it later on."
   ]
  },
  {
   "cell_type": "markdown",
   "metadata": {},
   "source": [
    " "
   ]
  },
  {
   "cell_type": "markdown",
   "metadata": {},
   "source": [
    "### Fix data"
   ]
  },
  {
   "cell_type": "markdown",
   "metadata": {},
   "source": [
    "<!--[Fix obvious issues with the data given the initial observations.]-->\n",
    "First, we have to make sure the date is formatted correctly."
   ]
  },
  {
   "cell_type": "code",
   "execution_count": 19,
   "metadata": {},
   "outputs": [
    {
     "name": "stdout",
     "output_type": "stream",
     "text": [
      "<class 'pandas.core.frame.DataFrame'>\n",
      "RangeIndex: 137735 entries, 0 to 137734\n",
      "Data columns (total 4 columns):\n",
      " #   Column     Non-Null Count   Dtype         \n",
      "---  ------     --------------   -----         \n",
      " 0   id         137735 non-null  object        \n",
      " 1   user_id    137735 non-null  int64         \n",
      " 2   call_date  137735 non-null  datetime64[ns]\n",
      " 3   duration   137735 non-null  float64       \n",
      "dtypes: datetime64[ns](1), float64(1), int64(1), object(1)\n",
      "memory usage: 4.2+ MB\n"
     ]
    }
   ],
   "source": [
    "df_calls['call_date'] = pd.to_datetime(df_calls['call_date'], format='%Y-%m-%d')\n",
    "df_calls.info()\n",
    "# print(df_calls[df_calls.duplicated()])"
   ]
  },
  {
   "cell_type": "markdown",
   "metadata": {},
   "source": [
    "### Enrich data"
   ]
  },
  {
   "cell_type": "markdown",
   "metadata": {},
   "source": [
    "<!--[Add additional factors to the data if you believe they might be useful.]\n",
    "-->\n",
    "In order to do some of our calculations and comparisons, a month column will be created to the calls data in which the number of the month will be extracted from the call_date column."
   ]
  },
  {
   "cell_type": "code",
   "execution_count": 20,
   "metadata": {},
   "outputs": [
    {
     "name": "stdout",
     "output_type": "stream",
     "text": [
      "              id  user_id  call_date  duration  month\n",
      "68872   1247_205     1247 2018-11-10     11.19     11\n",
      "4414    1018_338     1018 2018-11-05     20.00     11\n",
      "33494   1126_179     1126 2018-10-26     17.02     10\n",
      "23626    1088_12     1088 2018-07-31      0.00      7\n",
      "52495   1187_688     1187 2018-08-09      0.00      8\n",
      "76436    1271_59     1271 2018-12-31     11.33     12\n",
      "107201  1380_418     1380 2018-10-02      0.25     10\n",
      "23789   1088_274     1088 2018-12-01      4.47     12\n",
      "115578  1404_372     1404 2018-10-14      7.08     10\n",
      "55752   1199_455     1199 2018-10-07     14.18     10\n",
      "Empty DataFrame\n",
      "Columns: [id, user_id, call_date, duration, month]\n",
      "Index: []\n"
     ]
    }
   ],
   "source": [
    "df_calls['month'] = df_calls['call_date'].dt.month\n",
    "print(df_calls.sample(10))\n",
    "print(df_calls[df_calls['user_id']==1025])"
   ]
  },
  {
   "cell_type": "markdown",
   "metadata": {},
   "source": [
    "## Messages"
   ]
  },
  {
   "cell_type": "code",
   "execution_count": 21,
   "metadata": {},
   "outputs": [
    {
     "name": "stdout",
     "output_type": "stream",
     "text": [
      "<class 'pandas.core.frame.DataFrame'>\n",
      "RangeIndex: 76051 entries, 0 to 76050\n",
      "Data columns (total 3 columns):\n",
      " #   Column        Non-Null Count  Dtype \n",
      "---  ------        --------------  ----- \n",
      " 0   id            76051 non-null  object\n",
      " 1   user_id       76051 non-null  int64 \n",
      " 2   message_date  76051 non-null  object\n",
      "dtypes: int64(1), object(2)\n",
      "memory usage: 1.7+ MB\n"
     ]
    }
   ],
   "source": [
    "# Print the general/summary information about the messages' DataFrame\n",
    "df_messages.info()\n"
   ]
  },
  {
   "cell_type": "code",
   "execution_count": 22,
   "metadata": {},
   "outputs": [
    {
     "data": {
      "text/html": [
       "<div>\n",
       "<style scoped>\n",
       "    .dataframe tbody tr th:only-of-type {\n",
       "        vertical-align: middle;\n",
       "    }\n",
       "\n",
       "    .dataframe tbody tr th {\n",
       "        vertical-align: top;\n",
       "    }\n",
       "\n",
       "    .dataframe thead th {\n",
       "        text-align: right;\n",
       "    }\n",
       "</style>\n",
       "<table border=\"1\" class=\"dataframe\">\n",
       "  <thead>\n",
       "    <tr style=\"text-align: right;\">\n",
       "      <th></th>\n",
       "      <th>id</th>\n",
       "      <th>user_id</th>\n",
       "      <th>message_date</th>\n",
       "    </tr>\n",
       "  </thead>\n",
       "  <tbody>\n",
       "    <tr>\n",
       "      <th>10495</th>\n",
       "      <td>1076_1118</td>\n",
       "      <td>1076</td>\n",
       "      <td>2018-08-26</td>\n",
       "    </tr>\n",
       "    <tr>\n",
       "      <th>73809</th>\n",
       "      <td>1474_166</td>\n",
       "      <td>1474</td>\n",
       "      <td>2018-12-28</td>\n",
       "    </tr>\n",
       "    <tr>\n",
       "      <th>27861</th>\n",
       "      <td>1172_318</td>\n",
       "      <td>1172</td>\n",
       "      <td>2018-10-12</td>\n",
       "    </tr>\n",
       "    <tr>\n",
       "      <th>58839</th>\n",
       "      <td>1374_13</td>\n",
       "      <td>1374</td>\n",
       "      <td>2018-09-06</td>\n",
       "    </tr>\n",
       "  </tbody>\n",
       "</table>\n",
       "</div>"
      ],
      "text/plain": [
       "              id  user_id message_date\n",
       "10495  1076_1118     1076   2018-08-26\n",
       "73809   1474_166     1474   2018-12-28\n",
       "27861   1172_318     1172   2018-10-12\n",
       "58839    1374_13     1374   2018-09-06"
      ]
     },
     "execution_count": 22,
     "metadata": {},
     "output_type": "execute_result"
    }
   ],
   "source": [
    "# Print a sample of data for messages\n",
    "df_messages.sample(4)\n"
   ]
  },
  {
   "cell_type": "markdown",
   "metadata": {},
   "source": [
    "<!--[Describe what you see and notice in the general information and the printed data sample for the above price of data. Are there any issues (inappropriate data types, missing data etc) that may need further investigation and changes? How that can be fixed?]\n",
    "-->\n",
    "In order to do some of our calculations and comparisons, a month column will be created to the messages data in which the number of the month will be extracted from the message_date column."
   ]
  },
  {
   "cell_type": "markdown",
   "metadata": {},
   "source": [
    " "
   ]
  },
  {
   "cell_type": "markdown",
   "metadata": {},
   "source": [
    "### Fix data"
   ]
  },
  {
   "cell_type": "markdown",
   "metadata": {},
   "source": [
    "<!--[Fix obvious issues with the data given the initial observations.]\n",
    "-->\n",
    "We first need to convert the message_date column into a datetime data type."
   ]
  },
  {
   "cell_type": "code",
   "execution_count": 23,
   "metadata": {},
   "outputs": [
    {
     "name": "stdout",
     "output_type": "stream",
     "text": [
      "<class 'pandas.core.frame.DataFrame'>\n",
      "RangeIndex: 76051 entries, 0 to 76050\n",
      "Data columns (total 3 columns):\n",
      " #   Column        Non-Null Count  Dtype         \n",
      "---  ------        --------------  -----         \n",
      " 0   id            76051 non-null  object        \n",
      " 1   user_id       76051 non-null  int64         \n",
      " 2   message_date  76051 non-null  datetime64[ns]\n",
      "dtypes: datetime64[ns](1), int64(1), object(1)\n",
      "memory usage: 1.7+ MB\n"
     ]
    }
   ],
   "source": [
    "df_messages['message_date'] = pd.to_datetime(df_messages['message_date'], format='%Y-%m-%d')\n",
    "df_messages.info()"
   ]
  },
  {
   "cell_type": "markdown",
   "metadata": {},
   "source": [
    "### Enrich data"
   ]
  },
  {
   "cell_type": "markdown",
   "metadata": {},
   "source": [
    "<!--[Add additional factors to the data if you believe they might be useful.]\n",
    "-->\n",
    "We add a month column to denote the month in which the message was sent. This will help for some calculations and comparisons later."
   ]
  },
  {
   "cell_type": "code",
   "execution_count": 24,
   "metadata": {},
   "outputs": [
    {
     "name": "stdout",
     "output_type": "stream",
     "text": [
      "             id  user_id message_date  month\n",
      "23904  1144_400     1144   2018-11-01     11\n",
      "5859   1054_226     1054   2018-10-21     10\n",
      "66842  1434_394     1434   2018-07-10      7\n",
      "12793   1084_33     1084   2018-10-28     10\n",
      "32640  1203_285     1203   2018-06-18      6\n",
      "39919  1258_410     1258   2018-10-09     10\n",
      "52702  1336_729     1336   2018-06-15      6\n",
      "32615  1203_260     1203   2018-05-02      5\n",
      "40317  1260_139     1260   2018-12-07     12\n",
      "27620   1172_77     1172   2018-12-12     12\n"
     ]
    }
   ],
   "source": [
    "df_messages['month'] = df_messages['message_date'].dt.month\n",
    "print(df_messages.sample(10))"
   ]
  },
  {
   "cell_type": "markdown",
   "metadata": {},
   "source": [
    "## Internet"
   ]
  },
  {
   "cell_type": "code",
   "execution_count": 25,
   "metadata": {},
   "outputs": [
    {
     "name": "stdout",
     "output_type": "stream",
     "text": [
      "<class 'pandas.core.frame.DataFrame'>\n",
      "RangeIndex: 104825 entries, 0 to 104824\n",
      "Data columns (total 4 columns):\n",
      " #   Column        Non-Null Count   Dtype  \n",
      "---  ------        --------------   -----  \n",
      " 0   id            104825 non-null  object \n",
      " 1   user_id       104825 non-null  int64  \n",
      " 2   session_date  104825 non-null  object \n",
      " 3   mb_used       104825 non-null  float64\n",
      "dtypes: float64(1), int64(1), object(2)\n",
      "memory usage: 3.2+ MB\n"
     ]
    }
   ],
   "source": [
    "# Print the general/summary information about the internet DataFrame\n",
    "df_internet.info()\n"
   ]
  },
  {
   "cell_type": "code",
   "execution_count": 26,
   "metadata": {},
   "outputs": [
    {
     "data": {
      "text/html": [
       "<div>\n",
       "<style scoped>\n",
       "    .dataframe tbody tr th:only-of-type {\n",
       "        vertical-align: middle;\n",
       "    }\n",
       "\n",
       "    .dataframe tbody tr th {\n",
       "        vertical-align: top;\n",
       "    }\n",
       "\n",
       "    .dataframe thead th {\n",
       "        text-align: right;\n",
       "    }\n",
       "</style>\n",
       "<table border=\"1\" class=\"dataframe\">\n",
       "  <thead>\n",
       "    <tr style=\"text-align: right;\">\n",
       "      <th></th>\n",
       "      <th>id</th>\n",
       "      <th>user_id</th>\n",
       "      <th>session_date</th>\n",
       "      <th>mb_used</th>\n",
       "    </tr>\n",
       "  </thead>\n",
       "  <tbody>\n",
       "    <tr>\n",
       "      <th>72383</th>\n",
       "      <td>1336_441</td>\n",
       "      <td>1336</td>\n",
       "      <td>2018-12-09</td>\n",
       "      <td>124.33</td>\n",
       "    </tr>\n",
       "    <tr>\n",
       "      <th>44323</th>\n",
       "      <td>1196_330</td>\n",
       "      <td>1196</td>\n",
       "      <td>2018-08-02</td>\n",
       "      <td>634.57</td>\n",
       "    </tr>\n",
       "    <tr>\n",
       "      <th>28866</th>\n",
       "      <td>1132_304</td>\n",
       "      <td>1132</td>\n",
       "      <td>2018-12-16</td>\n",
       "      <td>368.93</td>\n",
       "    </tr>\n",
       "    <tr>\n",
       "      <th>66824</th>\n",
       "      <td>1312_47</td>\n",
       "      <td>1312</td>\n",
       "      <td>2018-04-05</td>\n",
       "      <td>624.49</td>\n",
       "    </tr>\n",
       "  </tbody>\n",
       "</table>\n",
       "</div>"
      ],
      "text/plain": [
       "             id  user_id session_date  mb_used\n",
       "72383  1336_441     1336   2018-12-09   124.33\n",
       "44323  1196_330     1196   2018-08-02   634.57\n",
       "28866  1132_304     1132   2018-12-16   368.93\n",
       "66824   1312_47     1312   2018-04-05   624.49"
      ]
     },
     "execution_count": 26,
     "metadata": {},
     "output_type": "execute_result"
    }
   ],
   "source": [
    "# Print a sample of data for the internet traffic\n",
    "df_internet.sample(4)\n"
   ]
  },
  {
   "cell_type": "markdown",
   "metadata": {},
   "source": [
    "<!--[Describe what you see and notice in the general information and the printed data sample for the above price of data. Are there any issues (inappropriate data types, missing data etc) that may need further investigation and changes? How that can be fixed?]\n",
    "-->\n",
    "As of now, the session_date column is just and object type. We will convert that into a usable data type shortly."
   ]
  },
  {
   "cell_type": "markdown",
   "metadata": {},
   "source": [
    " "
   ]
  },
  {
   "cell_type": "markdown",
   "metadata": {},
   "source": [
    "### Fix data"
   ]
  },
  {
   "cell_type": "markdown",
   "metadata": {},
   "source": [
    "<!--[Fix obvious issues with the data given the initial observations.]\n",
    "-->\n",
    "We want to reformat the session_date column into a datetime data type."
   ]
  },
  {
   "cell_type": "code",
   "execution_count": 27,
   "metadata": {},
   "outputs": [
    {
     "name": "stdout",
     "output_type": "stream",
     "text": [
      "<class 'pandas.core.frame.DataFrame'>\n",
      "RangeIndex: 104825 entries, 0 to 104824\n",
      "Data columns (total 4 columns):\n",
      " #   Column        Non-Null Count   Dtype         \n",
      "---  ------        --------------   -----         \n",
      " 0   id            104825 non-null  object        \n",
      " 1   user_id       104825 non-null  int64         \n",
      " 2   session_date  104825 non-null  datetime64[ns]\n",
      " 3   mb_used       104825 non-null  float64       \n",
      "dtypes: datetime64[ns](1), float64(1), int64(1), object(1)\n",
      "memory usage: 3.2+ MB\n"
     ]
    }
   ],
   "source": [
    "df_internet['session_date'] = pd.to_datetime(df_internet['session_date'], format='%Y-%m-%d')\n",
    "df_internet.info()"
   ]
  },
  {
   "cell_type": "markdown",
   "metadata": {},
   "source": [
    "### Enrich data"
   ]
  },
  {
   "cell_type": "markdown",
   "metadata": {},
   "source": [
    "<!--[Add additional factors to the data if you believe they might be useful.]\n",
    "-->\n",
    "In order to do some comparisons later, we will add the month column to the internet data set."
   ]
  },
  {
   "cell_type": "code",
   "execution_count": 28,
   "metadata": {},
   "outputs": [
    {
     "name": "stdout",
     "output_type": "stream",
     "text": [
      "             id  user_id session_date  mb_used  month\n",
      "3485    1020_25     1020   2018-12-22     0.00     12\n",
      "64130   1294_51     1294   2018-10-11   906.16     10\n",
      "93471   1436_94     1436   2018-10-06    56.42     10\n",
      "65791  1304_319     1304   2018-12-28   278.72     12\n",
      "15823   1072_42     1072   2018-11-24   436.01     11\n"
     ]
    }
   ],
   "source": [
    "df_internet['month'] = df_internet['session_date'].dt.month\n",
    "print(df_internet.sample(5))"
   ]
  },
  {
   "cell_type": "markdown",
   "metadata": {},
   "source": [
    "## Study plan conditions"
   ]
  },
  {
   "cell_type": "markdown",
   "metadata": {},
   "source": [
    "<!--[It is critical to understand how the plans work, how users are charged based on their plan subscription. So, we suggest printing out the plan information to view their conditions once again.]-->\n",
    "We print out each of the plan's info to know how much is charged for each attribute of the plans."
   ]
  },
  {
   "cell_type": "code",
   "execution_count": 29,
   "metadata": {},
   "outputs": [
    {
     "name": "stdout",
     "output_type": "stream",
     "text": [
      "   messages_included  mb_per_month_included  minutes_included  \\\n",
      "0                 50                  15360               500   \n",
      "1               1000                  30720              3000   \n",
      "\n",
      "   usd_monthly_pay  usd_per_gb  usd_per_message  usd_per_minute plan_name  \\\n",
      "0               20          10             0.03            0.03      surf   \n",
      "1               70           7             0.01            0.01  ultimate   \n",
      "\n",
      "   gb_per_month_included  \n",
      "0                   15.0  \n",
      "1                   30.0  \n",
      "            id  user_id  call_date  duration  month\n",
      "92674  1334_42     1334 2018-04-23     11.41      4\n"
     ]
    }
   ],
   "source": [
    "# Print out the plan conditions and make sure they are clear for you\n",
    "print(df_plans)\n",
    "print(df_calls.sample())"
   ]
  },
  {
   "cell_type": "markdown",
   "metadata": {},
   "source": [
    "<div class=\"alert alert-block alert-success\">\n",
    "<b>Reviewer's comment</b> <a class=\"tocSkip\"></a>\n",
    "\n",
    "Good job.\n",
    "</div>"
   ]
  },
  {
   "cell_type": "markdown",
   "metadata": {},
   "source": [
    "## Aggregate data per user\n",
    "\n",
    "<!--[Now, as the data is clean, aggregate data per user per period in order to have just one record per user per period. It should ease the further analysis a lot.]\n",
    "-->\n",
    "We will create new dataframes out of the pivot tables created by the user IDs, the month, and the counts or sums of each type of telecom piece of data."
   ]
  },
  {
   "cell_type": "code",
   "execution_count": 30,
   "metadata": {},
   "outputs": [
    {
     "name": "stdout",
     "output_type": "stream",
     "text": [
      "      user_id  month  num_calls\n",
      "0        1000     12         16\n",
      "1        1001      8         27\n",
      "2        1001      9         49\n",
      "3        1001     10         65\n",
      "4        1001     11         64\n",
      "...       ...    ...        ...\n",
      "2253     1498     12         39\n",
      "2254     1499      9         41\n",
      "2255     1499     10         53\n",
      "2256     1499     11         45\n",
      "2257     1499     12         65\n",
      "\n",
      "[2258 rows x 3 columns]\n",
      "    user_id  month  num_calls\n",
      "0      1000     12         16\n",
      "1      1001      8         27\n",
      "2      1001      9         49\n",
      "3      1001     10         65\n",
      "4      1001     11         64\n",
      "5      1001     12         56\n",
      "6      1002     10         11\n",
      "7      1002     11         55\n",
      "8      1002     12         47\n",
      "9      1003     12        149\n",
      "10     1004      5         21\n",
      "11     1004      6         44\n",
      "user_id  month\n",
      "1000     12        16\n",
      "1001     8         27\n",
      "         9         49\n",
      "         10        65\n",
      "         11        64\n",
      "         12        56\n",
      "1002     10        11\n",
      "         11        55\n",
      "         12        47\n",
      "1003     12       149\n",
      "1004     5         21\n",
      "         6         44\n",
      "Name: duration, dtype: int64\n"
     ]
    }
   ],
   "source": [
    "# Calculate the number of calls made by each user per month. Save the result.\n",
    "calls_per_user = df_calls.groupby(['user_id', 'month'])['duration'].count().reset_index()\n",
    "calls_per_user.columns = ['user_id', 'month', 'num_calls']  # inplace=True)\n",
    "print(calls_per_user)\n",
    "print(calls_per_user.head(12))\n",
    "print(df_calls.groupby(['user_id', 'month'])['duration'].count().head(12))"
   ]
  },
  {
   "cell_type": "code",
   "execution_count": 31,
   "metadata": {},
   "outputs": [
    {
     "name": "stdout",
     "output_type": "stream",
     "text": [
      "      user_id  month  duration\n",
      "0        1000     12     117.0\n",
      "1        1001      8     172.0\n",
      "2        1001      9     298.0\n",
      "3        1001     10     375.0\n",
      "4        1001     11     405.0\n",
      "...       ...    ...       ...\n",
      "2253     1498     12     325.0\n",
      "2254     1499      9     331.0\n",
      "2255     1499     10     364.0\n",
      "2256     1499     11     289.0\n",
      "2257     1499     12     469.0\n",
      "\n",
      "[2258 rows x 3 columns]\n"
     ]
    }
   ],
   "source": [
    "# Calculate the amount of minutes spent by each user per month. Save the result.\n",
    "mins_per_user = df_calls.groupby(['user_id', 'month'])['duration'].sum().reset_index()\n",
    "mins_per_user['duration'] = np.ceil(mins_per_user['duration']) # Rounding up the duration column since the plans charge even if there is a decimal amount\n",
    "print(mins_per_user)\n",
    "# type(mins_per_user)"
   ]
  },
  {
   "cell_type": "code",
   "execution_count": 32,
   "metadata": {},
   "outputs": [
    {
     "name": "stdout",
     "output_type": "stream",
     "text": [
      "      user_id  month  num_msgs\n",
      "0        1000     12        11\n",
      "1        1001      8        30\n",
      "2        1001      9        44\n",
      "3        1001     10        53\n",
      "4        1001     11        36\n",
      "...       ...    ...       ...\n",
      "1801     1496      9        21\n",
      "1802     1496     10        18\n",
      "1803     1496     11        13\n",
      "1804     1496     12        11\n",
      "1805     1497     12        50\n",
      "\n",
      "[1806 rows x 3 columns]\n"
     ]
    }
   ],
   "source": [
    "# Calculate the number of messages sent by each user per month. Save the result.\n",
    "messages_per_user = df_messages.groupby(['user_id', 'month'])['id'].count().reset_index()\n",
    "messages_per_user.columns = ['user_id', 'month', 'num_msgs']\n",
    "print(messages_per_user)\n",
    "# print(messages_per_user[messages_per_user['user_id']==1025])"
   ]
  },
  {
   "cell_type": "code",
   "execution_count": 33,
   "metadata": {},
   "outputs": [
    {
     "name": "stdout",
     "output_type": "stream",
     "text": [
      "      user_id  month   mb_used  gb_used\n",
      "0        1000     12   1901.47      2.0\n",
      "1        1001      8   6919.15      7.0\n",
      "2        1001      9  13314.82     14.0\n",
      "3        1001     10  22330.49     22.0\n",
      "4        1001     11  18504.30     19.0\n",
      "...       ...    ...       ...      ...\n",
      "2272     1498     12  23137.69     23.0\n",
      "2273     1499      9  12984.76     13.0\n",
      "2274     1499     10  19492.43     20.0\n",
      "2275     1499     11  16813.83     17.0\n",
      "2276     1499     12  22059.21     22.0\n",
      "\n",
      "[2277 rows x 4 columns]\n"
     ]
    }
   ],
   "source": [
    "# Calculate the volume of internet traffic used by each user per month. Save the result.\n",
    "gb_per_user = df_internet.groupby(['user_id', 'month'])['mb_used'].sum().reset_index()\n",
    "\n",
    "gb_per_user['gb_used'] = gb_per_user['mb_used']/1024\n",
    "gb_per_user['gb_used'] = np.ceil(gb_per_user['gb_used']) # Rounding up the gb_used column since the plans charge even if there is a decimal amount\n",
    "print(gb_per_user)"
   ]
  },
  {
   "cell_type": "markdown",
   "metadata": {},
   "source": [
    "<div class=\"alert alert-block alert-success\">\n",
    "<b>Reviewer's comment</b> <a class=\"tocSkip\"></a>\n",
    "\n",
    "Well done!\n",
    "</div>"
   ]
  },
  {
   "cell_type": "markdown",
   "metadata": {},
   "source": [
    "<!--[Put the aggregate data together into one DataFrame so that one record in it would represent what an unique user consumed in a given month.]\n",
    "-->\n",
    "For each user and each of their months, we will make a new dataframe using an outer merge. Nulls should fill months that might have one or more pieces of info missing since not every customer uses each part of their plan. We will fill the nulls in with appropriate info what is needed for calculation later on."
   ]
  },
  {
   "cell_type": "code",
   "execution_count": 34,
   "metadata": {},
   "outputs": [
    {
     "name": "stdout",
     "output_type": "stream",
     "text": [
      "      user_id  month  num_calls  duration\n",
      "0        1000     12         16     117.0\n",
      "1        1001      8         27     172.0\n",
      "2        1001      9         49     298.0\n",
      "3        1001     10         65     375.0\n",
      "4        1001     11         64     405.0\n",
      "...       ...    ...        ...       ...\n",
      "2253     1498     12         39     325.0\n",
      "2254     1499      9         41     331.0\n",
      "2255     1499     10         53     364.0\n",
      "2256     1499     11         45     289.0\n",
      "2257     1499     12         65     469.0\n",
      "\n",
      "[2258 rows x 4 columns]\n",
      "<class 'pandas.core.frame.DataFrame'>\n",
      "Int64Index: 2291 entries, 0 to 2290\n",
      "Data columns (total 5 columns):\n",
      " #   Column     Non-Null Count  Dtype  \n",
      "---  ------     --------------  -----  \n",
      " 0   user_id    2291 non-null   int64  \n",
      " 1   month      2291 non-null   int64  \n",
      " 2   num_calls  2258 non-null   float64\n",
      " 3   duration   2258 non-null   float64\n",
      " 4   num_msgs   1806 non-null   float64\n",
      "dtypes: float64(3), int64(2)\n",
      "memory usage: 107.4 KB\n",
      "None\n",
      "      user_id  month  num_calls  duration  num_msgs   mb_used  gb_used\n",
      "0        1000     12       16.0     117.0      11.0   1901.47      2.0\n",
      "1        1001      8       27.0     172.0      30.0   6919.15      7.0\n",
      "2        1001      9       49.0     298.0      44.0  13314.82     14.0\n",
      "3        1001     10       65.0     375.0      53.0  22330.49     22.0\n",
      "4        1001     11       64.0     405.0      36.0  18504.30     19.0\n",
      "...       ...    ...        ...       ...       ...       ...      ...\n",
      "2288     1349     12        NaN       NaN      61.0  13039.91     13.0\n",
      "2289     1361      5        NaN       NaN       2.0   1519.69      2.0\n",
      "2290     1482     10        NaN       NaN       2.0       NaN      NaN\n",
      "2291     1108     12        NaN       NaN       NaN    233.17      1.0\n",
      "2292     1311      6        NaN       NaN       NaN   1498.83      2.0\n",
      "\n",
      "[2293 rows x 7 columns]\n"
     ]
    }
   ],
   "source": [
    "# Merge the data for calls, minutes, messages, internet based on user_id and month\n",
    "# user_month_merge = calls_per_user, mins_per_user, messages_per_user, gb_per_user\n",
    "calls_merge = calls_per_user.merge(mins_per_user, on=['user_id', 'month'], how='outer')\n",
    "print(calls_merge)\n",
    "calls_msg_merge = calls_merge.merge(messages_per_user, on=['user_id', 'month'], how='outer')\n",
    "print(calls_msg_merge.info())\n",
    "# print(calls_msg_merge[calls_msg_merge['user_id']==1499])\n",
    "calls_msg_gb_merge = calls_msg_merge.merge(gb_per_user, on=['user_id', 'month'], how='outer')\n",
    "print(calls_msg_gb_merge)"
   ]
  },
  {
   "cell_type": "code",
   "execution_count": 35,
   "metadata": {},
   "outputs": [
    {
     "name": "stdout",
     "output_type": "stream",
     "text": [
      "<class 'pandas.core.frame.DataFrame'>\n",
      "RangeIndex: 2293 entries, 0 to 2292\n",
      "Data columns (total 15 columns):\n",
      " #   Column      Non-Null Count  Dtype  \n",
      "---  ------      --------------  -----  \n",
      " 0   user_id     2293 non-null   int64  \n",
      " 1   first_name  2293 non-null   object \n",
      " 2   last_name   2293 non-null   object \n",
      " 3   age         2293 non-null   int64  \n",
      " 4   city        2293 non-null   object \n",
      " 5   reg_date    2293 non-null   object \n",
      " 6   plan        2293 non-null   object \n",
      " 7   churn_date  158 non-null    object \n",
      " 8   region      488 non-null    object \n",
      " 9   month       2293 non-null   float64\n",
      " 10  num_calls   2258 non-null   float64\n",
      " 11  duration    2258 non-null   float64\n",
      " 12  num_msgs    1806 non-null   float64\n",
      " 13  mb_used     2277 non-null   float64\n",
      " 14  gb_used     2277 non-null   float64\n",
      "dtypes: float64(6), int64(2), object(7)\n",
      "memory usage: 268.8+ KB\n",
      "None\n",
      "<class 'pandas.core.frame.DataFrame'>\n",
      "RangeIndex: 2293 entries, 0 to 2292\n",
      "Data columns (total 9 columns):\n",
      " #   Column     Non-Null Count  Dtype  \n",
      "---  ------     --------------  -----  \n",
      " 0   user_id    2293 non-null   int64  \n",
      " 1   plan       2293 non-null   object \n",
      " 2   region     2293 non-null   object \n",
      " 3   month      2293 non-null   float64\n",
      " 4   num_calls  2293 non-null   float64\n",
      " 5   duration   2293 non-null   float64\n",
      " 6   num_msgs   2293 non-null   float64\n",
      " 7   mb_used    2293 non-null   float64\n",
      " 8   gb_used    2293 non-null   float64\n",
      "dtypes: float64(6), int64(1), object(2)\n",
      "memory usage: 161.4+ KB\n",
      "None\n",
      "      user_id      plan region  month  num_calls  duration  num_msgs  \\\n",
      "0        1000  ultimate          12.0       16.0     117.0      11.0   \n",
      "1        1001      surf           8.0       27.0     172.0      30.0   \n",
      "2        1001      surf           9.0       49.0     298.0      44.0   \n",
      "3        1001      surf          10.0       65.0     375.0      53.0   \n",
      "4        1001      surf          11.0       64.0     405.0      36.0   \n",
      "...       ...       ...    ...    ...        ...       ...       ...   \n",
      "2288     1498      surf  ny-nj   12.0       39.0     325.0       0.0   \n",
      "2289     1499      surf           9.0       41.0     331.0       0.0   \n",
      "2290     1499      surf          10.0       53.0     364.0       0.0   \n",
      "2291     1499      surf          11.0       45.0     289.0       0.0   \n",
      "2292     1499      surf          12.0       65.0     469.0       0.0   \n",
      "\n",
      "       mb_used  gb_used  \n",
      "0      1901.47      2.0  \n",
      "1      6919.15      7.0  \n",
      "2     13314.82     14.0  \n",
      "3     22330.49     22.0  \n",
      "4     18504.30     19.0  \n",
      "...        ...      ...  \n",
      "2288  23137.69     23.0  \n",
      "2289  12984.76     13.0  \n",
      "2290  19492.43     20.0  \n",
      "2291  16813.83     17.0  \n",
      "2292  22059.21     22.0  \n",
      "\n",
      "[2293 rows x 9 columns]\n"
     ]
    }
   ],
   "source": [
    "# Add the plan information\n",
    "user_month_merge = df_users.merge(calls_msg_gb_merge, on='user_id', how='outer')\n",
    "# print(user_month_merge.info())\n",
    "user_month_merged = user_month_merge[~user_month_merge['month'].isna()].reset_index(drop=True)  # removing the 10 user_ids that don't have any data\n",
    "print(user_month_merged.info())\n",
    "user_month_merged = user_month_merged.drop(['first_name', 'last_name', 'age', 'city', 'reg_date', 'churn_date'], axis='columns')  # Removing unnecessary columns\n",
    "user_month_merged['region'] = user_month_merged['region'].fillna('')  # Filling in null values with empty string\n",
    "user_month_merged[['num_calls', 'duration', 'num_msgs', 'mb_used', 'gb_used']] = user_month_merged[['num_calls', 'duration', 'num_msgs', 'mb_used', 'gb_used']].fillna(0)  # Filling in null values with 0\n",
    "print(user_month_merged.info())\n",
    "print(user_month_merged)"
   ]
  },
  {
   "cell_type": "markdown",
   "metadata": {},
   "source": [
    "<div class=\"alert alert-block alert-success\">\n",
    "<b>Reviewer's comment</b> <a class=\"tocSkip\"></a>\n",
    "\n",
    "Correct.\n",
    "</div>"
   ]
  },
  {
   "cell_type": "markdown",
   "metadata": {},
   "source": [
    "<!--[Calculate the monthly revenue from each user (subtract the free package limit from the total number of calls, text messages, and data; multiply the result by the calling plan value; add the monthly charge depending on the calling plan). N.B. This might not be as trivial as just a couple of lines given the plan conditions! So, it's okay to spend some time on it.]\n",
    "-->\n",
    "Now, we will create a function that will calculate the revenue for each user and each of their months. This will be added as another row to the end of the user_month_merged data set."
   ]
  },
  {
   "cell_type": "code",
   "execution_count": 36,
   "metadata": {},
   "outputs": [
    {
     "name": "stdout",
     "output_type": "stream",
     "text": [
      "90.0\n"
     ]
    }
   ],
   "source": [
    "# Calculate the monthly revenue for each user\n",
    "# Creating a function to call into the apply() method to create a new revenue column\n",
    "def compute_monthly_bill(row):\n",
    "    plan = row['plan']\n",
    "    mins = row['duration']\n",
    "    texts = row['num_msgs']\n",
    "    gb = row['gb_used']\n",
    "    cost = 0\n",
    "    if plan == 'surf':\n",
    "        cost += 20\n",
    "        if mins > 500:\n",
    "            cost += (mins - 500)*.03\n",
    "            if texts > 50:\n",
    "                cost += (texts - 50) * .03\n",
    "                if gb > 15:\n",
    "                    cost += (gb - 15) * 10\n",
    "            else:\n",
    "                if gb > 15:\n",
    "                    cost += (gb - 15) * 10\n",
    "        else:\n",
    "            if texts > 50:\n",
    "                cost += (texts - 50) * .03\n",
    "                if gb > 15:\n",
    "                    cost += (gb - 15) * 10\n",
    "            else:\n",
    "                if gb > 15:\n",
    "                    cost += (gb - 15) * 10\n",
    "    else:  # plan == ultimate\n",
    "        cost += 70\n",
    "        if mins > 3000:\n",
    "            cost += (mins - 3000) * .01\n",
    "            if texts > 1000:\n",
    "                cost += (texts - 1000) * .01\n",
    "                if gb > 30:\n",
    "                    cost += (gb - 30) * 7\n",
    "            else:\n",
    "                if gb > 30:\n",
    "                    cost += (gb - 30) * 7\n",
    "        else:\n",
    "            if texts > 1000:\n",
    "                cost += (texts - 1000) * .01\n",
    "                if gb > 30:\n",
    "                    cost += (gb - 30) * 7\n",
    "            else:\n",
    "                if gb > 30:\n",
    "                    cost += (gb - 30) * 7\n",
    "    return cost\n",
    "\n",
    "print(compute_monthly_bill(user_month_merged.iloc[2292]))  # testing a single row"
   ]
  },
  {
   "cell_type": "markdown",
   "metadata": {},
   "source": [
    "<div class=\"alert alert-block alert-warning\">\n",
    "<b>Reviewer's comment</b> <a class=\"tocSkip\"></a>\n",
    "\n",
    "Good function, but it's not a good practice to hardcode values. It's better to use variables/links. In our case we can get all information from plan df.\n",
    "</div>"
   ]
  },
  {
   "cell_type": "code",
   "execution_count": 37,
   "metadata": {
    "scrolled": true
   },
   "outputs": [
    {
     "name": "stdout",
     "output_type": "stream",
     "text": [
      "<class 'pandas.core.frame.DataFrame'>\n",
      "RangeIndex: 2293 entries, 0 to 2292\n",
      "Data columns (total 10 columns):\n",
      " #   Column     Non-Null Count  Dtype  \n",
      "---  ------     --------------  -----  \n",
      " 0   user_id    2293 non-null   int64  \n",
      " 1   plan       2293 non-null   object \n",
      " 2   region     2293 non-null   object \n",
      " 3   month      2293 non-null   float64\n",
      " 4   num_calls  2293 non-null   float64\n",
      " 5   duration   2293 non-null   float64\n",
      " 6   num_msgs   2293 non-null   float64\n",
      " 7   mb_used    2293 non-null   float64\n",
      " 8   gb_used    2293 non-null   float64\n",
      " 9   revenue    2293 non-null   float64\n",
      "dtypes: float64(7), int64(1), object(2)\n",
      "memory usage: 179.3+ KB\n",
      "None\n",
      "      user_id      plan region  month  num_calls  duration  num_msgs  \\\n",
      "0        1000  ultimate          12.0       16.0     117.0      11.0   \n",
      "1        1001      surf           8.0       27.0     172.0      30.0   \n",
      "2        1001      surf           9.0       49.0     298.0      44.0   \n",
      "3        1001      surf          10.0       65.0     375.0      53.0   \n",
      "4        1001      surf          11.0       64.0     405.0      36.0   \n",
      "...       ...       ...    ...    ...        ...       ...       ...   \n",
      "2288     1498      surf  ny-nj   12.0       39.0     325.0       0.0   \n",
      "2289     1499      surf           9.0       41.0     331.0       0.0   \n",
      "2290     1499      surf          10.0       53.0     364.0       0.0   \n",
      "2291     1499      surf          11.0       45.0     289.0       0.0   \n",
      "2292     1499      surf          12.0       65.0     469.0       0.0   \n",
      "\n",
      "       mb_used  gb_used  revenue  \n",
      "0      1901.47      2.0    70.00  \n",
      "1      6919.15      7.0    20.00  \n",
      "2     13314.82     14.0    20.00  \n",
      "3     22330.49     22.0    90.09  \n",
      "4     18504.30     19.0    60.00  \n",
      "...        ...      ...      ...  \n",
      "2288  23137.69     23.0   100.00  \n",
      "2289  12984.76     13.0    20.00  \n",
      "2290  19492.43     20.0    70.00  \n",
      "2291  16813.83     17.0    40.00  \n",
      "2292  22059.21     22.0    90.00  \n",
      "\n",
      "[2293 rows x 10 columns]\n"
     ]
    }
   ],
   "source": [
    "user_month_merged['revenue'] = user_month_merged.apply(compute_monthly_bill, axis=1)\n",
    "print(user_month_merged.info())\n",
    "print(user_month_merged)"
   ]
  },
  {
   "cell_type": "markdown",
   "metadata": {},
   "source": [
    "Now, we have compiled a data set that gives each user's plan usage among the three aspects of their plans and the revenue from each month. This will allow us to compare between the Surf and Ultimate plans."
   ]
  },
  {
   "cell_type": "markdown",
   "metadata": {},
   "source": [
    "## Study user behaviour"
   ]
  },
  {
   "cell_type": "markdown",
   "metadata": {},
   "source": [
    "<!--[Calculate some useful descriptive statistics for the aggregated and merged data, which typically reveal an overall picture captured by the data. Draw useful plots to help the understanding. Given that the main task is to compare the plans and decide on which one is more profitable, the statistics and the plots should be calculated on a per-plan basis.]\n",
    "\n",
    "[There are relevant hints in the comments for Calls but they are not provided for Messages and Internet though the principle of statistical study is the same for them as for Calls.]\n",
    "-->\n",
    "In this section, we will be creating descriptive statistics and visualizations to help compare the similarities and differences between the Surf and Ultimate plans. We will individually looks at the four parts of each plan: call duration, text message frequency, internet usage, and revenue."
   ]
  },
  {
   "cell_type": "markdown",
   "metadata": {},
   "source": [
    "### Calls"
   ]
  },
  {
   "cell_type": "code",
   "execution_count": 38,
   "metadata": {},
   "outputs": [
    {
     "name": "stdout",
     "output_type": "stream",
     "text": [
      "plan      month\n",
      "surf      1.0      193.000000\n",
      "          2.0      281.333333\n",
      "          3.0      311.434783\n",
      "          4.0      332.920000\n",
      "          5.0      377.532468\n",
      "          6.0      407.690722\n",
      "          7.0      425.000000\n",
      "          8.0      387.660494\n",
      "          9.0      391.453608\n",
      "          10.0     406.202532\n",
      "          11.0     400.067138\n",
      "          12.0     447.984277\n",
      "ultimate  1.0      183.750000\n",
      "          2.0      380.428571\n",
      "          3.0      286.166667\n",
      "          4.0      317.095238\n",
      "          5.0      384.206897\n",
      "          6.0      350.361702\n",
      "          7.0      404.271186\n",
      "          8.0      397.788732\n",
      "          9.0      413.779070\n",
      "          10.0     425.698113\n",
      "          11.0     420.944882\n",
      "          12.0     433.549669\n",
      "Name: duration, dtype: float64\n"
     ]
    },
    {
     "data": {
      "image/png": "[encoded data removed]",
      "text/plain": [
       "<Figure size 576x432 with 1 Axes>"
      ]
     },
     "metadata": {
      "needs_background": "light"
     },
     "output_type": "display_data"
    }
   ],
   "source": [
    "# Compare average duration of calls per each plan per each distinct month. Plot a bar plot to visualize it.\n",
    "df_plan_month_calls = user_month_merged.groupby(['plan', 'month'])['duration'].mean()  #.reset_index()\n",
    "print(df_plan_month_calls)\n",
    "# Bar plot\n",
    "df_plan_month_calls['surf'].plot(\n",
    "    kind='bar',\n",
    "    title='How Long Do Surf and Ultimate Users Talk?',\n",
    "    ylabel='Average Duration in minutes',\n",
    "    figsize=[8,6], \n",
    "    color='blue',\n",
    "    alpha=.6\n",
    ")\n",
    "df_plan_month_calls['ultimate'].plot(\n",
    "    kind='bar', \n",
    "    color='yellow',\n",
    "    alpha=.5\n",
    ")\n",
    "plt.xlabel('Months')\n",
    "plt.legend(['Surf', 'Ultimate'])\n",
    "plt.show()"
   ]
  },
  {
   "cell_type": "code",
   "execution_count": 39,
   "metadata": {},
   "outputs": [
    {
     "data": {
      "image/png": "[encoded data removed]",
      "text/plain": [
       "<Figure size 576x432 with 1 Axes>"
      ]
     },
     "metadata": {
      "needs_background": "light"
     },
     "output_type": "display_data"
    }
   ],
   "source": [
    "# Compare the number of minutes users of each plan require each month. Plot a histogram.\n",
    "# print(user_month_merged.groupby('plan')['duration'])\n",
    "user_month_merged.groupby('plan')['duration'].plot(\n",
    "    kind='hist',\n",
    "    bins=20,\n",
    "    title='How Long Do Users Talk on Their Phones?',\n",
    "    figsize=[8,6]\n",
    ")\n",
    "plt.legend(title='Plans')\n",
    "plt.xlabel('Minutes Per Call')\n",
    "plt.show()\n"
   ]
  },
  {
   "cell_type": "markdown",
   "metadata": {},
   "source": [
    "<!--[Calculate the mean and the variable of the call duration to reason on whether users on the different plans have different behaviours for their calls.]\n",
    "-->\n",
    "To further examine each plan, we will calculate some descriptive statistics. "
   ]
  },
  {
   "cell_type": "code",
   "execution_count": 40,
   "metadata": {},
   "outputs": [
    {
     "name": "stdout",
     "output_type": "stream",
     "text": [
      "Average Call Duration:\n",
      " plan\n",
      "surf        405.250477\n",
      "ultimate    406.708333\n",
      "Name: duration, dtype: float64\n",
      "\n",
      "Call Duration Variance:\n",
      " plan\n",
      "surf        49143.993201\n",
      "ultimate    51651.661683\n",
      "Name: duration, dtype: float64\n",
      "\n",
      "Call Duration Standard Deviation:\n",
      " plan\n",
      "surf        221.684445\n",
      "ultimate    227.270019\n",
      "Name: duration, dtype: float64\n",
      "\n",
      "Call Duration Descriptive Statistics:\n",
      "            count        mean         std  min    25%    50%    75%     max\n",
      "plan                                                                      \n",
      "surf      1573.0  405.250477  221.684445  0.0  256.0  402.0  544.0  1432.0\n",
      "ultimate   720.0  406.708333  227.270019  0.0  247.0  399.0  532.5  1293.0\n"
     ]
    }
   ],
   "source": [
    "# Calculate the mean and the variance of the monthly call duration\n",
    "print('Average Call Duration:\\n', user_month_merged.groupby('plan')['duration'].mean())\n",
    "print('\\nCall Duration Variance:\\n', user_month_merged.groupby('plan')['duration'].var())\n",
    "print('\\nCall Duration Standard Deviation:\\n', user_month_merged.groupby('plan')['duration'].std())\n",
    "print('\\nCall Duration Descriptive Statistics:\\n', user_month_merged.groupby('plan')['duration'].describe())\n",
    "#print(user_month_merged.groupby('plan')['duration'].sum())"
   ]
  },
  {
   "cell_type": "code",
   "execution_count": 41,
   "metadata": {},
   "outputs": [
    {
     "data": {
      "image/png": "[encoded data removed]",
      "text/plain": [
       "<Figure size 720x360 with 1 Axes>"
      ]
     },
     "metadata": {
      "needs_background": "light"
     },
     "output_type": "display_data"
    }
   ],
   "source": [
    "# Plot a boxplot to visualize the distribution of the monthly call duration\n",
    "\n",
    "user_month_merged.boxplot(\n",
    "    column='duration', \n",
    "    by='plan',\n",
    "    figsize=[10,5],\n",
    "    vert = 0\n",
    ")\n",
    "\n",
    "plt.title('Surf vs Ultimate Call Length')\n",
    "plt.ylabel('Plan')\n",
    "plt.xlabel('Call Minutes')\n",
    "plt.show()"
   ]
  },
  {
   "cell_type": "markdown",
   "metadata": {},
   "source": [
    "<!--[Formulate conclusions on how the users behave in terms of calling. Is their behaviour different between the plans?]\n",
    "-->"
   ]
  },
  {
   "cell_type": "markdown",
   "metadata": {},
   "source": [
    "Overall, the call duration between the plans are very similar, so the customer's behaviors regarding call duration tend to be the same. For further examination, we looked at the following:\n",
    "\n",
    "* The Bar Graphs showed similar length of calls for most of the months except for February, which the Ultimate users had about 100 minutes more on average, and June, where Surf users had about 60 minutes more.\n",
    "* The Histogram of both plans showed a similar, right tailed shape that centered around 400 minutes. However, there are more Surf users than Ultimate users, so the distribution for the Ultimate users was shorter.\n",
    "* With the Descriptive Statistics, we see that the means, standard deviation, and quartiles are close in values, so user behavior with call length tends to be the same. \n",
    "* As seen with the similar quartiles, the Boxplot for both plans have very similar shapes, with the IQR in the same area and a longer upper (or right) tail, which reinforces what the histogram shows. So, again, the users call length are similar between the plans."
   ]
  },
  {
   "cell_type": "markdown",
   "metadata": {},
   "source": [
    "### Messages"
   ]
  },
  {
   "cell_type": "code",
   "execution_count": 42,
   "metadata": {},
   "outputs": [
    {
     "name": "stdout",
     "output_type": "stream",
     "text": [
      "plan      month\n",
      "surf      1.0      10.500000\n",
      "          2.0      12.000000\n",
      "          3.0      15.260870\n",
      "          4.0      17.400000\n",
      "          5.0      24.012987\n",
      "          6.0      25.298969\n",
      "          7.0      27.033058\n",
      "          8.0      28.777778\n",
      "          9.0      30.762887\n",
      "          10.0     33.839662\n",
      "          11.0     32.385159\n",
      "          12.0     38.600629\n",
      "ultimate  1.0      15.500000\n",
      "          2.0      21.571429\n",
      "          3.0      20.250000\n",
      "          4.0      22.047619\n",
      "          5.0      32.103448\n",
      "          6.0      29.340426\n",
      "          7.0      32.830508\n",
      "          8.0      38.478873\n",
      "          9.0      37.895349\n",
      "          10.0     39.443396\n",
      "          11.0     38.606299\n",
      "          12.0     45.006623\n",
      "Name: num_msgs, dtype: float64\n"
     ]
    },
    {
     "data": {
      "image/png": "[encoded data removed]",
      "text/plain": [
       "<Figure size 576x432 with 1 Axes>"
      ]
     },
     "metadata": {
      "needs_background": "light"
     },
     "output_type": "display_data"
    }
   ],
   "source": [
    "# Compare the number of messages users of each plan tend to send each month\n",
    "df_plan_month_msgs = user_month_merged.groupby(['plan', 'month'])['num_msgs'].mean()\n",
    "print(df_plan_month_msgs)\n",
    "\n",
    "df_plan_month_msgs['surf'].plot(\n",
    "    kind='bar',\n",
    "    title='How Much Do Surf and Ultimate Users Text?',\n",
    "    ylabel='Number of Texts Sent per Month',\n",
    "    figsize=[8,6], \n",
    "    color='blue',\n",
    "    alpha=.6\n",
    ")\n",
    "df_plan_month_msgs['ultimate'].plot(\n",
    "    kind='bar', \n",
    "    color='yellow',\n",
    "    alpha=.5\n",
    ")\n",
    "plt.xlabel('Months')\n",
    "plt.legend(['Surf', 'Ultimate'])\n",
    "plt.show()"
   ]
  },
  {
   "cell_type": "code",
   "execution_count": 60,
   "metadata": {},
   "outputs": [
    {
     "data": {
      "image/png": "[encoded data removed]",
      "text/plain": [
       "<Figure size 576x432 with 1 Axes>"
      ]
     },
     "metadata": {
      "needs_background": "light"
     },
     "output_type": "display_data"
    }
   ],
   "source": [
    "# Compare the number of texts users of each plan require each month. Plot a histogram.\n",
    "user_month_merged.groupby('plan')['num_msgs'].plot(\n",
    "    kind='hist',\n",
    "    bins=20,\n",
    "    title='Who Texts More?',\n",
    "    figsize=[8,6]\n",
    ")\n",
    "plt.legend(title='Plans')\n",
    "plt.xlabel('Number of Texts Sent in a Month')\n",
    "plt.show()"
   ]
  },
  {
   "cell_type": "code",
   "execution_count": 44,
   "metadata": {},
   "outputs": [
    {
     "name": "stdout",
     "output_type": "stream",
     "text": [
      "plan\n",
      "surf        31.159568\n",
      "ultimate    37.551389\n",
      "Name: num_msgs, dtype: float64\n",
      "plan\n",
      "surf        1126.724522\n",
      "ultimate    1208.756744\n",
      "Name: num_msgs, dtype: float64\n",
      "plan\n",
      "surf        33.566717\n",
      "ultimate    34.767179\n",
      "Name: num_msgs, dtype: float64\n",
      "           count       mean        std  min  25%   50%   75%    max\n",
      "plan                                                               \n",
      "surf      1573.0  31.159568  33.566717  0.0  3.0  24.0  47.0  266.0\n",
      "ultimate   720.0  37.551389  34.767179  0.0  7.0  30.0  61.0  166.0\n"
     ]
    }
   ],
   "source": [
    "# Calculate the mean and the variance of the monthly texts sent\n",
    "print(user_month_merged.groupby('plan')['num_msgs'].mean())\n",
    "print(user_month_merged.groupby('plan')['num_msgs'].var())\n",
    "print(user_month_merged.groupby('plan')['num_msgs'].std())\n",
    "print(user_month_merged.groupby('plan')['num_msgs'].describe())"
   ]
  },
  {
   "cell_type": "code",
   "execution_count": 45,
   "metadata": {},
   "outputs": [
    {
     "data": {
      "image/png": "[encoded data removed]",
      "text/plain": [
       "<Figure size 720x360 with 1 Axes>"
      ]
     },
     "metadata": {
      "needs_background": "light"
     },
     "output_type": "display_data"
    }
   ],
   "source": [
    "# Plot a boxplot to visualize the distribution of the monthly texts sent\n",
    "\n",
    "user_month_merged.boxplot(\n",
    "    column='num_msgs', \n",
    "    by='plan',\n",
    "    figsize=[10,5],\n",
    "    vert = 0\n",
    ")\n",
    "\n",
    "plt.title('Surf vs Ultimate Texting')\n",
    "plt.ylabel('Plan')\n",
    "plt.xlabel('Number of Texts')\n",
    "plt.show()"
   ]
  },
  {
   "cell_type": "markdown",
   "metadata": {},
   "source": [
    "<!--[Formulate conclusions on how the users behave in terms of messaging. Is their behaviour different between the plans?]-->"
   ]
  },
  {
   "cell_type": "markdown",
   "metadata": {},
   "source": [
    "Overall, the number of text sent in a month tended to be a little higher for the Ultimate users. Since the Ultimate plan has a higher allotment of texts, this could play a large part for why it was higher than Surf users. We see this in the following:\n",
    "\n",
    "* The Bar Graphs showed that every month the Ultimate users outpaced the Surf users by at least five texts.\n",
    "* Although the shapes of the Histograms seemed similar, the Surf users had a bulk of users below 50 texts, which is probably due to their text limit. For the Ultimate users, their values look more spread out with only a peak towards zero texts. \n",
    "* When looking at the Descriptive Statistics, we see that the mean and quartiles are higher in the Ultimate users.\n",
    "* In the Boxplot, we see the IQR of the Ultimate users shifted higher than the Surf users. "
   ]
  },
  {
   "cell_type": "markdown",
   "metadata": {},
   "source": [
    "### Internet"
   ]
  },
  {
   "cell_type": "code",
   "execution_count": 61,
   "metadata": {},
   "outputs": [
    {
     "name": "stdout",
     "output_type": "stream",
     "text": [
      "plan      month\n",
      "surf      1.0       5.000000\n",
      "          2.0      12.222222\n",
      "          3.0      13.565217\n",
      "          4.0      12.220000\n",
      "          5.0      14.116883\n",
      "          6.0      15.484536\n",
      "          7.0      16.876033\n",
      "          8.0      16.882716\n",
      "          9.0      16.690722\n",
      "          10.0     17.409283\n",
      "          11.0     16.431095\n",
      "          12.0     18.238994\n",
      "ultimate  1.0       7.250000\n",
      "          2.0      17.285714\n",
      "          3.0      18.416667\n",
      "          4.0      16.333333\n",
      "          5.0      16.862069\n",
      "          6.0      15.425532\n",
      "          7.0      16.491525\n",
      "          8.0      17.845070\n",
      "          9.0      17.011628\n",
      "          10.0     17.716981\n",
      "          11.0     17.118110\n",
      "          12.0     18.397351\n",
      "Name: gb_used, dtype: float64\n"
     ]
    },
    {
     "data": {
      "image/png": "[encoded data removed]",
      "text/plain": [
       "<Figure size 648x504 with 1 Axes>"
      ]
     },
     "metadata": {
      "needs_background": "light"
     },
     "output_type": "display_data"
    }
   ],
   "source": [
    "# Compare the amount of internet traffic consumed by users of each plan tend to send each month\n",
    "df_plan_month_internet = user_month_merged.groupby(['plan', 'month'])['gb_used'].mean()\n",
    "print(df_plan_month_internet)\n",
    "\n",
    "df_plan_month_internet['surf'].plot(\n",
    "    kind='bar',\n",
    "    title='How Much Internet Traffic Do Surf and Ultimate Users Consume?',\n",
    "    ylabel='GB of Data per Month',\n",
    "    figsize=[9,7], \n",
    "    color='blue',\n",
    "    alpha=.6\n",
    ")\n",
    "df_plan_month_internet['ultimate'].plot(\n",
    "    kind='bar', \n",
    "    color='yellow',\n",
    "    alpha=.5\n",
    ")\n",
    "plt.xlabel('Months')\n",
    "plt.legend(['Surf', 'Ultimate'])\n",
    "plt.show()"
   ]
  },
  {
   "cell_type": "code",
   "execution_count": 59,
   "metadata": {},
   "outputs": [
    {
     "data": {
      "image/png": "[encoded data removed]",
      "text/plain": [
       "<Figure size 576x432 with 1 Axes>"
      ]
     },
     "metadata": {
      "needs_background": "light"
     },
     "output_type": "display_data"
    }
   ],
   "source": [
    "# Compare the number of internet traffic users of each plan require each month. Plot a histogram.\n",
    "user_month_merged.groupby('plan')['gb_used'].plot(\n",
    "    kind='hist',\n",
    "    bins=20,\n",
    "    title='Surf vs Ultimate Internet Usage',\n",
    "    figsize = [8,6]\n",
    ")\n",
    "plt.legend(title='Plans')\n",
    "plt.xlabel('Gigabytes Used')\n",
    "plt.show()"
   ]
  },
  {
   "cell_type": "code",
   "execution_count": 48,
   "metadata": {},
   "outputs": [
    {
     "name": "stdout",
     "output_type": "stream",
     "text": [
      "Internet Usage Averages per Plan:\n",
      " plan\n",
      "surf        16.670693\n",
      "ultimate    17.306944\n",
      "Name: gb_used, dtype: float64\n",
      "\n",
      "Internet Usage Variance:\n",
      " plan\n",
      "surf        61.58360\n",
      "ultimate    58.83055\n",
      "Name: gb_used, dtype: float64\n",
      "\n",
      "Internet Usage Standard Deviation:\n",
      " plan\n",
      "surf        7.847522\n",
      "ultimate    7.670108\n",
      "Name: gb_used, dtype: float64\n",
      "\n",
      "Internet Usage Descriptive Statistics:\n",
      "            count       mean       std  min   25%   50%   75%   max\n",
      "plan                                                              \n",
      "surf      1573.0  16.670693  7.847522  0.0  12.0  17.0  21.0  70.0\n",
      "ultimate   720.0  17.306944  7.670108  0.0  13.0  17.0  21.0  46.0\n"
     ]
    }
   ],
   "source": [
    "# Calculate the mean and the variance of the monthly internet usage\n",
    "print('Internet Usage Averages per Plan:\\n', user_month_merged.groupby('plan')['gb_used'].mean())\n",
    "print('\\nInternet Usage Variance:\\n', user_month_merged.groupby('plan')['gb_used'].var())\n",
    "print('\\nInternet Usage Standard Deviation:\\n', user_month_merged.groupby('plan')['gb_used'].std())\n",
    "print('\\nInternet Usage Descriptive Statistics:\\n', user_month_merged.groupby('plan')['gb_used'].describe())"
   ]
  },
  {
   "cell_type": "code",
   "execution_count": 49,
   "metadata": {},
   "outputs": [
    {
     "data": {
      "image/png": "[encoded data removed]",
      "text/plain": [
       "<Figure size 720x360 with 1 Axes>"
      ]
     },
     "metadata": {
      "needs_background": "light"
     },
     "output_type": "display_data"
    }
   ],
   "source": [
    "# Plot a boxplot to visualize the distribution of the monthly call duration\n",
    "user_month_merged.boxplot(\n",
    "    column='gb_used', \n",
    "    by='plan',\n",
    "    figsize=[10,5],\n",
    "    vert = 0\n",
    ")\n",
    "\n",
    "plt.title('Surf vs Ultimate Internet Usage')\n",
    "plt.ylabel('Plan')\n",
    "plt.xlabel('Gigabytes Downloaded')\n",
    "plt.show()"
   ]
  },
  {
   "cell_type": "markdown",
   "metadata": {},
   "source": [
    "<!--[Formulate conclusions on how the users tend to consume the internet traffic? Is their behaviour different between the plans?]-->"
   ]
  },
  {
   "cell_type": "markdown",
   "metadata": {},
   "source": [
    "After examining the internet useage between plans, there were both similarities and differences as shown below:\n",
    "\n",
    "* When we plotted the Bar Graphs per month, we noticed that Ultimate users most often had higher internet usage except for June and July, but only by a little. It should also be noted that the Ultimate plan has a higher allotment for gigabytes, which may have an affect on the users of that plan to consume more internet.\n",
    "* The Histogram of both plans showed a similar shape centering their peaks close together. But, since there are more Surf users than Ultimate users, the distribution for the Surf users was higher.\n",
    "* The Descriptive Statistics showed that the means, standard deviation, and quartiles are close in values, so user behavior with internet usage tends to be the same.\n",
    "* As seen with the similar quartiles, the Boxplot for both plans have very similar shapes, with the IQRs in generally the same area and outliers far to the right. But, there were higher outliers for some Surf plan users, which would have created more revenue in the end."
   ]
  },
  {
   "cell_type": "markdown",
   "metadata": {},
   "source": [
    "## Revenue"
   ]
  },
  {
   "cell_type": "markdown",
   "metadata": {},
   "source": [
    "<!--[Likewise you have studied the user behaviour, statistically describe the revenue between the plans.]-->\n",
    "Next, we will take a look at the behavior of the users through the revenue they bring in."
   ]
  },
  {
   "cell_type": "code",
   "execution_count": 50,
   "metadata": {},
   "outputs": [
    {
     "name": "stdout",
     "output_type": "stream",
     "text": [
      "plan      month\n",
      "surf      1.0      20.000000\n",
      "          2.0      34.260000\n",
      "          3.0      45.792609\n",
      "          4.0      40.458600\n",
      "          5.0      47.240130\n",
      "          6.0      48.935155\n",
      "          7.0      62.226529\n",
      "          8.0      63.576728\n",
      "          9.0      57.952320\n",
      "          10.0     65.051097\n",
      "          11.0     57.633569\n",
      "          12.0     70.108270\n",
      "ultimate  1.0      70.000000\n",
      "          2.0      70.000000\n",
      "          3.0      74.666667\n",
      "          4.0      73.000000\n",
      "          5.0      70.724138\n",
      "          6.0      71.638298\n",
      "          7.0      71.898305\n",
      "          8.0      72.859155\n",
      "          9.0      72.034884\n",
      "          10.0     72.311321\n",
      "          11.0     71.708661\n",
      "          12.0     73.291391\n",
      "Name: revenue, dtype: float64\n"
     ]
    },
    {
     "data": {
      "image/png": "[encoded data removed]",
      "text/plain": [
       "<Figure size 720x576 with 1 Axes>"
      ]
     },
     "metadata": {
      "needs_background": "light"
     },
     "output_type": "display_data"
    }
   ],
   "source": [
    "df_plan_month_revenue = user_month_merged.groupby(['plan', 'month'])['revenue'].mean()\n",
    "# df_plan_month_revenue = user_month_merged.groupby(['plan', 'month'])['revenue'].sum()\n",
    "print(df_plan_month_revenue)\n",
    "\n",
    "df_plan_month_revenue['surf'].plot(\n",
    "    kind='bar',\n",
    "    title='Revenue from Surf and Ultimate Users',\n",
    "    ylabel='Revenue in $USD',\n",
    "    figsize=[10,8], \n",
    "    color='blue',\n",
    "    alpha=.6\n",
    ")\n",
    "df_plan_month_revenue['ultimate'].plot(\n",
    "    kind='bar', \n",
    "    color='yellow',\n",
    "    alpha=.5\n",
    ")\n",
    "plt.xlabel('Months')\n",
    "plt.legend(['Surf', 'Ultimate'])\n",
    "plt.show()"
   ]
  },
  {
   "cell_type": "code",
   "execution_count": 58,
   "metadata": {},
   "outputs": [
    {
     "data": {
      "image/png": "[encoded data removed]",
      "text/plain": [
       "<Figure size 432x288 with 1 Axes>"
      ]
     },
     "metadata": {
      "needs_background": "light"
     },
     "output_type": "display_data"
    }
   ],
   "source": [
    "# Compare the average revenue users of each plan provide each month. Plot a histogram.\n",
    "user_month_merged.groupby('plan')['revenue'].plot(\n",
    "    kind='hist',\n",
    "    bins=[20, 35, 50, 65, 80, 100],  \n",
    "    title='How Much Revenue Do Users Generate?', \n",
    "    alpha=.6\n",
    ")\n",
    "plt.legend(title='Plans')\n",
    "plt.xlabel('Revenue in $USD')\n",
    "plt.show()"
   ]
  },
  {
   "cell_type": "code",
   "execution_count": 52,
   "metadata": {},
   "outputs": [
    {
     "name": "stdout",
     "output_type": "stream",
     "text": [
      "Revenue Averages per Plan:\n",
      " plan\n",
      "surf        60.331933\n",
      "ultimate    72.313889\n",
      "Name: revenue, dtype: float64\n",
      "\n",
      "Variance per Plan:\n",
      " plan\n",
      "surf        3054.097506\n",
      "ultimate     129.848486\n",
      "Name: revenue, dtype: float64\n",
      "\n",
      "Standard Deviation per Plan:\n",
      " plan\n",
      "surf        55.263890\n",
      "ultimate    11.395108\n",
      "Name: revenue, dtype: float64\n",
      "\n",
      "Descriptive Statistics per Plan:\n",
      "            count       mean        std   min   25%    50%   75%     max\n",
      "plan                                                                   \n",
      "surf      1573.0  60.331933  55.263890  20.0  20.0  40.15  80.0  588.66\n",
      "ultimate   720.0  72.313889  11.395108  70.0  70.0  70.00  70.0  182.00\n",
      "\n",
      "Total Revenue per Plan:\n",
      " plan\n",
      "surf        94902.13\n",
      "ultimate    52066.00\n",
      "Name: revenue, dtype: float64\n"
     ]
    }
   ],
   "source": [
    "# Calculate the mean and the variance of the monthly revenue\n",
    "print('Revenue Averages per Plan:\\n', user_month_merged.groupby('plan')['revenue'].mean())\n",
    "print('\\nVariance per Plan:\\n', user_month_merged.groupby('plan')['revenue'].var())\n",
    "print('\\nStandard Deviation per Plan:\\n', user_month_merged.groupby('plan')['revenue'].std())\n",
    "print('\\nDescriptive Statistics per Plan:\\n', user_month_merged.groupby('plan')['revenue'].describe())\n",
    "print('\\nTotal Revenue per Plan:\\n', user_month_merged.groupby('plan')['revenue'].sum())"
   ]
  },
  {
   "cell_type": "code",
   "execution_count": 57,
   "metadata": {},
   "outputs": [
    {
     "data": {
      "image/png": "[encoded data removed]",
      "text/plain": [
       "<Figure size 720x360 with 1 Axes>"
      ]
     },
     "metadata": {
      "needs_background": "light"
     },
     "output_type": "display_data"
    }
   ],
   "source": [
    "# Plot a boxplot to visualize the distribution of the monthly call duration\n",
    "user_month_merged.boxplot(\n",
    "    column='revenue', \n",
    "    by='plan',\n",
    "    figsize=[10,5],\n",
    "    vert = 0\n",
    ")\n",
    "\n",
    "plt.title('Surf vs Ultimate User Revenue')\n",
    "plt.ylabel('Plan')\n",
    "plt.xlabel('Revenue in $USD')\n",
    "plt.show()"
   ]
  },
  {
   "cell_type": "markdown",
   "metadata": {},
   "source": [
    "<!--[Formulate conclusions about how the revenue differs between the plans.]-->"
   ]
  },
  {
   "cell_type": "markdown",
   "metadata": {},
   "source": [
    "As we take a closer look at the revenue generated by users per month, we see very distinct differences. For further examination, we looked at the following:\n",
    "\n",
    "* The Bar Graphs showed clearly showed the difference in revenue for all the months except December with at least a \\\\$10 difference. The caveat to this is that the base price for the Surf plan starts at \\\\$20 and the Ultimate plan starts at \\\\$70, so Surf users would have to exceed their default parameters by quite a bit.\n",
    "* The Histogram of both plans did not have the same shape and the peaks were not together with the Surf users peaking on the lower end while the Ultimate users were largely around \\\\$70. \n",
    "* With the Descriptive Statistics, we see all the values differ. Again, the entry point to each plan might have a large effect on these values. Also, when we summed the revenue for each plan, the Surf generated more, but they have more than double the amount of users.\n",
    "* The Boxplot reinforced what the previous visualizations showed, which is there is a difference in the average revenue per user per month. The Surf users tended to create revenue from \\\\$20 to \\\\$80, while Ultimate users heavily stayed around \\\\$70. The latter's entire IQR is at \\\\$70 and not very spread out."
   ]
  },
  {
   "cell_type": "markdown",
   "metadata": {},
   "source": [
    "<div class=\"alert alert-block alert-success\">\n",
    "<b>Reviewer's comment</b> <a class=\"tocSkip\"></a>\n",
    "\n",
    "Nice vizualisation and good conclusions!\n",
    "</div>"
   ]
  },
  {
   "cell_type": "markdown",
   "metadata": {},
   "source": [
    "<div class=\"alert alert-block alert-success\">\n",
    "<b>Reviewer's comment</b> <a class=\"tocSkip\"></a>\n",
    "\n",
    "Pro tip: we can add boxplot without outliers to get additional insights.\n",
    "</div>"
   ]
  },
  {
   "cell_type": "markdown",
   "metadata": {},
   "source": [
    "## Test statistical hypotheses"
   ]
  },
  {
   "cell_type": "markdown",
   "metadata": {},
   "source": [
    "<!--[Test the hypothesis that the average revenue from users of the Ultimate and Surf calling plans differs.]\n",
    "-->\n",
    "We are going to test to see if there is a difference in the average revenue from users of the Ultimate and Surf plans by performing a T-test on the means of the two statistical populations are equal. \n",
    "The statistical significance level will be 5%."
   ]
  },
  {
   "cell_type": "markdown",
   "metadata": {},
   "source": [
    "<!--[Formulate the null and the alternative hypotheses, choose the statistical test, decide on the alpha value.]-->\n",
    "<b>H<sub>0</sub></b>: The average revenue is the same between plans.\n",
    "\n",
    "<b>H<sub>1</sub></b>: The average revenue is different between plans.\n"
   ]
  },
  {
   "cell_type": "code",
   "execution_count": 54,
   "metadata": {},
   "outputs": [
    {
     "name": "stdout",
     "output_type": "stream",
     "text": [
      "55.2638897104777\n",
      "72.31388888888888\n",
      "p-value: 3.6278039040985444e-16\n",
      "We reject the null hypothesis\n"
     ]
    }
   ],
   "source": [
    "# Test the hypotheses\n",
    "surf_rev = user_month_merged[user_month_merged['plan']=='surf']['revenue']  # .mean()\n",
    "ultimate_rev = user_month_merged[user_month_merged['plan']=='ultimate']['revenue']  # .mean()\n",
    "print(surf_rev.std())\n",
    "print(ultimate_rev.mean())\n",
    "\n",
    "alpha = .05\n",
    "\n",
    "results = st.ttest_ind(surf_rev, ultimate_rev, equal_var=False)\n",
    "print('p-value:', results.pvalue)\n",
    "\n",
    "if (results.pvalue < alpha):\n",
    "    print(\"We reject the null hypothesis\")\n",
    "else:\n",
    "    print(\"We can't reject the null hypothesis\")"
   ]
  },
  {
   "cell_type": "markdown",
   "metadata": {},
   "source": [
    "<!--[Test the hypothesis that the average revenue from users in the NY-NJ area is different from that of the users from the other regions.]\n",
    "-->\n",
    "We are going to test to see if there is a difference in the average revenue from users in the NY-NJ area and other regions by performing a T-test on the equality of two population means.\n",
    "The statistical significance level will be 5%."
   ]
  },
  {
   "cell_type": "markdown",
   "metadata": {},
   "source": [
    "<!--[Formulate the null and the alternative hypotheses, choose the statistical test, decide on the alpha value.]\n",
    "-->\n",
    "<b>H<sub>0</sub></b>: The average revenue is the same between the NY-NJ area and other regions.\n",
    "\n",
    "<b>H<sub>1</sub></b>: The average revenue is different among the regions."
   ]
  },
  {
   "cell_type": "code",
   "execution_count": 55,
   "metadata": {},
   "outputs": [
    {
     "name": "stdout",
     "output_type": "stream",
     "text": [
      "p-value: 0.10430409110751233\n",
      "We can't reject the null hypothesis\n"
     ]
    }
   ],
   "source": [
    "# Test the hypotheses\n",
    "ny_nj_rev = user_month_merged[user_month_merged['region']=='ny-nj']['revenue']  # .mean()\n",
    "others_rev = user_month_merged[user_month_merged['region']=='']['revenue']  # .mean()\n",
    "# print(ny_nj_rev)\n",
    "# print(others_rev)\n",
    "alpha = .05\n",
    "\n",
    "results = st.ttest_ind(ny_nj_rev, others_rev, equal_var=False)\n",
    "print('p-value:', results.pvalue)\n",
    "\n",
    "if (results.pvalue < alpha):\n",
    "    print(\"We reject the null hypothesis\")\n",
    "else:\n",
    "    print(\"We can't reject the null hypothesis\")"
   ]
  },
  {
   "cell_type": "markdown",
   "metadata": {},
   "source": [
    "<div class=\"alert alert-block alert-success\">\n",
    "<b>Reviewer's comment</b> <a class=\"tocSkip\"></a>\n",
    "\n",
    "Excellent.\n",
    "</div>"
   ]
  },
  {
   "cell_type": "markdown",
   "metadata": {},
   "source": [
    "## General conclusion\n",
    "\n",
    "<!--[List your important conclusions in this final section, make sure they cover all those important decisions (assumptions) that you've made and that led you to the way you processed and analyzed the data.]\n",
    "-->\n",
    "After gathering and compiling all the data across multiple data set for Megaline, our samples showed the following about the users from the Surf and Ultimate plans:\n",
    "1. Call Duration: The users' behavior was very similar between the plans. A possibility is that more people text nowadays rather than calling.\n",
    "2. Text Messaging: We saw that because the alloted number of texts is higher for the Ultimate plan, their users tended to text at an increased rate.\n",
    "3. Internet Usage: While there were differences depending on the month, the internet usage behavior had some similarites with where users centered around in terms of gigabytes used.\n",
    "4. Revenue: The comparison made between the revenue from Surf and Ultimate plans showed very different behaviors. A common thread was the initial fee each plan charged; Surf at \\\\$20 and Ultimate at \\\\$70. Because of this, the revenue from each plan tended towards their respective initial fee.\n",
    "5. When we tested to see if there is a difference in the average revenue from users of the Ultimate and Surf plans, we rejected the null hypothesis given the significance level selected. This leads us to conclude that our assumption that the average revenue is the same between plans is most likely incorrect. This was further supported when we calculated the descriptive statistics and graphs on just the revenue per user per month. \n",
    "6. When we tested to see if the average revenue is the same between the NY-NJ area and other regions, we got that about 10% of the time, the average revenue from both sets of regions would be different. Thus, we could not reject the null hypothesis. "
   ]
  },
  {
   "cell_type": "markdown",
   "metadata": {},
   "source": [
    "<div class=\"alert alert-block alert-success\">\n",
    "<b>Reviewer's comment</b> <a class=\"tocSkip\"></a>\n",
    "\n",
    "Great final conclusion.\n",
    "</div>"
   ]
  },
  {
   "cell_type": "markdown",
   "metadata": {},
   "source": [
    "<div class=\"alert alert-block alert-success\">\n",
    "<b>Overall reviewer's comment</b> <a class=\"tocSkip\"></a>\n",
    "\n",
    "Mark, thank you for sending your project. You've done a really good job on it!\n",
    "    \n",
    "Especially impressed:\n",
    "\n",
    "- very deep detailed conclusions\n",
    "    \n",
    "- good graphs\n",
    "    \n",
    "- high code level\n",
    "\n",
    "- good project structure\n",
    "    \n",
    "    \n",
    "Thank you for in-depth analysis and logical conclusions!\n",
    "    \n",
    "I'm glad to say that your project has been accepted. Keep up the good work, and good luck on the next sprint!\n",
    "</div>"
   ]
  },
  {
   "cell_type": "markdown",
   "metadata": {},
   "source": [
    " "
   ]
  }
 ],
 "metadata": {
  "ExecuteTimeLog": [
   {
    "duration": 828,
    "start_time": "2021-11-16T09:21:11.304Z"
   },
   {
    "duration": 893,
    "start_time": "2021-11-16T09:21:17.728Z"
   },
   {
    "duration": 1150,
    "start_time": "2021-11-16T09:21:29.568Z"
   },
   {
    "duration": 3,
    "start_time": "2021-11-16T09:24:14.495Z"
   },
   {
    "duration": 120,
    "start_time": "2021-11-16T09:24:46.630Z"
   },
   {
    "duration": 3,
    "start_time": "2021-11-16T09:28:27.882Z"
   },
   {
    "duration": 4,
    "start_time": "2021-11-16T09:29:54.281Z"
   },
   {
    "duration": 3,
    "start_time": "2021-11-16T09:30:45.936Z"
   },
   {
    "duration": 4,
    "start_time": "2021-11-16T09:31:06.300Z"
   },
   {
    "duration": 113,
    "start_time": "2021-11-16T09:31:37.208Z"
   },
   {
    "duration": 143,
    "start_time": "2021-11-16T09:31:48.656Z"
   },
   {
    "duration": 98,
    "start_time": "2021-11-16T09:31:55.678Z"
   },
   {
    "duration": 3,
    "start_time": "2021-11-16T09:32:08.535Z"
   },
   {
    "duration": 111,
    "start_time": "2021-11-16T09:32:10.120Z"
   },
   {
    "duration": 3,
    "start_time": "2021-11-16T09:32:15.732Z"
   },
   {
    "duration": 4,
    "start_time": "2021-11-16T09:32:29.423Z"
   },
   {
    "duration": 3,
    "start_time": "2021-11-16T10:03:03.074Z"
   },
   {
    "duration": 3,
    "start_time": "2021-11-16T10:10:01.288Z"
   },
   {
    "duration": 3,
    "start_time": "2021-11-16T10:10:46.923Z"
   },
   {
    "duration": 121,
    "start_time": "2021-11-16T10:37:46.494Z"
   },
   {
    "duration": 125,
    "start_time": "2021-11-16T10:38:20.632Z"
   },
   {
    "duration": 112,
    "start_time": "2021-11-16T10:46:53.001Z"
   },
   {
    "duration": 110,
    "start_time": "2021-11-16T10:48:25.775Z"
   },
   {
    "duration": 3,
    "start_time": "2021-11-16T10:50:18.720Z"
   },
   {
    "duration": 4,
    "start_time": "2021-11-16T10:50:37.649Z"
   },
   {
    "duration": 2,
    "start_time": "2021-11-16T10:50:51.884Z"
   },
   {
    "duration": 3,
    "start_time": "2021-11-16T10:51:56.237Z"
   },
   {
    "duration": 101,
    "start_time": "2021-11-16T10:53:13.791Z"
   },
   {
    "duration": 3,
    "start_time": "2021-11-16T10:55:59.186Z"
   },
   {
    "duration": 3,
    "start_time": "2021-11-16T10:56:10.751Z"
   },
   {
    "duration": 3,
    "start_time": "2021-11-16T10:56:49.038Z"
   },
   {
    "duration": 3,
    "start_time": "2021-11-16T10:56:49.174Z"
   },
   {
    "duration": 4,
    "start_time": "2021-11-16T10:56:49.414Z"
   },
   {
    "duration": 3,
    "start_time": "2021-11-16T10:56:49.680Z"
   },
   {
    "duration": 3,
    "start_time": "2021-11-16T10:56:50.370Z"
   },
   {
    "duration": 114,
    "start_time": "2021-11-16T10:59:34.518Z"
   },
   {
    "duration": 3,
    "start_time": "2021-11-16T11:01:41.201Z"
   },
   {
    "duration": 116,
    "start_time": "2021-11-16T11:01:48.754Z"
   },
   {
    "duration": 3,
    "start_time": "2021-11-16T11:02:16.685Z"
   },
   {
    "duration": 3,
    "start_time": "2021-11-16T11:02:19.479Z"
   },
   {
    "duration": 3,
    "start_time": "2021-11-16T11:02:47.067Z"
   },
   {
    "duration": 3,
    "start_time": "2021-11-16T11:02:49.353Z"
   },
   {
    "duration": 3,
    "start_time": "2021-11-16T11:03:07.835Z"
   },
   {
    "duration": 3,
    "start_time": "2021-11-16T11:03:07.953Z"
   },
   {
    "duration": 112,
    "start_time": "2021-11-16T11:07:52.072Z"
   },
   {
    "duration": 187,
    "start_time": "2021-11-16T11:09:23.468Z"
   },
   {
    "duration": 4,
    "start_time": "2021-11-16T11:10:01.455Z"
   },
   {
    "duration": 3,
    "start_time": "2021-11-16T11:10:05.069Z"
   },
   {
    "duration": 4,
    "start_time": "2021-11-16T11:10:13.376Z"
   },
   {
    "duration": 3,
    "start_time": "2021-11-16T11:10:14.434Z"
   },
   {
    "duration": 3,
    "start_time": "2021-11-16T11:10:22.853Z"
   },
   {
    "duration": 4,
    "start_time": "2021-11-16T11:27:29.279Z"
   },
   {
    "duration": 4,
    "start_time": "2021-11-16T11:29:08.919Z"
   },
   {
    "duration": 118,
    "start_time": "2021-11-16T11:29:46.703Z"
   },
   {
    "duration": 437,
    "start_time": "2021-11-16T11:36:02.181Z"
   },
   {
    "duration": 157,
    "start_time": "2021-11-16T11:36:14.388Z"
   },
   {
    "duration": 207,
    "start_time": "2021-11-16T11:47:15.898Z"
   },
   {
    "duration": 3,
    "start_time": "2021-11-16T11:53:52.092Z"
   },
   {
    "duration": 3,
    "start_time": "2021-11-16T11:53:52.236Z"
   },
   {
    "duration": 3,
    "start_time": "2021-11-16T11:59:12.005Z"
   },
   {
    "duration": 112,
    "start_time": "2021-11-16T12:00:33.446Z"
   },
   {
    "duration": 3,
    "start_time": "2021-11-16T12:02:14.453Z"
   },
   {
    "duration": 3,
    "start_time": "2021-11-16T12:02:39.512Z"
   },
   {
    "duration": 106,
    "start_time": "2021-11-16T12:03:03.460Z"
   },
   {
    "duration": 3,
    "start_time": "2021-11-17T20:37:21.139Z"
   },
   {
    "duration": 3,
    "start_time": "2021-11-17T20:37:22.229Z"
   },
   {
    "duration": 3,
    "start_time": "2021-11-17T20:38:38.806Z"
   },
   {
    "duration": 3,
    "start_time": "2021-11-17T20:38:41.958Z"
   },
   {
    "duration": 3,
    "start_time": "2021-11-17T20:43:46.551Z"
   },
   {
    "duration": 4,
    "start_time": "2021-11-17T20:58:21.835Z"
   },
   {
    "duration": 3,
    "start_time": "2021-11-17T20:59:21.872Z"
   },
   {
    "duration": 4,
    "start_time": "2021-11-17T20:59:45.352Z"
   },
   {
    "duration": 4,
    "start_time": "2021-11-17T20:59:49.646Z"
   },
   {
    "duration": 159,
    "start_time": "2021-11-17T21:02:26.949Z"
   },
   {
    "duration": 3,
    "start_time": "2021-11-17T21:03:53.461Z"
   },
   {
    "duration": 3,
    "start_time": "2021-11-17T21:03:53.694Z"
   },
   {
    "duration": 3,
    "start_time": "2021-11-17T21:05:28.145Z"
   },
   {
    "duration": 116,
    "start_time": "2021-11-17T21:05:57.787Z"
   },
   {
    "duration": 3,
    "start_time": "2021-11-17T21:06:37.993Z"
   },
   {
    "duration": 3,
    "start_time": "2021-11-17T21:06:38.261Z"
   },
   {
    "duration": 3,
    "start_time": "2021-11-17T21:11:54.358Z"
   },
   {
    "duration": 3,
    "start_time": "2021-11-17T21:12:43.846Z"
   },
   {
    "duration": 4,
    "start_time": "2021-11-17T21:13:08.773Z"
   },
   {
    "duration": 3,
    "start_time": "2021-11-17T21:14:44.441Z"
   },
   {
    "duration": 3,
    "start_time": "2021-11-17T21:15:42.059Z"
   },
   {
    "duration": 4,
    "start_time": "2021-11-17T21:15:51.995Z"
   },
   {
    "duration": 3,
    "start_time": "2021-11-17T21:15:53.923Z"
   },
   {
    "duration": 3,
    "start_time": "2021-11-17T21:15:55.282Z"
   },
   {
    "duration": 3,
    "start_time": "2021-11-17T21:16:28.492Z"
   },
   {
    "duration": 3,
    "start_time": "2021-11-17T21:16:32.603Z"
   },
   {
    "duration": 3,
    "start_time": "2021-11-17T21:17:06.941Z"
   },
   {
    "duration": 98,
    "start_time": "2021-11-17T21:18:05.733Z"
   },
   {
    "duration": 4,
    "start_time": "2021-11-17T21:21:35.255Z"
   },
   {
    "duration": 3,
    "start_time": "2021-11-17T21:21:37.804Z"
   },
   {
    "duration": 4,
    "start_time": "2021-11-17T21:23:06.071Z"
   },
   {
    "duration": 3,
    "start_time": "2021-11-17T21:23:24.799Z"
   },
   {
    "duration": 3,
    "start_time": "2021-11-17T21:23:32.591Z"
   },
   {
    "duration": 98,
    "start_time": "2021-11-17T21:28:31.559Z"
   },
   {
    "duration": 3,
    "start_time": "2021-11-17T21:28:45.448Z"
   },
   {
    "duration": 3,
    "start_time": "2021-11-17T21:29:17.303Z"
   },
   {
    "duration": 3,
    "start_time": "2021-11-17T21:29:29.617Z"
   },
   {
    "duration": 3,
    "start_time": "2021-11-17T21:29:32.681Z"
   },
   {
    "duration": 3,
    "start_time": "2021-11-17T21:36:11.474Z"
   },
   {
    "duration": 3,
    "start_time": "2021-11-17T21:36:14.791Z"
   },
   {
    "duration": 3,
    "start_time": "2021-11-17T21:36:53.943Z"
   },
   {
    "duration": 3,
    "start_time": "2021-11-17T21:36:56.165Z"
   },
   {
    "duration": 4,
    "start_time": "2021-11-17T21:37:16.590Z"
   },
   {
    "duration": 3,
    "start_time": "2021-11-17T21:37:22.702Z"
   },
   {
    "duration": 4,
    "start_time": "2021-11-17T21:38:03.479Z"
   },
   {
    "duration": 3,
    "start_time": "2021-11-17T21:38:08.601Z"
   },
   {
    "duration": 3,
    "start_time": "2021-11-17T21:38:12.928Z"
   },
   {
    "duration": 3,
    "start_time": "2021-11-17T21:38:48.896Z"
   },
   {
    "duration": 2,
    "start_time": "2021-11-17T21:38:49.171Z"
   },
   {
    "duration": 4,
    "start_time": "2021-11-17T21:39:57.889Z"
   },
   {
    "duration": 3,
    "start_time": "2021-11-17T21:39:58.057Z"
   },
   {
    "duration": 3,
    "start_time": "2021-11-17T21:41:20.108Z"
   },
   {
    "duration": 3,
    "start_time": "2021-11-17T21:41:20.629Z"
   },
   {
    "duration": 3,
    "start_time": "2021-11-17T21:42:49.136Z"
   },
   {
    "duration": 3,
    "start_time": "2021-11-17T21:43:15.137Z"
   },
   {
    "duration": 4,
    "start_time": "2021-11-17T21:43:16.766Z"
   },
   {
    "duration": 4,
    "start_time": "2021-11-17T21:43:31.711Z"
   },
   {
    "duration": 3,
    "start_time": "2021-11-17T21:43:36.312Z"
   },
   {
    "duration": 4,
    "start_time": "2021-11-17T21:45:08.825Z"
   },
   {
    "duration": 4,
    "start_time": "2021-11-17T21:45:10.119Z"
   },
   {
    "duration": 4,
    "start_time": "2021-11-17T21:45:13.748Z"
   },
   {
    "duration": 3,
    "start_time": "2021-11-17T21:45:22.219Z"
   },
   {
    "duration": 3,
    "start_time": "2021-11-17T21:45:33.412Z"
   },
   {
    "duration": 2,
    "start_time": "2021-11-17T21:46:01.885Z"
   },
   {
    "duration": 3,
    "start_time": "2021-11-17T21:46:03.628Z"
   },
   {
    "duration": 107,
    "start_time": "2021-11-17T21:47:32.512Z"
   },
   {
    "duration": 103,
    "start_time": "2021-11-17T21:50:36.243Z"
   },
   {
    "duration": 3,
    "start_time": "2021-11-18T06:28:31.440Z"
   },
   {
    "duration": 3,
    "start_time": "2021-11-18T06:29:00.168Z"
   },
   {
    "duration": 3,
    "start_time": "2021-11-18T06:31:27.008Z"
   },
   {
    "duration": 2,
    "start_time": "2021-11-18T06:35:34.288Z"
   },
   {
    "duration": 2,
    "start_time": "2021-11-18T06:38:04.527Z"
   }
  ],
  "kernelspec": {
   "display_name": "Python 3 (ipykernel)",
   "language": "python",
   "name": "python3"
  },
  "language_info": {
   "codemirror_mode": {
    "name": "ipython",
    "version": 3
   },
   "file_extension": ".py",
   "mimetype": "text/x-python",
   "name": "python",
   "nbconvert_exporter": "python",
   "pygments_lexer": "ipython3",
   "version": "3.9.19"
  },
  "toc": {
   "base_numbering": 1,
   "nav_menu": {},
   "number_sections": true,
   "sideBar": true,
   "skip_h1_title": false,
   "title_cell": "Table of Contents",
   "title_sidebar": "Contents",
   "toc_cell": false,
   "toc_position": {
    "height": "calc(100% - 180px)",
    "left": "10px",
    "top": "150px",
    "width": "239px"
   },
   "toc_section_display": true,
   "toc_window_display": true
  }
 },
 "nbformat": 4,
 "nbformat_minor": 2
}
