{
 "cells": [
  {
   "cell_type": "markdown",
   "id": "1f899eab",
   "metadata": {},
   "source": [
    "<div style=\"border:solid green 2px; padding: 20px\">\n",
    "    \n",
    "<b>Mark, Hello!</b> We're glad to see you in code-reviewer territory. You've done a great job on the project, but let's get to know each other and make it even better! We have our own atmosphere here and a few rules:\n",
    "\n",
    "\n",
    "1. My name is Alexander Matveevsky. I work as a code reviewer, and my main goal is not to point out your mistakes, but to share my experience and help you become a data analyst.\n",
    "2. We speak on a first-come-first-served basis.\n",
    "3. if you want to write or ask a question, don't be shy. Just choose your color for your comment.  \n",
    "4. this is a training project, you don't have to be afraid of making a mistake.  \n",
    "5. You have an unlimited number of attempts to pass the project.  \n",
    "6. Let's Go!\n",
    "\n",
    "\n",
    "---\n",
    "I'll be color-coding comments, please don't delete them:\n",
    "\n",
    "<div class=\"alert alert-block alert-danger\">✍\n",
    "    \n",
    "\n",
    "__Reviewer's comment №1__\n",
    "\n",
    "Needs fixing. The block requires some corrections. Work can't be accepted with the red comments.\n",
    "</div>\n",
    "    \n",
    "---\n",
    "\n",
    "<div class=\"alert alert-block alert-warning\">📝\n",
    "    \n",
    "\n",
    "__Reviewer's comment №1__\n",
    "\n",
    "\n",
    "Remarks. Some recommendations.\n",
    "</div>\n",
    "\n",
    "---\n",
    "\n",
    "<div class=\"alert alert-block alert-success\">✔️\n",
    "    \n",
    "\n",
    "__Reviewer's comment №1__\n",
    "\n",
    "Success. Everything is done succesfully.\n",
    "</div>\n",
    "    \n",
    "---\n",
    "    \n",
    "I suggest that we work on the project in dialogue: if you change something in the project or respond to my comments, write about it. It will be easier for me to track changes if you highlight your comments:   \n",
    "    \n",
    "<div class=\"alert alert-info\"> <b>Student сomments:</b> Student answer..</div>\n",
    "    \n",
    "All this will help to make the recheck of your project faster. If you have any questions about my comments, let me know, we'll figure it out together :)   \n",
    "    \n",
    "---"
   ]
  },
  {
   "cell_type": "markdown",
   "id": "d5fbdf0c",
   "metadata": {},
   "source": []
  },
  {
   "cell_type": "markdown",
   "id": "fba86427",
   "metadata": {},
   "source": [
    "<div class=\"alert alert-block alert-danger\">✍\n",
    "    \n",
    "\n",
    "__Reviewer's comment №1__\n",
    "\n",
    "An excellent practice is to describe the goal and main steps in your own words (a skill that will help a lot on a final project). It would be good to add the progress and purpose of the study."
   ]
  },
  {
   "cell_type": "markdown",
   "id": "bd3a463f",
   "metadata": {},
   "source": [
    "<div class=\"alert alert-info\"> <b>Student сomments:</b> Hello Alexander! Thank you so much for taking the time to review and provide feedback! I'll use this blue code block to ask or comment on your feedback. My goal and steps are outlined below</div> \n",
    "\n",
    "\n"
   ]
  },
  {
   "cell_type": "markdown",
   "id": "9c85195d",
   "metadata": {},
   "source": [
    "<div class=\"alert alert-block alert-success\">✔️\n",
    "    \n",
    "\n",
    "__Reviewer's comment №2__\n",
    "\n",
    "Mark, hello. Thank you for your feedback and edits"
   ]
  },
  {
   "cell_type": "markdown",
   "id": "47a1e2a7",
   "metadata": {},
   "source": [
    "<h2>Objective</h2>\n",
    "With the data provided on Instacart orders, we will address the multiple data sets and large data sets by: \n",
    "1. Cleaning up data before processing it by handling null values, duplicate values, and changing data types when applicable\n",
    "2. Utilizing data visualizations, bar graphs or histograms\n",
    "3. Merging data sets to gain more insight\n",
    "4. Advanced filtering to find any other trends in the data\n"
   ]
  },
  {
   "cell_type": "code",
   "execution_count": 1,
   "id": "fbf1adab",
   "metadata": {},
   "outputs": [],
   "source": [
    "import pandas as pd\n",
    "from matplotlib import pyplot as plt\n",
    "import numpy as np"
   ]
  },
  {
   "cell_type": "code",
   "execution_count": 2,
   "id": "ad36396d",
   "metadata": {},
   "outputs": [
    {
     "name": "stdout",
     "output_type": "stream",
     "text": [
      "   order_id  user_id  order_number  order_dow  order_hour_of_day  \\\n",
      "0   1515936   183418            11          6                 13   \n",
      "1   1690866   163593             5          5                 12   \n",
      "2   1454967    39980             4          5                 19   \n",
      "3   1768857    82516            56          0                 20   \n",
      "4   3007858   196724             2          4                 12   \n",
      "\n",
      "   days_since_prior_order  \n",
      "0                    30.0  \n",
      "1                     9.0  \n",
      "2                     2.0  \n",
      "3                    10.0  \n",
      "4                    17.0  \n",
      "<class 'pandas.core.frame.DataFrame'>\n",
      "RangeIndex: 478967 entries, 0 to 478966\n",
      "Data columns (total 6 columns):\n",
      " #   Column                  Non-Null Count   Dtype  \n",
      "---  ------                  --------------   -----  \n",
      " 0   order_id                478967 non-null  int64  \n",
      " 1   user_id                 478967 non-null  int64  \n",
      " 2   order_number            478967 non-null  int64  \n",
      " 3   order_dow               478967 non-null  int64  \n",
      " 4   order_hour_of_day       478967 non-null  int64  \n",
      " 5   days_since_prior_order  450148 non-null  float64\n",
      "dtypes: float64(1), int64(5)\n",
      "memory usage: 21.9 MB\n"
     ]
    }
   ],
   "source": [
    "# reading in the csv and inspecting the data\n",
    "df_instacart_orders = pd.read_csv('/datasets/instacart_orders.csv', sep=';')\n",
    "print(df_instacart_orders.head())\n",
    "df_instacart_orders.info()\n",
    "# df_instacart_orders.describe()"
   ]
  },
  {
   "cell_type": "markdown",
   "id": "a15ede8d",
   "metadata": {},
   "source": [
    "<div class=\"alert alert-block alert-warning\">📝\n",
    "    \n",
    "\n",
    "__Reviewer's comment №1__\n",
    "\n",
    "\n",
    "I suggest separating logically different things:\n",
    "\n",
    "    - library imports\n",
    "    - data opening (this may not be a trivial process)\n",
    "    - working code\n",
    "    \n",
    "This approach will improve code readability, reduce the time of searching for errors, if there are any, and exclude code re-execution\n",
    "</div>"
   ]
  },
  {
   "cell_type": "markdown",
   "id": "f86a85d8",
   "metadata": {},
   "source": [
    "<div class=\"alert alert-info\"> <b>Student сomments:</b> To clarify on data opening, should I have grouped all the read_csv lines together and then call the head and info methods in a separate code block as the working code?</div>"
   ]
  },
  {
   "cell_type": "markdown",
   "id": "e6b65a62",
   "metadata": {},
   "source": [
    "<div class=\"alert alert-block alert-warning\">📝\n",
    "    \n",
    "\n",
    "__Reviewer's comment №2__\n",
    "\n",
    "\n",
    "According to RER8 standards they should be separated, below show:"
   ]
  },
  {
   "cell_type": "markdown",
   "id": "8e767088",
   "metadata": {},
   "source": [
    "import pandas as pd\n",
    "\n",
    "from matplotlib import pyplot as plt\n",
    "\n",
    "import numpy as np"
   ]
  },
  {
   "cell_type": "markdown",
   "id": "adb3fe87",
   "metadata": {},
   "source": [
    "---"
   ]
  },
  {
   "cell_type": "markdown",
   "id": "0a23c787",
   "metadata": {},
   "source": [
    "--reading in the csv and inspecting the data\n",
    "\n",
    "df_instacart_orders = pd.read_csv('/datasets/instacart_orders.csv', sep=';')"
   ]
  },
  {
   "cell_type": "markdown",
   "id": "aa76d32f",
   "metadata": {},
   "source": [
    "---"
   ]
  },
  {
   "cell_type": "markdown",
   "id": "a60e299e",
   "metadata": {},
   "source": [
    "print(df_instacart_orders.head())\n",
    "\n",
    "df_instacart_orders.info()\n",
    "\n",
    "--df_instacart_orders.describe()"
   ]
  },
  {
   "cell_type": "markdown",
   "id": "ef191d33",
   "metadata": {},
   "source": []
  },
  {
   "cell_type": "markdown",
   "id": "e0204645",
   "metadata": {},
   "source": []
  },
  {
   "cell_type": "markdown",
   "id": "8c04bc05",
   "metadata": {},
   "source": []
  },
  {
   "cell_type": "markdown",
   "id": "3eeb4adf",
   "metadata": {},
   "source": []
  },
  {
   "cell_type": "code",
   "execution_count": 3,
   "id": "ad6a1efa",
   "metadata": {},
   "outputs": [
    {
     "name": "stdout",
     "output_type": "stream",
     "text": [
      "   product_id                                       product_name  aisle_id  \\\n",
      "0           1                         Chocolate Sandwich Cookies        61   \n",
      "1           2                                   All-Seasons Salt       104   \n",
      "2           3               Robust Golden Unsweetened Oolong Tea        94   \n",
      "3           4  Smart Ones Classic Favorites Mini Rigatoni Wit...        38   \n",
      "4           5                          Green Chile Anytime Sauce         5   \n",
      "\n",
      "   department_id  \n",
      "0             19  \n",
      "1             13  \n",
      "2              7  \n",
      "3              1  \n",
      "4             13  \n",
      "<class 'pandas.core.frame.DataFrame'>\n",
      "RangeIndex: 49694 entries, 0 to 49693\n",
      "Data columns (total 4 columns):\n",
      " #   Column         Non-Null Count  Dtype \n",
      "---  ------         --------------  ----- \n",
      " 0   product_id     49694 non-null  int64 \n",
      " 1   product_name   48436 non-null  object\n",
      " 2   aisle_id       49694 non-null  int64 \n",
      " 3   department_id  49694 non-null  int64 \n",
      "dtypes: int64(3), object(1)\n",
      "memory usage: 1.5+ MB\n"
     ]
    }
   ],
   "source": [
    "# reading in the csv and inspecting the data\n",
    "df_products = pd.read_csv('/datasets/products.csv', sep=';')\n",
    "print(df_products.head())\n",
    "df_products.info()"
   ]
  },
  {
   "cell_type": "code",
   "execution_count": 4,
   "id": "5130e05e",
   "metadata": {},
   "outputs": [
    {
     "name": "stdout",
     "output_type": "stream",
     "text": [
      "   order_id  product_id  add_to_cart_order  reordered\n",
      "0   2141543       11440               17.0          0\n",
      "1    567889        1560                1.0          1\n",
      "2   2261212       26683                1.0          1\n",
      "3    491251        8670               35.0          1\n",
      "4   2571142        1940                5.0          1\n",
      "<class 'pandas.core.frame.DataFrame'>\n",
      "RangeIndex: 4545007 entries, 0 to 4545006\n",
      "Data columns (total 4 columns):\n",
      " #   Column             Non-Null Count    Dtype  \n",
      "---  ------             --------------    -----  \n",
      " 0   order_id           4545007 non-null  int64  \n",
      " 1   product_id         4545007 non-null  int64  \n",
      " 2   add_to_cart_order  4544171 non-null  float64\n",
      " 3   reordered          4545007 non-null  int64  \n",
      "dtypes: float64(1), int64(3)\n",
      "memory usage: 138.7 MB\n"
     ]
    }
   ],
   "source": [
    "# reading in the csv and inspecting the data\n",
    "df_order_products = pd.read_csv('/datasets/order_products.csv', sep=';')\n",
    "print(df_order_products.head())\n",
    "df_order_products.info(show_counts=True)\n",
    "# added show_counts=True for large data sets"
   ]
  },
  {
   "cell_type": "code",
   "execution_count": 5,
   "id": "d8370c05",
   "metadata": {},
   "outputs": [
    {
     "name": "stdout",
     "output_type": "stream",
     "text": [
      "   aisle_id                       aisle\n",
      "0         1       prepared soups salads\n",
      "1         2           specialty cheeses\n",
      "2         3         energy granola bars\n",
      "3         4               instant foods\n",
      "4         5  marinades meat preparation\n",
      "<class 'pandas.core.frame.DataFrame'>\n",
      "RangeIndex: 134 entries, 0 to 133\n",
      "Data columns (total 2 columns):\n",
      " #   Column    Non-Null Count  Dtype \n",
      "---  ------    --------------  ----- \n",
      " 0   aisle_id  134 non-null    int64 \n",
      " 1   aisle     134 non-null    object\n",
      "dtypes: int64(1), object(1)\n",
      "memory usage: 2.2+ KB\n"
     ]
    }
   ],
   "source": [
    "# reading in the csv and inspecting the data\n",
    "df_aisles = pd.read_csv('/datasets/aisles.csv', sep=';')  # 2 cols\n",
    "print(df_aisles.head())\n",
    "df_aisles.info()"
   ]
  },
  {
   "cell_type": "code",
   "execution_count": 6,
   "id": "59e2090f",
   "metadata": {},
   "outputs": [
    {
     "name": "stdout",
     "output_type": "stream",
     "text": [
      "   department_id department\n",
      "0              1     frozen\n",
      "1              2      other\n",
      "2              3     bakery\n",
      "3              4    produce\n",
      "4              5    alcohol\n",
      "<class 'pandas.core.frame.DataFrame'>\n",
      "RangeIndex: 21 entries, 0 to 20\n",
      "Data columns (total 2 columns):\n",
      " #   Column         Non-Null Count  Dtype \n",
      "---  ------         --------------  ----- \n",
      " 0   department_id  21 non-null     int64 \n",
      " 1   department     21 non-null     object\n",
      "dtypes: int64(1), object(1)\n",
      "memory usage: 464.0+ bytes\n"
     ]
    }
   ],
   "source": [
    "df_departments = pd.read_csv('/datasets/departments.csv', sep=';') # 2 cols\n",
    "print(df_departments.head())\n",
    "df_departments.info()"
   ]
  },
  {
   "cell_type": "markdown",
   "id": "9b93d0e1",
   "metadata": {},
   "source": [
    "<div class=\"alert alert-block alert-warning\">📝\n",
    "    \n",
    "\n",
    "__Reviewer's comment №1__\n",
    "\n",
    "It would be good to comment on the data somehow"
   ]
  },
  {
   "cell_type": "markdown",
   "id": "51a3bcfb",
   "metadata": {},
   "source": [
    "<div class=\"alert alert-info\"> <b>Student сomments:</b> added a summary on the data below.</div>\n",
    "    \n",
    "When looking at the info on the data, some data sets have missing values, like in the days_since_prior_order column for the df_instacart_orders dataframe. This will be handled in the preprocessing later, along with duplicate values."
   ]
  },
  {
   "cell_type": "markdown",
   "id": "3ac60138",
   "metadata": {},
   "source": [
    "<div class=\"alert alert-block alert-success\">✔️\n",
    "    \n",
    "\n",
    "__Reviewer's comment №2__\n",
    "\n",
    "Great"
   ]
  },
  {
   "cell_type": "markdown",
   "id": "07357848-dc64-4156-9cc3-01ff4365226d",
   "metadata": {},
   "source": [
    "## Find and remove duplicate values (and describe why you make your choices)"
   ]
  },
  {
   "cell_type": "markdown",
   "id": "f179f0a9",
   "metadata": {},
   "source": [
    "### `orders` data frame"
   ]
  },
  {
   "cell_type": "code",
   "execution_count": 7,
   "id": "b99297a5-405a-463d-8535-9adc3da4ad74",
   "metadata": {},
   "outputs": [
    {
     "name": "stdout",
     "output_type": "stream",
     "text": [
      "15\n",
      "        order_id  user_id  order_number  order_dow  order_hour_of_day  \\\n",
      "371905    391768    57671            19          3                  2   \n",
      "321100    408114    68324             4          3                  2   \n",
      "394347    467134    63189            21          3                  2   \n",
      "145574    794638    50898            24          3                  2   \n",
      "311713   1021560    53767             3          3                  2   \n",
      "273805   1112182   202304            84          3                  2   \n",
      "411408   1286742   183220            48          3                  2   \n",
      "266232   1782114   106752             1          3                  2   \n",
      "230807   1918001   188546            14          3                  2   \n",
      "323900   1919531   191501            32          3                  2   \n",
      "441599   2125197    14050            48          3                  2   \n",
      "223105   2160484   107525            16          3                  2   \n",
      "345917   2232988    82565             1          3                  2   \n",
      "415163   2282673    86751            49          3                  2   \n",
      "284038   2845099    31189            11          3                  2   \n",
      "\n",
      "        days_since_prior_order  \n",
      "371905                    10.0  \n",
      "321100                    18.0  \n",
      "394347                     2.0  \n",
      "145574                     2.0  \n",
      "311713                     9.0  \n",
      "273805                     6.0  \n",
      "411408                     4.0  \n",
      "266232                     NaN  \n",
      "230807                    16.0  \n",
      "323900                     7.0  \n",
      "441599                     3.0  \n",
      "223105                    30.0  \n",
      "345917                     NaN  \n",
      "415163                     2.0  \n",
      "284038                     7.0  \n",
      "        order_id  user_id  order_number  order_dow  order_hour_of_day  \\\n",
      "142258   2845099    31189            11          3                  2   \n",
      "284038   2845099    31189            11          3                  2   \n",
      "\n",
      "        days_since_prior_order  \n",
      "142258                     7.0  \n",
      "284038                     7.0  \n"
     ]
    }
   ],
   "source": [
    "# Check for duplicated orders\n",
    "print(df_instacart_orders[df_instacart_orders['order_id'].duplicated()]['order_id'].count())  # Counting that there is 15 duplicates\n",
    "df_instacart_orders_sorted = df_instacart_orders[df_instacart_orders.duplicated()]\n",
    "print(df_instacart_orders_sorted.sort_values(by='order_id'))  # Printing the order_id's that are duplicated\n",
    "print(df_instacart_orders[df_instacart_orders['order_id'] == 2845099])  # Made sure this order id has a duplicate; will test again later "
   ]
  },
  {
   "cell_type": "markdown",
   "id": "dd1e959a",
   "metadata": {},
   "source": [
    "<div class=\"alert alert-block alert-success\">✔️\n",
    "    \n",
    "\n",
    "__Reviewer's comment №1__\n",
    "\n",
    "Duplicate checking is the basis of data preprocessing"
   ]
  },
  {
   "cell_type": "code",
   "execution_count": 8,
   "id": "0d44de5d",
   "metadata": {},
   "outputs": [
    {
     "name": "stdout",
     "output_type": "stream",
     "text": [
      "        order_id  user_id  order_number  order_dow  order_hour_of_day  \\\n",
      "4838     2766110   162084            41          3                  2   \n",
      "5156     2190225   138285            18          3                  2   \n",
      "15506     553049    58599            13          3                  2   \n",
      "18420     382357   120200            19          3                  2   \n",
      "24691     690242    77357             2          3                  2   \n",
      "...          ...      ...           ...        ...                ...   \n",
      "457013   3384021    14881             6          3                  2   \n",
      "458816    910166   164782            18          3                  2   \n",
      "459635   1680532   106435             6          3                  2   \n",
      "468324    222962    54979            59          3                  2   \n",
      "477526   2592344    46860            38          3                  2   \n",
      "\n",
      "        days_since_prior_order  \n",
      "4838                      16.0  \n",
      "5156                      11.0  \n",
      "15506                      7.0  \n",
      "18420                     11.0  \n",
      "24691                      9.0  \n",
      "...                        ...  \n",
      "457013                    30.0  \n",
      "458816                     4.0  \n",
      "459635                    21.0  \n",
      "468324                     3.0  \n",
      "477526                     3.0  \n",
      "\n",
      "[121 rows x 6 columns]\n"
     ]
    }
   ],
   "source": [
    "# Check for all orders placed Wednesday at 2:00 AM\n",
    "# Our assumption will be that 0 is Sunday through 6 for Saturday; 3 is Wednesday in this case\n",
    "# For the hours, 0 is 12am and 23 is 11pm; 2 is 2am in this case\n",
    "# Filter with 2 conditions using the and operator (&)\n",
    "wed_at_2am = df_instacart_orders[(df_instacart_orders['order_dow'] == 3) & (df_instacart_orders['order_hour_of_day'] == 2)]\n",
    "print(wed_at_2am)"
   ]
  },
  {
   "cell_type": "code",
   "execution_count": 9,
   "id": "480563c7",
   "metadata": {},
   "outputs": [],
   "source": [
    "# Remove duplicate orders\n",
    "# Since there were originally 478967 rows and 15 duplicate row, there should be 478952 rows left\n",
    "# Using the drop_duplicates method\n",
    "df_instacart_orders.drop_duplicates(keep=\"first\", inplace=True)"
   ]
  },
  {
   "cell_type": "code",
   "execution_count": 10,
   "id": "0b2396a2",
   "metadata": {},
   "outputs": [
    {
     "name": "stdout",
     "output_type": "stream",
     "text": [
      "Empty DataFrame\n",
      "Columns: [order_id, user_id, order_number, order_dow, order_hour_of_day, days_since_prior_order]\n",
      "Index: []\n",
      "        order_id  user_id  order_number  order_dow  order_hour_of_day  \\\n",
      "142258   2845099    31189            11          3                  2   \n",
      "\n",
      "        days_since_prior_order  \n",
      "142258                     7.0  \n",
      "<class 'pandas.core.frame.DataFrame'>\n",
      "Int64Index: 478952 entries, 0 to 478966\n",
      "Data columns (total 6 columns):\n",
      " #   Column                  Non-Null Count   Dtype  \n",
      "---  ------                  --------------   -----  \n",
      " 0   order_id                478952 non-null  int64  \n",
      " 1   user_id                 478952 non-null  int64  \n",
      " 2   order_number            478952 non-null  int64  \n",
      " 3   order_dow               478952 non-null  int64  \n",
      " 4   order_hour_of_day       478952 non-null  int64  \n",
      " 5   days_since_prior_order  450135 non-null  float64\n",
      "dtypes: float64(1), int64(5)\n",
      "memory usage: 25.6 MB\n"
     ]
    }
   ],
   "source": [
    "# Double check for duplicate rows\n",
    "print(df_instacart_orders[df_instacart_orders.duplicated()])  # Checking to see if there is an empty dataframe\n",
    "# print(df_instacart_orders[df_instacart_orders['order_id'].duplicated()]['order_id'].count()) # count is 0 means duplicates is 0\n",
    "print(df_instacart_orders[df_instacart_orders['order_id'] == 2845099])  # Made sure there's only one record left for this order id \n",
    "df_instacart_orders.info()  # Total entries went down tto 478952, 15 rows less"
   ]
  },
  {
   "cell_type": "code",
   "execution_count": 11,
   "id": "f6113ef1",
   "metadata": {},
   "outputs": [
    {
     "name": "stdout",
     "output_type": "stream",
     "text": [
      "0\n"
     ]
    }
   ],
   "source": [
    "# Double check for duplicate order IDs only\n",
    "print(df_instacart_orders[df_instacart_orders['order_id'].duplicated()]['order_id'].count())"
   ]
  },
  {
   "cell_type": "markdown",
   "id": "5e8905ae",
   "metadata": {},
   "source": [
    "The above shows there's no more duplicated order IDs in the instacart orders dataframe."
   ]
  },
  {
   "cell_type": "markdown",
   "id": "b488b547",
   "metadata": {},
   "source": [
    "<div class=\"alert alert-block alert-success\">✔️\n",
    "    \n",
    "\n",
    "__Reviewer's comment №1__\n",
    "\n",
    "Great"
   ]
  },
  {
   "cell_type": "markdown",
   "id": "45e6bc46",
   "metadata": {},
   "source": [
    "### `products` data frame"
   ]
  },
  {
   "cell_type": "code",
   "execution_count": 12,
   "id": "5f526b5b-8175-46fa-a0fd-441767d50e64",
   "metadata": {},
   "outputs": [
    {
     "name": "stdout",
     "output_type": "stream",
     "text": [
      "Empty DataFrame\n",
      "Columns: [product_id, product_name, aisle_id, department_id]\n",
      "Index: []\n"
     ]
    }
   ],
   "source": [
    "# Check for fully duplicate rows\n",
    "print(df_products[df_products.duplicated()])  # checking to see if complete rows are duplicated\n"
   ]
  },
  {
   "cell_type": "code",
   "execution_count": 13,
   "id": "88daa4f4",
   "metadata": {},
   "outputs": [
    {
     "name": "stdout",
     "output_type": "stream",
     "text": [
      "Empty DataFrame\n",
      "Columns: [product_id, product_name, aisle_id, department_id]\n",
      "Index: []\n"
     ]
    },
    {
     "data": {
      "text/plain": [
       "49694"
      ]
     },
     "execution_count": 13,
     "metadata": {},
     "output_type": "execute_result"
    }
   ],
   "source": [
    "# Check for just duplicate product IDs\n",
    "print(df_products[df_products['product_id'].duplicated()])  # checking to see if there are duplicated product ids, should be empty\n",
    "df_products['product_id'].value_counts().sum()  # There should be 49694 rows showing no product ids were duplicated"
   ]
  },
  {
   "cell_type": "code",
   "execution_count": 14,
   "id": "c773f0bf",
   "metadata": {},
   "outputs": [
    {
     "name": "stdout",
     "output_type": "stream",
     "text": [
      "48436\n",
      "       product_id                                     product_name  aisle_id  \\\n",
      "71             72                                              NaN       100   \n",
      "109           110                                              NaN       100   \n",
      "296           297                                              NaN       100   \n",
      "416           417                                              NaN       100   \n",
      "436           437                                              NaN       100   \n",
      "...           ...                                              ...       ...   \n",
      "49689       49690                    HIGH PERFORMANCE ENERGY DRINK        64   \n",
      "49690       49691                    ORIGINAL PANCAKE & WAFFLE MIX       130   \n",
      "49691       49692  ORGANIC INSTANT OATMEAL LIGHT MAPLE BROWN SUGAR       130   \n",
      "49692       49693                           SPRING WATER BODY WASH       127   \n",
      "49693       49694                          BURRITO- STEAK & CHEESE        38   \n",
      "\n",
      "       department_id                               product_name_lower  \n",
      "71                21                                              NaN  \n",
      "109               21                                              NaN  \n",
      "296               21                                              NaN  \n",
      "416               21                                              NaN  \n",
      "436               21                                              NaN  \n",
      "...              ...                                              ...  \n",
      "49689              7                    high performance energy drink  \n",
      "49690             14                    original pancake & waffle mix  \n",
      "49691             14  organic instant oatmeal light maple brown sugar  \n",
      "49692             11                           spring water body wash  \n",
      "49693              1                          burrito- steak & cheese  \n",
      "\n",
      "[1361 rows x 5 columns]\n"
     ]
    }
   ],
   "source": [
    "# Check for just duplicate product names (convert names to lowercase to compare better)\n",
    "print(df_products['product_name'].value_counts().sum())  # Testing to see if there are 49694 names; should be less due to duplicates\n",
    "df_products['product_name_lower'] = df_products['product_name'].str.lower() # Create a new column with all the product names in lowercase\n",
    "df_products_duplicates = df_products[df_products['product_name_lower'].duplicated()]  # Printing out any duplicated lowercase names\n",
    "print(df_products_duplicates)"
   ]
  },
  {
   "cell_type": "code",
   "execution_count": 15,
   "id": "01efd02e",
   "metadata": {},
   "outputs": [
    {
     "name": "stdout",
     "output_type": "stream",
     "text": [
      "       product_id                                       product_name  \\\n",
      "0               1                         Chocolate Sandwich Cookies   \n",
      "1               2                                   All-Seasons Salt   \n",
      "2               3               Robust Golden Unsweetened Oolong Tea   \n",
      "3               4  Smart Ones Classic Favorites Mini Rigatoni Wit...   \n",
      "4               5                          Green Chile Anytime Sauce   \n",
      "...           ...                                                ...   \n",
      "49689       49690                      HIGH PERFORMANCE ENERGY DRINK   \n",
      "49690       49691                      ORIGINAL PANCAKE & WAFFLE MIX   \n",
      "49691       49692    ORGANIC INSTANT OATMEAL LIGHT MAPLE BROWN SUGAR   \n",
      "49692       49693                             SPRING WATER BODY WASH   \n",
      "49693       49694                            BURRITO- STEAK & CHEESE   \n",
      "\n",
      "       aisle_id  department_id  \\\n",
      "0            61             19   \n",
      "1           104             13   \n",
      "2            94              7   \n",
      "3            38              1   \n",
      "4             5             13   \n",
      "...         ...            ...   \n",
      "49689        64              7   \n",
      "49690       130             14   \n",
      "49691       130             14   \n",
      "49692       127             11   \n",
      "49693        38              1   \n",
      "\n",
      "                                      product_name_lower  \n",
      "0                             chocolate sandwich cookies  \n",
      "1                                       all-seasons salt  \n",
      "2                   robust golden unsweetened oolong tea  \n",
      "3      smart ones classic favorites mini rigatoni wit...  \n",
      "4                              green chile anytime sauce  \n",
      "...                                                  ...  \n",
      "49689                      high performance energy drink  \n",
      "49690                      original pancake & waffle mix  \n",
      "49691    organic instant oatmeal light maple brown sugar  \n",
      "49692                             spring water body wash  \n",
      "49693                            burrito- steak & cheese  \n",
      "\n",
      "[48436 rows x 5 columns]\n",
      "solid white albacore tuna in spring water    1\n",
      "tomato juice from concentrate                1\n",
      "bbq sauce                                    1\n",
      "burrito- steak & cheese                      1\n",
      "skinless & boneless sardines in olive oil    1\n",
      "                                            ..\n",
      "high performance energy drink                1\n",
      "original potato chips                        1\n",
      "powerball max in 1 shine & protect           1\n",
      "coconut juice with pulp                      1\n",
      "green tea with ginseng and honey             2\n",
      "Name: product_name_lower, Length: 103, dtype: int64\n"
     ]
    }
   ],
   "source": [
    "# Check for duplicate product names that aren't missing\n",
    "na_df_products = df_products[~df_products['product_name_lower'].isna()]  # Filtered out rows with nulls\n",
    "print(na_df_products)\n",
    "# print(na_df_products[na_df_products['product_name_lower'].duplicated()])\n",
    "# Checking if there's any duplicated product names in lowercase\n",
    "print(na_df_products[na_df_products['product_name_lower'].duplicated()]['product_name_lower'].value_counts().sort_values())"
   ]
  },
  {
   "cell_type": "markdown",
   "id": "9da8d293",
   "metadata": {},
   "source": [
    "There is 103 items with the same name that is not missing (NaN)."
   ]
  },
  {
   "cell_type": "markdown",
   "id": "b79dfcd7",
   "metadata": {},
   "source": [
    "<div class=\"alert alert-block alert-success\">✔️\n",
    "    \n",
    "\n",
    "__Reviewer's comment №1__\n",
    "\n",
    "That's right, well done!)"
   ]
  },
  {
   "cell_type": "markdown",
   "id": "60f30db1",
   "metadata": {},
   "source": [
    "### `departments` data frame"
   ]
  },
  {
   "cell_type": "code",
   "execution_count": 16,
   "id": "fb410ad4-0fbf-4b80-bb09-23fdea79afe3",
   "metadata": {},
   "outputs": [
    {
     "name": "stdout",
     "output_type": "stream",
     "text": [
      "Empty DataFrame\n",
      "Columns: [department_id, department]\n",
      "Index: []\n",
      "Empty DataFrame\n",
      "Columns: [department_id, department]\n",
      "Index: []\n",
      "Empty DataFrame\n",
      "Columns: [department_id, department, department_lower]\n",
      "Index: []\n"
     ]
    }
   ],
   "source": [
    "print(df_departments[df_departments.duplicated()])  # Checking whole rows for duplicates\n",
    "print(df_departments[df_departments['department'].duplicated()])  # Checking for duplicate departments\n",
    "df_departments['department_lower'] = df_departments['department'].str.lower()  # Making departments lowercase\n",
    "print(df_departments[df_departments['department_lower'].duplicated()])  # Rechecking deparment names for duplicates"
   ]
  },
  {
   "cell_type": "code",
   "execution_count": null,
   "id": "332b12bb",
   "metadata": {},
   "outputs": [],
   "source": []
  },
  {
   "cell_type": "markdown",
   "id": "bd30d78e",
   "metadata": {},
   "source": [
    "There are no duplicate departments."
   ]
  },
  {
   "cell_type": "markdown",
   "id": "889349c1",
   "metadata": {},
   "source": [
    "### `aisles` data frame"
   ]
  },
  {
   "cell_type": "code",
   "execution_count": 17,
   "id": "9da89fb9-4679-40f5-ad0d-c34df753a3f8",
   "metadata": {},
   "outputs": [
    {
     "name": "stdout",
     "output_type": "stream",
     "text": [
      "Empty DataFrame\n",
      "Columns: [aisle_id, aisle]\n",
      "Index: []\n",
      "Empty DataFrame\n",
      "Columns: [aisle_id, aisle]\n",
      "Index: []\n"
     ]
    }
   ],
   "source": [
    "print(df_aisles[df_aisles.duplicated()])  # Checking whole rows for duplicates\n",
    "print(df_aisles[df_aisles['aisle'].duplicated()])  # Checking for duplicate aisle names"
   ]
  },
  {
   "cell_type": "code",
   "execution_count": 18,
   "id": "da7c2822",
   "metadata": {},
   "outputs": [
    {
     "name": "stdout",
     "output_type": "stream",
     "text": [
      "Empty DataFrame\n",
      "Columns: [aisle_id, aisle, aisle_lower]\n",
      "Index: []\n"
     ]
    }
   ],
   "source": [
    "df_aisles['aisle_lower'] = df_aisles['aisle'].str.lower()  # Making aisle names lowercase\n",
    "print(df_aisles[df_aisles['aisle_lower'].duplicated()])  # Rechecking aisle names for duplicates"
   ]
  },
  {
   "cell_type": "markdown",
   "id": "ac63826f",
   "metadata": {},
   "source": [
    "There are no duplicate aisles."
   ]
  },
  {
   "cell_type": "markdown",
   "id": "274cd06a",
   "metadata": {},
   "source": [
    "### `order_products` data frame"
   ]
  },
  {
   "cell_type": "code",
   "execution_count": 19,
   "id": "52326689-84a8-4b8f-a881-7c68780f62c9",
   "metadata": {},
   "outputs": [
    {
     "name": "stdout",
     "output_type": "stream",
     "text": [
      "Empty DataFrame\n",
      "Columns: [order_id, product_id, add_to_cart_order, reordered]\n",
      "Index: []\n",
      "<class 'pandas.core.frame.DataFrame'>\n",
      "RangeIndex: 4545007 entries, 0 to 4545006\n",
      "Data columns (total 4 columns):\n",
      " #   Column             Non-Null Count    Dtype  \n",
      "---  ------             --------------    -----  \n",
      " 0   order_id           4545007 non-null  int64  \n",
      " 1   product_id         4545007 non-null  int64  \n",
      " 2   add_to_cart_order  4544171 non-null  float64\n",
      " 3   reordered          4545007 non-null  int64  \n",
      "dtypes: float64(1), int64(3)\n",
      "memory usage: 138.7 MB\n"
     ]
    }
   ],
   "source": [
    "# Check for fullly duplicate rows\n",
    "# 4545007 rows\n",
    "print(df_order_products[df_order_products.duplicated()])  # shows empty dataframe\n",
    "df_order_products.info(show_counts=True)"
   ]
  },
  {
   "cell_type": "code",
   "execution_count": 20,
   "id": "7b861391",
   "metadata": {},
   "outputs": [
    {
     "name": "stdout",
     "output_type": "stream",
     "text": [
      "Empty DataFrame\n",
      "Columns: [order_id, product_id, add_to_cart_order, reordered]\n",
      "Index: []\n"
     ]
    }
   ],
   "source": [
    "# Double check for any other tricky duplicates\n",
    "# checking to see if an order ID tried to add the same product ID\n",
    "print(df_order_products[df_order_products[['order_id', 'product_id']].duplicated()])  \n",
    "# print(df_order_products[df_order_products['product_id'].duplicated()])\n",
    "# print(df_order_products[df_order_products['order_id'] == 1717990])\n",
    "# print(len(df_order_products[df_order_products['order_id'] == 1717990]['product_id'].unique()))"
   ]
  },
  {
   "cell_type": "markdown",
   "id": "0b890492",
   "metadata": {},
   "source": [
    "The check for tricky duplicates tests to see if an order ID has a product ID used more than once. Since none came up, there are no duplicates."
   ]
  },
  {
   "cell_type": "markdown",
   "id": "b9859b32",
   "metadata": {},
   "source": [
    "<div class=\"alert alert-block alert-success\">✔️\n",
    "    \n",
    "\n",
    "__Reviewer's comment №1__\n",
    "\n",
    "all right"
   ]
  },
  {
   "cell_type": "markdown",
   "id": "1e46de76",
   "metadata": {},
   "source": [
    "## Find and remove missing values\n"
   ]
  },
  {
   "cell_type": "markdown",
   "id": "c0aebd78",
   "metadata": {},
   "source": [
    "### `products` data frame"
   ]
  },
  {
   "cell_type": "code",
   "execution_count": 21,
   "id": "fe4a8b0f",
   "metadata": {},
   "outputs": [
    {
     "data": {
      "text/plain": [
       "product_id               0\n",
       "product_name          1258\n",
       "aisle_id                 0\n",
       "department_id            0\n",
       "product_name_lower    1258\n",
       "dtype: int64"
      ]
     },
     "execution_count": 21,
     "metadata": {},
     "output_type": "execute_result"
    }
   ],
   "source": [
    "df_products.isna().sum()  # Checking for null values"
   ]
  },
  {
   "cell_type": "code",
   "execution_count": 22,
   "id": "e96167bc",
   "metadata": {},
   "outputs": [
    {
     "name": "stdout",
     "output_type": "stream",
     "text": [
      "List of aisle ID's for missing product names: [100]\n",
      "Number of aisle ID's for missing product names: 1\n"
     ]
    }
   ],
   "source": [
    "# Are all of the missing product names associated with aisle ID 100?\n",
    "df_products_na = df_products[df_products['product_name'].isna()]\n",
    "print('List of aisle ID\\'s for missing product names:', df_products_na['aisle_id'].unique())\n",
    "print('Number of aisle ID\\'s for missing product names:', df_products_na['aisle_id'].nunique())"
   ]
  },
  {
   "cell_type": "code",
   "execution_count": 23,
   "id": "8fd0a541",
   "metadata": {},
   "outputs": [
    {
     "name": "stdout",
     "output_type": "stream",
     "text": [
      "List of department ID's for missing product names: [21]\n",
      "Number of department ID's for missing product names: 1\n"
     ]
    }
   ],
   "source": [
    "# Are all of the missing product names associated with department ID 21?\n",
    "print('List of department ID\\'s for missing product names:', df_products_na['department_id'].unique())\n",
    "print('Number of department ID\\'s for missing product names:', df_products_na['department_id'].nunique())"
   ]
  },
  {
   "cell_type": "code",
   "execution_count": 24,
   "id": "325c3464",
   "metadata": {},
   "outputs": [
    {
     "name": "stdout",
     "output_type": "stream",
     "text": [
      "Aisle ID: [100]  and Aisle Name: missing\n",
      "Department ID: [21]  and Department Name: missing\n"
     ]
    }
   ],
   "source": [
    "# What is this ailse and department?\n",
    "print('Aisle ID:', df_products_na['aisle_id'].unique(), ' and Aisle Name:', df_aisles.iloc[99, 1]) # df_aisles[df_aisles['aisle_id'] == 100]['aisle'])\n",
    "print('Department ID:', df_products_na['department_id'].unique(), ' and Department Name:', df_departments.iloc[20, 1])  # [df_departments['department_id'] == 21]['department'])"
   ]
  },
  {
   "cell_type": "code",
   "execution_count": 25,
   "id": "6b295120",
   "metadata": {},
   "outputs": [
    {
     "data": {
      "text/plain": [
       "product_id            0\n",
       "product_name          0\n",
       "aisle_id              0\n",
       "department_id         0\n",
       "product_name_lower    0\n",
       "dtype: int64"
      ]
     },
     "execution_count": 25,
     "metadata": {},
     "output_type": "execute_result"
    }
   ],
   "source": [
    "# Fill missing product names with 'Unknown'\n",
    "# Replaced Null values with 'Unknown'\n",
    "df_products['product_name'] = df_products['product_name'].fillna('Unknown')\n",
    "df_products['product_name_lower'] = df_products['product_name_lower'].fillna('Unknown')\n",
    "df_products.isna().sum()"
   ]
  },
  {
   "cell_type": "markdown",
   "id": "fc70e5ad",
   "metadata": {},
   "source": [
    "The data in the Products data has been cleaned up. There are no null values left."
   ]
  },
  {
   "cell_type": "markdown",
   "id": "2d029991",
   "metadata": {},
   "source": [
    "<div class=\"alert alert-block alert-success\">✔️\n",
    "    \n",
    "\n",
    "__Reviewer's comment №1__\n",
    "\n",
    "You chose the most correct way to replace the omissions in the categorical column. Well done!)"
   ]
  },
  {
   "cell_type": "markdown",
   "id": "7eb45c86",
   "metadata": {},
   "source": [
    "### `orders` data frame"
   ]
  },
  {
   "cell_type": "code",
   "execution_count": 26,
   "id": "93e41d96",
   "metadata": {},
   "outputs": [
    {
     "name": "stdout",
     "output_type": "stream",
     "text": [
      "<class 'pandas.core.frame.DataFrame'>\n",
      "Int64Index: 478952 entries, 0 to 478966\n",
      "Data columns (total 6 columns):\n",
      " #   Column                  Non-Null Count   Dtype  \n",
      "---  ------                  --------------   -----  \n",
      " 0   order_id                478952 non-null  int64  \n",
      " 1   user_id                 478952 non-null  int64  \n",
      " 2   order_number            478952 non-null  int64  \n",
      " 3   order_dow               478952 non-null  int64  \n",
      " 4   order_hour_of_day       478952 non-null  int64  \n",
      " 5   days_since_prior_order  450135 non-null  float64\n",
      "dtypes: float64(1), int64(5)\n",
      "memory usage: 25.6 MB\n"
     ]
    },
    {
     "data": {
      "text/plain": [
       "order_id                      0\n",
       "user_id                       0\n",
       "order_number                  0\n",
       "order_dow                     0\n",
       "order_hour_of_day             0\n",
       "days_since_prior_order    28817\n",
       "dtype: int64"
      ]
     },
     "execution_count": 26,
     "metadata": {},
     "output_type": "execute_result"
    }
   ],
   "source": [
    "df_instacart_orders.info()  # Checking for null values\n",
    "df_instacart_orders.isna().sum()"
   ]
  },
  {
   "cell_type": "code",
   "execution_count": 27,
   "id": "166e5a86",
   "metadata": {},
   "outputs": [
    {
     "name": "stdout",
     "output_type": "stream",
     "text": [
      "order_id                  0\n",
      "user_id                   0\n",
      "order_number              0\n",
      "order_dow                 0\n",
      "order_hour_of_day         0\n",
      "days_since_prior_order    0\n",
      "dtype: int64\n",
      "<class 'pandas.core.frame.DataFrame'>\n",
      "Int64Index: 450135 entries, 0 to 478966\n",
      "Data columns (total 6 columns):\n",
      " #   Column                  Non-Null Count   Dtype  \n",
      "---  ------                  --------------   -----  \n",
      " 0   order_id                450135 non-null  int64  \n",
      " 1   user_id                 450135 non-null  int64  \n",
      " 2   order_number            450135 non-null  int64  \n",
      " 3   order_dow               450135 non-null  int64  \n",
      " 4   order_hour_of_day       450135 non-null  int64  \n",
      " 5   days_since_prior_order  450135 non-null  float64\n",
      "dtypes: float64(1), int64(5)\n",
      "memory usage: 24.0 MB\n",
      "None\n"
     ]
    }
   ],
   "source": [
    "# Are there any missing values where it's not a customer's first order?\n",
    "# df_instacart_orders_na = df_instacart_orders.query(\"days_since_prior_order.isna()\")\n",
    "df_instacart_orders_na = df_instacart_orders[~df_instacart_orders['days_since_prior_order'].isna()]\n",
    "print(df_instacart_orders_na.isna().sum())\n",
    "print(df_instacart_orders_na.info())\n"
   ]
  },
  {
   "cell_type": "markdown",
   "id": "4e23d089",
   "metadata": {},
   "source": [
    "I assumed the null values in the days_since_prior_order column meant it was the customer's first order. Then I filtered out the dataframe where there were null values in the 'days_since_prior_order' column. Calling the info method on this new, filtered variable shows that there are no null values in the other columns."
   ]
  },
  {
   "cell_type": "markdown",
   "id": "69dc9ca4",
   "metadata": {},
   "source": [
    "### `order_products` data frame"
   ]
  },
  {
   "cell_type": "code",
   "execution_count": 28,
   "id": "b8240253",
   "metadata": {},
   "outputs": [
    {
     "name": "stdout",
     "output_type": "stream",
     "text": [
      "<class 'pandas.core.frame.DataFrame'>\n",
      "RangeIndex: 4545007 entries, 0 to 4545006\n",
      "Data columns (total 4 columns):\n",
      " #   Column             Dtype  \n",
      "---  ------             -----  \n",
      " 0   order_id           int64  \n",
      " 1   product_id         int64  \n",
      " 2   add_to_cart_order  float64\n",
      " 3   reordered          int64  \n",
      "dtypes: float64(1), int64(3)\n",
      "memory usage: 138.7 MB\n"
     ]
    },
    {
     "data": {
      "text/plain": [
       "order_id               0\n",
       "product_id             0\n",
       "add_to_cart_order    836\n",
       "reordered              0\n",
       "dtype: int64"
      ]
     },
     "execution_count": 28,
     "metadata": {},
     "output_type": "execute_result"
    }
   ],
   "source": [
    "df_order_products.info()\n",
    "# print(df_order_products.head())\n",
    "# print(df_order_products.sample())\n",
    "df_order_products.isna().sum()  # Checking for null values"
   ]
  },
  {
   "cell_type": "code",
   "execution_count": 29,
   "id": "9a78e5ee",
   "metadata": {},
   "outputs": [
    {
     "name": "stdout",
     "output_type": "stream",
     "text": [
      "Min: 1.0\n",
      "Max 64.0\n"
     ]
    },
    {
     "data": {
      "text/plain": [
       "count    4.544171e+06\n",
       "mean     8.351669e+00\n",
       "std      7.080368e+00\n",
       "min      1.000000e+00\n",
       "25%      3.000000e+00\n",
       "50%      6.000000e+00\n",
       "75%      1.100000e+01\n",
       "max      6.400000e+01\n",
       "Name: add_to_cart_order, dtype: float64"
      ]
     },
     "execution_count": 29,
     "metadata": {},
     "output_type": "execute_result"
    }
   ],
   "source": [
    "# What are the min and max values in this column?\n",
    "print('Min:', df_order_products['add_to_cart_order'].min())\n",
    "print('Max', df_order_products['add_to_cart_order'].max())\n",
    "# print(df_order_products.query(\"add_to_cart_order == 0\"))\n",
    "df_order_products['add_to_cart_order'].describe()  # Verifying the min and max with the describe method"
   ]
  },
  {
   "cell_type": "code",
   "execution_count": 30,
   "id": "ab9d0c2b",
   "metadata": {},
   "outputs": [
    {
     "name": "stdout",
     "output_type": "stream",
     "text": [
      "737        2449164\n",
      "9926       1968313\n",
      "14394      2926893\n",
      "16418      1717990\n",
      "30114      1959075\n",
      "            ...   \n",
      "4505662    1800005\n",
      "4511400    1633337\n",
      "4517562     404157\n",
      "4534112    1673227\n",
      "4535739    1832957\n",
      "Name: order_id, Length: 836, dtype: int64\n"
     ]
    }
   ],
   "source": [
    "# Save all order IDs with at least one missing value in 'add_to_cart_order'\n",
    "add_to_cart_order_na = df_order_products.query(\"add_to_cart_order.isna()\")\n",
    "print(add_to_cart_order_na['order_id'])"
   ]
  },
  {
   "cell_type": "code",
   "execution_count": 31,
   "id": "54c31695",
   "metadata": {},
   "outputs": [
    {
     "data": {
      "text/plain": [
       "0"
      ]
     },
     "execution_count": 31,
     "metadata": {},
     "output_type": "execute_result"
    }
   ],
   "source": [
    "# Do all orders with missing values have more than 64 products?\n",
    "# assigning all the order_id numbers into a list\n",
    "list_of_ids = add_to_cart_order_na['order_id'].tolist()\n",
    "# Creating a function to check if any of the order_ids have an order with more than 64 products; returns the total number of orders above 64\n",
    "def count_number_of_products(ids):\n",
    "    count = 0\n",
    "    for id in ids:\n",
    "        max_checker = df_order_products[df_order_products['order_id'] == id]['add_to_cart_order'].max() \n",
    "        if max_checker > 64:\n",
    "            count += 1\n",
    "    return count\n",
    "count_number_of_products(list_of_ids)"
   ]
  },
  {
   "cell_type": "markdown",
   "id": "bcd759af",
   "metadata": {},
   "source": [
    "<div class=\"alert alert-block alert-success\">✔️\n",
    "    \n",
    "\n",
    "__Reviewer's comment №1__\n",
    "Good for you for using your own functions"
   ]
  },
  {
   "cell_type": "code",
   "execution_count": 32,
   "id": "7a987d08",
   "metadata": {},
   "outputs": [
    {
     "name": "stdout",
     "output_type": "stream",
     "text": [
      "order_id               int64\n",
      "product_id             int64\n",
      "add_to_cart_order    float64\n",
      "reordered              int64\n",
      "dtype: object\n",
      "order_id             int64\n",
      "product_id           int64\n",
      "add_to_cart_order    Int64\n",
      "reordered            int64\n",
      "dtype: object\n",
      "<class 'pandas.core.frame.DataFrame'>\n",
      "RangeIndex: 4545007 entries, 0 to 4545006\n",
      "Data columns (total 4 columns):\n",
      " #   Column             Non-Null Count    Dtype\n",
      "---  ------             --------------    -----\n",
      " 0   order_id           4545007 non-null  int64\n",
      " 1   product_id         4545007 non-null  int64\n",
      " 2   add_to_cart_order  4544171 non-null  Int64\n",
      " 3   reordered          4545007 non-null  int64\n",
      "dtypes: Int64(1), int64(3)\n",
      "memory usage: 143.0 MB\n"
     ]
    }
   ],
   "source": [
    "# Replace missing values with 999 and convert column to integer type\n",
    "# df_order_products['add_to_cart_order'] = df_order_products['add_to_cart_order'].fillna(999)  # Replacing with 999\n",
    "print(df_order_products.dtypes)  # Showing add_to_cart_order is still a float\n",
    "df_order_products['add_to_cart_order'] = df_order_products['add_to_cart_order'].astype('Int64', errors='ignore')  # Changing to int64\n",
    "print(df_order_products.dtypes) # Showing add_to_cart_order is integer type\n",
    "\n",
    "df_order_products.info(show_counts=True)"
   ]
  },
  {
   "cell_type": "markdown",
   "id": "fea4bcc7",
   "metadata": {},
   "source": [
    "The order_products data has been cleaned up amd the add_to_cart_order column has been changed to an int64 type. \n",
    "<!--by replacing the null values in the add_to_cart_order column with 999.-->"
   ]
  },
  {
   "cell_type": "markdown",
   "id": "19cffe6c",
   "metadata": {},
   "source": [
    "<div class=\"alert alert-block alert-warning\">📝\n",
    "    \n",
    "\n",
    "__Reviewer's comment №1__\n",
    "\n",
    "\n",
    "Replacing it with 999/-1 etc is not really good. Tip for the future, look, it's not good to try to fill in the blanks left and right. In real work - replace with zero now, then forget and average count a month later. Plus there may be times when a bonus purchase or gift, will cost zero. In general, if it is possible to leave skips as skips - and here it can be done, it is better to do so, the results, even if we want to calculate something - it will not affect the results\n",
    "\n",
    "It is better to use this code construction:\n",
    "    \n",
    "    data[''] = data[''].astype('Int64', errors='ignore')\n",
    "</div>"
   ]
  },
  {
   "cell_type": "markdown",
   "id": "8c898d36",
   "metadata": {},
   "source": [
    "<div class=\"alert alert-info\"> <b>Student сomments:</b> The previous code block had the instructions \"Replace missing values with 999 and convert column to integer type\" so that's why I chose 999 originally.\n",
    "    \n",
    "Your comment makes sense, too, so I've updated the code and it looks like it didn't effect anything else later on.</div>"
   ]
  },
  {
   "cell_type": "markdown",
   "id": "81becf49",
   "metadata": {},
   "source": [
    "<div class=\"alert alert-block alert-success\">✔️\n",
    "    \n",
    "\n",
    "__Reviewer's comment №2__\n",
    "\n",
    "Okay"
   ]
  },
  {
   "cell_type": "markdown",
   "id": "turkish-kidney",
   "metadata": {},
   "source": [
    "# [A] Easy (must complete all to pass)"
   ]
  },
  {
   "cell_type": "markdown",
   "id": "short-capability",
   "metadata": {},
   "source": [
    "### [A1] Verify that the `'order_hour_of_day'` and `'order_dow'` values in the `orders` tables are sensible (i.e. `'order_hour_of_day'` ranges from 0 to 23 and `'order_dow'` ranges from 0 to 6)"
   ]
  },
  {
   "cell_type": "code",
   "execution_count": 33,
   "id": "growing-fruit",
   "metadata": {},
   "outputs": [
    {
     "name": "stdout",
     "output_type": "stream",
     "text": [
      "           order_id        user_id   order_number      order_dow  \\\n",
      "count  4.789520e+05  478952.000000  478952.000000  478952.000000   \n",
      "mean   1.709953e+06  102966.654911      17.157563       2.775051   \n",
      "std    9.869537e+05   59525.292863      17.704457       2.045901   \n",
      "min    4.000000e+00       2.000000       1.000000       0.000000   \n",
      "25%    8.564698e+05   51413.750000       5.000000       1.000000   \n",
      "50%    1.709521e+06  102633.000000      11.000000       3.000000   \n",
      "75%    2.563002e+06  154419.000000      23.000000       5.000000   \n",
      "max    3.421079e+06  206209.000000     100.000000       6.000000   \n",
      "\n",
      "       order_hour_of_day  days_since_prior_order  \n",
      "count      478952.000000           450135.000000  \n",
      "mean           13.447034               11.101814  \n",
      "std             4.224567                9.190004  \n",
      "min             0.000000                0.000000  \n",
      "25%            10.000000                4.000000  \n",
      "50%            13.000000                7.000000  \n",
      "75%            16.000000               15.000000  \n",
      "max            23.000000               30.000000  \n",
      "Hours of the day min: 0 Max: 23\n",
      "Day of week min: 0 Max: 6\n"
     ]
    }
   ],
   "source": [
    "print(df_instacart_orders.describe())\n",
    "print('Hours of the day min:', df_instacart_orders['order_hour_of_day'].min(), 'Max:', df_instacart_orders['order_hour_of_day'].max())\n",
    "print('Day of week min:', df_instacart_orders['order_dow'].min(), 'Max:', df_instacart_orders['order_dow'].max())"
   ]
  },
  {
   "cell_type": "markdown",
   "id": "ba611513",
   "metadata": {},
   "source": [
    "We will assume 0 is 12am and goes up to 23 as 11pm.\n",
    "Similarly, 0 is Sunday through 6 as Saturday for the days of the week."
   ]
  },
  {
   "cell_type": "markdown",
   "id": "ed890d69",
   "metadata": {},
   "source": [
    "<div class=\"alert alert-block alert-success\">✔️\n",
    "    \n",
    "\n",
    "__Reviewer's comment №1__\n",
    "\n",
    "All right"
   ]
  },
  {
   "cell_type": "markdown",
   "id": "a6743a70",
   "metadata": {},
   "source": [
    "### [A2] What time of day do people shop for groceries?"
   ]
  },
  {
   "cell_type": "code",
   "execution_count": 34,
   "id": "a36cca27",
   "metadata": {},
   "outputs": [
    {
     "name": "stdout",
     "output_type": "stream",
     "text": [
      "10    40578\n",
      "11    40032\n",
      "15    39789\n",
      "14    39631\n",
      "13    39007\n",
      "16    38112\n",
      "12    38034\n",
      "9     35896\n",
      "17    31930\n",
      "18    25510\n",
      "8     25024\n",
      "19    19547\n",
      "20    14624\n",
      "7     13043\n",
      "21    11019\n",
      "22     8512\n",
      "23     5611\n",
      "6      4215\n",
      "0      3180\n",
      "1      1763\n",
      "5      1371\n",
      "2       989\n",
      "3       770\n",
      "4       765\n",
      "Name: order_hour_of_day, dtype: int64\n"
     ]
    },
    {
     "data": {
      "image/png": "[encoded data removed]",
      "text/plain": [
       "<Figure size 432x288 with 1 Axes>"
      ]
     },
     "metadata": {
      "needs_background": "light"
     },
     "output_type": "display_data"
    }
   ],
   "source": [
    "hours_of_day_counts = df_instacart_orders['order_hour_of_day'].value_counts()\n",
    "print(hours_of_day_counts)\n",
    "df_instacart_orders['order_hour_of_day'].plot(\n",
    "    kind='hist',\n",
    "    bins=24,\n",
    "    title='When Do People Like to Shop?'    \n",
    ")\n",
    "plt.xlabel('Hour of the Day')\n",
    "plt.show()"
   ]
  },
  {
   "cell_type": "markdown",
   "id": "11270eed",
   "metadata": {},
   "source": [
    "The chart shows that users like to shop around the morning beginning at 10am through 5pm."
   ]
  },
  {
   "cell_type": "markdown",
   "id": "documented-command",
   "metadata": {},
   "source": [
    "### [A3] What day of the week do people shop for groceries?"
   ]
  },
  {
   "cell_type": "code",
   "execution_count": 35,
   "id": "chief-digit",
   "metadata": {},
   "outputs": [
    {
     "name": "stdout",
     "output_type": "stream",
     "text": [
      "0    84090\n",
      "1    82185\n",
      "2    65833\n",
      "5    63488\n",
      "6    62649\n",
      "3    60897\n",
      "4    59810\n",
      "Name: order_dow, dtype: int64\n"
     ]
    },
    {
     "data": {
      "image/png": "[encoded data removed]",
      "text/plain": [
       "<Figure size 432x288 with 1 Axes>"
      ]
     },
     "metadata": {
      "needs_background": "light"
     },
     "output_type": "display_data"
    }
   ],
   "source": [
    "dow_orders = df_instacart_orders['order_dow'].value_counts()\n",
    "print(dow_orders)\n",
    "#dow_orders.plot(\n",
    "#    title='Days of the Week Ordering', \n",
    "#    kind='bar',\n",
    "#    ylabel='Number of Orders'\n",
    "#)\n",
    "#plt.show()\n",
    "df_instacart_orders['order_dow'].plot(\n",
    "    kind='hist',\n",
    "    bins=7,\n",
    "    title='When Do People Like to Shop?'    \n",
    ")\n",
    "plt.xlabel('Day of the Week')\n",
    "plt.show()"
   ]
  },
  {
   "cell_type": "markdown",
   "id": "dominant-lightning",
   "metadata": {},
   "source": [
    "The chart shows that users like to shop at the beginning of the week on Sunday (0) and Monday (1)."
   ]
  },
  {
   "cell_type": "markdown",
   "id": "7515a13c",
   "metadata": {},
   "source": [
    "<div class=\"alert alert-block alert-success\">✔️\n",
    "    \n",
    "\n",
    "__Reviewer's comment №1__\n",
    "\n",
    "You're right to sign the charts"
   ]
  },
  {
   "cell_type": "markdown",
   "id": "ae543587",
   "metadata": {},
   "source": [
    "<div class=\"alert alert-info\"> <b>Student сomments:</b> Thanks for verifying this! Also, can you clarify what you mean by \"sign the charts\"?</div>"
   ]
  },
  {
   "cell_type": "markdown",
   "id": "9c9b9f50",
   "metadata": {},
   "source": [
    "<div class=\"alert alert-block alert-success\">✔️\n",
    "    \n",
    "\n",
    "__Reviewer's comment №2__\n",
    "\n",
    "Using  `title = ''`"
   ]
  },
  {
   "cell_type": "markdown",
   "id": "cutting-concert",
   "metadata": {},
   "source": [
    "### [A4] How long do people wait until placing another order?"
   ]
  },
  {
   "cell_type": "code",
   "execution_count": 36,
   "id": "c231f523",
   "metadata": {
    "scrolled": true
   },
   "outputs": [
    {
     "name": "stdout",
     "output_type": "stream",
     "text": [
      "30.0    51337\n",
      "7.0     44577\n",
      "6.0     33930\n",
      "4.0     31006\n",
      "3.0     30224\n",
      "5.0     30096\n",
      "2.0     27138\n",
      "8.0     25361\n",
      "1.0     20179\n",
      "9.0     16753\n",
      "14.0    13992\n",
      "10.0    13309\n",
      "13.0    11737\n",
      "11.0    11467\n",
      "12.0    10658\n",
      "0.0      9589\n",
      "15.0     9416\n",
      "16.0     6587\n",
      "21.0     6448\n",
      "17.0     5498\n",
      "20.0     5302\n",
      "18.0     4971\n",
      "19.0     4939\n",
      "22.0     4514\n",
      "28.0     3745\n",
      "23.0     3337\n",
      "24.0     3015\n",
      "27.0     2986\n",
      "25.0     2711\n",
      "29.0     2673\n",
      "26.0     2640\n",
      "Name: days_since_prior_order, dtype: int64\n"
     ]
    },
    {
     "data": {
      "text/plain": [
       "11.101813900274362"
      ]
     },
     "execution_count": 36,
     "metadata": {},
     "output_type": "execute_result"
    }
   ],
   "source": [
    "days_since_prior_order_counts = df_instacart_orders[~df_instacart_orders['days_since_prior_order'].isna()]\n",
    "print(days_since_prior_order_counts['days_since_prior_order'].value_counts())\n",
    "days_since_prior_order_counts['days_since_prior_order'].mean()"
   ]
  },
  {
   "cell_type": "markdown",
   "id": "discrete-vertex",
   "metadata": {},
   "source": [
    "The table shows that people reorder the most after a month, 30 days, and around a week.\n",
    "The mean shows about an average about 11 days, but the distribution below shows a spread of values."
   ]
  },
  {
   "cell_type": "code",
   "execution_count": 37,
   "id": "exciting-fantasy",
   "metadata": {},
   "outputs": [
    {
     "data": {
      "image/png": "[encoded data removed]",
      "text/plain": [
       "<Figure size 432x288 with 1 Axes>"
      ]
     },
     "metadata": {
      "needs_background": "light"
     },
     "output_type": "display_data"
    }
   ],
   "source": [
    "days_since_prior_order_counts['days_since_prior_order'].plot(\n",
    "    kind='hist',\n",
    "    bins=30,\n",
    "    title='Days Since Reordering'\n",
    ")\n",
    "plt.xlabel('Number of Days')\n",
    "plt.show()\n",
    "# df_instacart_orders['days_since_prior_order'].hist()"
   ]
  },
  {
   "cell_type": "markdown",
   "id": "8d926614",
   "metadata": {},
   "source": [
    "The histogram shows that people reorder the most after a month, 30 days, and around a week's time at 6 and 7 days apart."
   ]
  },
  {
   "cell_type": "markdown",
   "id": "b478513c",
   "metadata": {},
   "source": [
    "<div class=\"alert alert-block alert-success\">✔️\n",
    "    \n",
    "\n",
    "__Reviewer's comment №1__\n",
    "\n",
    "The 0 values probably correspond to customers who placed more than one order on the same day."
   ]
  },
  {
   "cell_type": "markdown",
   "id": "tight-staff",
   "metadata": {},
   "source": [
    "# [B] Medium (must complete all to pass)"
   ]
  },
  {
   "cell_type": "markdown",
   "id": "packed-classic",
   "metadata": {},
   "source": [
    "### [B1] Is there a difference in `'order_hour_of_day'` distributions on Wednesdays and Saturdays? Plot the histograms for both days and describe the differences that you see."
   ]
  },
  {
   "cell_type": "code",
   "execution_count": 38,
   "id": "d89b8403",
   "metadata": {},
   "outputs": [
    {
     "name": "stdout",
     "output_type": "stream",
     "text": [
      "15    5163\n",
      "10    5026\n",
      "11    5004\n",
      "16    4976\n",
      "14    4774\n",
      "12    4688\n",
      "13    4674\n",
      "9     4490\n",
      "17    4175\n",
      "18    3463\n",
      "8     3125\n",
      "19    2652\n",
      "20    1917\n",
      "7     1732\n",
      "21    1450\n",
      "22    1154\n",
      "23     718\n",
      "6      643\n",
      "0      373\n",
      "1      215\n",
      "5      170\n",
      "4      108\n",
      "2      106\n",
      "3      101\n",
      "Name: order_hour_of_day, dtype: int64\n",
      "15    5352\n",
      "10    5347\n",
      "11    5325\n",
      "14    5265\n",
      "13    5108\n",
      "16    4991\n",
      "12    4836\n",
      "9     4794\n",
      "17    4169\n",
      "18    3441\n",
      "8     3373\n",
      "19    2597\n",
      "7     1933\n",
      "20    1886\n",
      "21    1368\n",
      "22    1028\n",
      "23     774\n",
      "6      654\n",
      "0      459\n",
      "5      229\n",
      "1      219\n",
      "2      123\n",
      "4      118\n",
      "3       99\n",
      "Name: order_hour_of_day, dtype: int64\n"
     ]
    }
   ],
   "source": [
    "# Distributions for Wednesday and Saturday\n",
    "# Filtering into two variables for Wednesday and Saturday, respectively.\n",
    "df_wednesday = df_instacart_orders[df_instacart_orders['order_dow'] == 3]\n",
    "df_saturday = df_instacart_orders[df_instacart_orders['order_dow'] == 5]\n",
    "print(df_wednesday['order_hour_of_day'].value_counts())\n",
    "print(df_saturday['order_hour_of_day'].value_counts())"
   ]
  },
  {
   "cell_type": "code",
   "execution_count": 39,
   "id": "94e54e8a",
   "metadata": {},
   "outputs": [
    {
     "data": {
      "image/png": "[encoded data removed]",
      "text/plain": [
       "<Figure size 432x288 with 1 Axes>"
      ]
     },
     "metadata": {
      "needs_background": "light"
     },
     "output_type": "display_data"
    }
   ],
   "source": [
    "# histogram\n",
    "df_wednesday['order_hour_of_day'].plot(\n",
    "    kind='hist',\n",
    "    bins=24,\n",
    "    title='Wednesday vs. Saturday Shopping Hours',\n",
    "    ylabel='Frequency',\n",
    "    xlabel='Hour of Day'\n",
    ")\n",
    "df_saturday['order_hour_of_day'].plot(\n",
    "    kind='hist',\n",
    "    bins=24,\n",
    "    alpha=0.3\n",
    ")\n",
    "plt.legend(['Wednesday', 'Saturday'])\n",
    "plt.xlabel('Hour of Day')\n",
    "plt.show()"
   ]
  },
  {
   "cell_type": "code",
   "execution_count": null,
   "id": "797c90a8",
   "metadata": {},
   "outputs": [],
   "source": []
  },
  {
   "cell_type": "markdown",
   "id": "24bebf91",
   "metadata": {},
   "source": [
    "<div class=\"alert alert-block alert-success\">✔️\n",
    "    \n",
    "\n",
    "__Reviewer's comment №1__\n",
    "\n",
    "You're right to sign the charts"
   ]
  },
  {
   "cell_type": "markdown",
   "id": "charitable-congo",
   "metadata": {},
   "source": [
    "Both Wednesday and Saturday have their peak hours around 10am and 3pm. The shape of their distributions are similar with the only difference is that Saturday has more orders in the daytime, around 7am to 3pm."
   ]
  },
  {
   "cell_type": "markdown",
   "id": "e3891143",
   "metadata": {},
   "source": [
    "### [B2] What's the distribution for the number of orders per customer?"
   ]
  },
  {
   "cell_type": "code",
   "execution_count": 40,
   "id": "d8c26c23",
   "metadata": {},
   "outputs": [
    {
     "name": "stdout",
     "output_type": "stream",
     "text": [
      "user_id\n",
      "149605    28\n",
      "193164    26\n",
      "78375     25\n",
      "66664     24\n",
      "134511    24\n",
      "          ..\n",
      "56616      1\n",
      "56614      1\n",
      "56611      1\n",
      "56608      1\n",
      "54291      1\n",
      "Name: order_id, Length: 157437, dtype: int64\n"
     ]
    },
    {
     "data": {
      "image/png": "[encoded data removed]",
      "text/plain": [
       "<Figure size 648x432 with 1 Axes>"
      ]
     },
     "metadata": {
      "needs_background": "light"
     },
     "output_type": "display_data"
    }
   ],
   "source": [
    "orders_per_user = df_instacart_orders.groupby('user_id')['order_id'].count().sort_values(ascending=False) \n",
    "print(orders_per_user)\n",
    "orders_per_user.plot(\n",
    "    kind='hist',\n",
    "    title='How Often Customers Order',\n",
    "    bins=28,\n",
    "    figsize=[9, 6]\n",
    ")\n",
    "plt.xlabel(\"Orders Per Customer\")\n",
    "plt.show()"
   ]
  },
  {
   "cell_type": "code",
   "execution_count": 41,
   "id": "00e69a66",
   "metadata": {},
   "outputs": [],
   "source": [
    "# orders_per_user.sort_values(ascending=False)\n",
    "# df_instacart_orders['user_id']['order_id']"
   ]
  },
  {
   "attachments": {
    "image.png": {
     "image/png": "[encoded data removed]"
    }
   },
   "cell_type": "markdown",
   "id": "f17a5d76",
   "metadata": {},
   "source": [
    "<div class=\"alert alert-block alert-danger\">✍\n",
    "    \n",
    "\n",
    "__Reviewer's comment №1__\n",
    "\n",
    "![image.png](attachment:image.png)\n",
    "    \n",
    "Some blocks of code are not working. Please see what went wrong. Before submitting a project, you should check if the code works - you can do this by clicking on the Jupiter Hub Kernel and Restart & Run All panels"
   ]
  },
  {
   "cell_type": "markdown",
   "id": "0811f268",
   "metadata": {},
   "source": [
    "<div class=\"alert alert-info\"> <b>Student сomments:</b> That code block was meant to be commented out as I was testing some code. Thanks for looking out!</div>"
   ]
  },
  {
   "cell_type": "markdown",
   "id": "107b0a7e",
   "metadata": {},
   "source": [
    "<div class=\"alert alert-block alert-success\">✔️\n",
    "    \n",
    "\n",
    "__Reviewer's comment №2__\n",
    "\n",
    "Thank you for the correction"
   ]
  },
  {
   "cell_type": "markdown",
   "id": "d2eff7d5",
   "metadata": {},
   "source": [
    "The distribution shows that most customers order 1 to 4 times."
   ]
  },
  {
   "cell_type": "markdown",
   "id": "54a0319c",
   "metadata": {},
   "source": [
    "### [B3] What are the top 20 popular products (display their id and name)?"
   ]
  },
  {
   "cell_type": "code",
   "execution_count": 42,
   "id": "exterior-arizona",
   "metadata": {
    "scrolled": true
   },
   "outputs": [
    {
     "name": "stdout",
     "output_type": "stream",
     "text": [
      "product_id\n",
      "24852    66050\n",
      "13176    53297\n",
      "21137    37039\n",
      "21903    33971\n",
      "47209    29773\n",
      "         ...  \n",
      "5836         1\n",
      "43573        1\n",
      "43570        1\n",
      "36174        1\n",
      "41403        1\n",
      "Name: order_id, Length: 45573, dtype: int64\n"
     ]
    }
   ],
   "source": [
    "print(df_order_products.groupby('product_id')['order_id'].count().sort_values(ascending=False))  # Getting the counts for each product ID\n",
    "#print(df_order_products[df_order_products['product_id']==11440].count())"
   ]
  },
  {
   "cell_type": "code",
   "execution_count": 43,
   "id": "universal-facial",
   "metadata": {},
   "outputs": [
    {
     "name": "stdout",
     "output_type": "stream",
     "text": [
      "         order_id  product_id  add_to_cart_order  reordered  \\\n",
      "2962856   1827089       47630                 18          1   \n",
      "3517878    240493        9438                  7          1   \n",
      "993508    2276581        8424                  9          1   \n",
      "4349623   2230697       20817                  2          1   \n",
      "304022     473222       17948                 27          0   \n",
      "1490600   1972647        2536                  1          0   \n",
      "1444744    213165       45066                 10          1   \n",
      "2745193      3114       43504                  7          1   \n",
      "1447215   2851733       45066                  1          1   \n",
      "1336786      1061       48857                  3          1   \n",
      "\n",
      "                                           product_name  aisle_id  \\\n",
      "2962856                             Medium Navel Orange        24   \n",
      "3517878                             Honey Graham Sticks        61   \n",
      "993508                                   Broccoli Crown        83   \n",
      "4349623                                  Chicken Sticks        92   \n",
      "304022                  Frozen Organic Wild Blueberries       116   \n",
      "1490600  Ultra Plush 3 ply Toilet Paper 12 Double Rolls        54   \n",
      "1444744                                Honeycrisp Apple        24   \n",
      "2745193                          Organic Chicken Strips        34   \n",
      "1447215                                Honeycrisp Apple        24   \n",
      "1336786                        Authentic French Brioche        93   \n",
      "\n",
      "         department_id                              product_name_lower  \n",
      "2962856              4                             medium navel orange  \n",
      "3517878             19                             honey graham sticks  \n",
      "993508               4                                  broccoli crown  \n",
      "4349623             18                                  chicken sticks  \n",
      "304022               1                 frozen organic wild blueberries  \n",
      "1490600             17  ultra plush 3 ply toilet paper 12 double rolls  \n",
      "1444744              4                                honeycrisp apple  \n",
      "2745193              1                          organic chicken strips  \n",
      "1447215              4                                honeycrisp apple  \n",
      "1336786              3                        authentic french brioche  \n"
     ]
    }
   ],
   "source": [
    "# Merging the tables\n",
    "most_popular = df_order_products.merge(df_products,\n",
    "                             on='product_id',\n",
    "                             )\n",
    "print(most_popular.sample(10))"
   ]
  },
  {
   "cell_type": "code",
   "execution_count": 44,
   "id": "bbcdd20b",
   "metadata": {
    "scrolled": true
   },
   "outputs": [
    {
     "name": "stdout",
     "output_type": "stream",
     "text": [
      "product_id  product_name            \n",
      "24852       Banana                      66050\n",
      "13176       Bag of Organic Bananas      53297\n",
      "21137       Organic Strawberries        37039\n",
      "21903       Organic Baby Spinach        33971\n",
      "47209       Organic Hass Avocado        29773\n",
      "47766       Organic Avocado             24689\n",
      "47626       Large Lemon                 21495\n",
      "16797       Strawberries                20018\n",
      "26209       Limes                       19690\n",
      "27845       Organic Whole Milk          19600\n",
      "27966       Organic Raspberries         19197\n",
      "22935       Organic Yellow Onion        15898\n",
      "24964       Organic Garlic              15292\n",
      "45007       Organic Zucchini            14584\n",
      "39275       Organic Blueberries         13879\n",
      "49683       Cucumber Kirby              13675\n",
      "28204       Organic Fuji Apple          12544\n",
      "5876        Organic Lemon               12232\n",
      "8277        Apple Honeycrisp Organic    11993\n",
      "40706       Organic Grape Tomatoes      11781\n",
      "Name: order_id, dtype: int64\n"
     ]
    }
   ],
   "source": [
    "# Printing out the 20 most popular with name and ID\n",
    "product_in_orders = most_popular.groupby(['product_id', 'product_name'])['order_id'].count().sort_values(ascending=False)\n",
    "print(product_in_orders.head(20))"
   ]
  },
  {
   "cell_type": "markdown",
   "id": "fcae8864",
   "metadata": {},
   "source": [
    "Organic Fruits and Vegetables top the list of the most popular prodducts ordered."
   ]
  },
  {
   "cell_type": "markdown",
   "id": "db92d10a",
   "metadata": {},
   "source": [
    "<div class=\"alert alert-block alert-success\">✔️\n",
    "    \n",
    "\n",
    "__Reviewer's comment №2__\n",
    "\n",
    "All right"
   ]
  },
  {
   "cell_type": "markdown",
   "id": "gross-theme",
   "metadata": {},
   "source": [
    "# [C] Hard (must complete at least two to pass)"
   ]
  },
  {
   "cell_type": "markdown",
   "id": "romantic-deposit",
   "metadata": {},
   "source": [
    "### [C1] How many items do people typically buy in one order? What does the distribution look like?"
   ]
  },
  {
   "cell_type": "code",
   "execution_count": 45,
   "id": "virtual-punch",
   "metadata": {},
   "outputs": [
    {
     "name": "stdout",
     "output_type": "stream",
     "text": [
      "         order_id  product_id  add_to_cart_order  reordered\n",
      "30114     1959075       42828               <NA>          1\n",
      "88193     1959075       11707                 19          1\n",
      "225286    1959075       18523                  5          1\n",
      "315382    1959075       32689                 39          1\n",
      "391656    1959075       39877                 41          1\n",
      "...           ...         ...                ...        ...\n",
      "4278310   1959075       30489               <NA>          1\n",
      "4331941   1959075       23645                 33          1\n",
      "4389640   1959075       24838               <NA>          1\n",
      "4411093   1959075        5785               <NA>          1\n",
      "4445225   1959075       29447                 56          1\n",
      "\n",
      "[98 rows x 4 columns]\n"
     ]
    }
   ],
   "source": [
    "# Checking an order for how many items are in it\n",
    "print(df_order_products[df_order_products['order_id']==1959075])"
   ]
  },
  {
   "cell_type": "code",
   "execution_count": 46,
   "id": "sensitive-breathing",
   "metadata": {},
   "outputs": [
    {
     "name": "stdout",
     "output_type": "stream",
     "text": [
      "order_id\n",
      "3421079      1\n",
      "1288686      1\n",
      "1288764      1\n",
      "1288825      1\n",
      "1288873      1\n",
      "          ... \n",
      "1959075     98\n",
      "171934     104\n",
      "2136777    108\n",
      "3308010    115\n",
      "61355      127\n",
      "Name: product_id, Length: 450046, dtype: int64\n"
     ]
    }
   ],
   "source": [
    "# Get the counts of product_ids for each order_id\n",
    "df_order_products_counts = df_order_products.groupby('order_id')['product_id'].count()\n",
    "print(df_order_products_counts.sort_values())"
   ]
  },
  {
   "cell_type": "code",
   "execution_count": 47,
   "id": "completed-frank",
   "metadata": {},
   "outputs": [
    {
     "data": {
      "image/png": "[encoded data removed]",
      "text/plain": [
       "<Figure size 720x504 with 1 Axes>"
      ]
     },
     "metadata": {
      "needs_background": "light"
     },
     "output_type": "display_data"
    }
   ],
   "source": [
    "# Histogram of the distribution\n",
    "\n",
    "df_order_products_counts.plot(\n",
    "    kind='hist',\n",
    "    bins=20,\n",
    "    title='Amount People Buy Per Order',\n",
    "    figsize=[10, 7]\n",
    ")\n",
    "plt.xlabel('Products Per Order')\n",
    "plt.show()"
   ]
  },
  {
   "cell_type": "markdown",
   "id": "designed-mortality",
   "metadata": {},
   "source": [
    "The histogram shows the majority of orders have less than 20 unique products per order."
   ]
  },
  {
   "cell_type": "markdown",
   "id": "5e6b5537",
   "metadata": {},
   "source": [
    "### [C2] What are the top 20 items that are reordered most frequently (display their names and product IDs)?"
   ]
  },
  {
   "cell_type": "code",
   "execution_count": 48,
   "id": "9374e55a",
   "metadata": {},
   "outputs": [
    {
     "name": "stdout",
     "output_type": "stream",
     "text": [
      "<class 'pandas.core.frame.DataFrame'>\n",
      "Int64Index: 2683838 entries, 1 to 4545005\n",
      "Data columns (total 4 columns):\n",
      " #   Column             Non-Null Count    Dtype\n",
      "---  ------             --------------    -----\n",
      " 0   order_id           2683838 non-null  int64\n",
      " 1   product_id         2683838 non-null  int64\n",
      " 2   add_to_cart_order  2683519 non-null  Int64\n",
      " 3   reordered          2683838 non-null  int64\n",
      "dtypes: Int64(1), int64(3)\n",
      "memory usage: 104.9 MB\n"
     ]
    },
    {
     "data": {
      "text/html": [
       "<div>\n",
       "<style scoped>\n",
       "    .dataframe tbody tr th:only-of-type {\n",
       "        vertical-align: middle;\n",
       "    }\n",
       "\n",
       "    .dataframe tbody tr th {\n",
       "        vertical-align: top;\n",
       "    }\n",
       "\n",
       "    .dataframe thead th {\n",
       "        text-align: right;\n",
       "    }\n",
       "</style>\n",
       "<table border=\"1\" class=\"dataframe\">\n",
       "  <thead>\n",
       "    <tr style=\"text-align: right;\">\n",
       "      <th></th>\n",
       "      <th>order_id</th>\n",
       "      <th>product_id</th>\n",
       "      <th>add_to_cart_order</th>\n",
       "      <th>reordered</th>\n",
       "    </tr>\n",
       "  </thead>\n",
       "  <tbody>\n",
       "    <tr>\n",
       "      <th>1</th>\n",
       "      <td>567889</td>\n",
       "      <td>1560</td>\n",
       "      <td>1</td>\n",
       "      <td>1</td>\n",
       "    </tr>\n",
       "    <tr>\n",
       "      <th>2</th>\n",
       "      <td>2261212</td>\n",
       "      <td>26683</td>\n",
       "      <td>1</td>\n",
       "      <td>1</td>\n",
       "    </tr>\n",
       "    <tr>\n",
       "      <th>3</th>\n",
       "      <td>491251</td>\n",
       "      <td>8670</td>\n",
       "      <td>35</td>\n",
       "      <td>1</td>\n",
       "    </tr>\n",
       "    <tr>\n",
       "      <th>4</th>\n",
       "      <td>2571142</td>\n",
       "      <td>1940</td>\n",
       "      <td>5</td>\n",
       "      <td>1</td>\n",
       "    </tr>\n",
       "    <tr>\n",
       "      <th>5</th>\n",
       "      <td>2456893</td>\n",
       "      <td>21616</td>\n",
       "      <td>4</td>\n",
       "      <td>1</td>\n",
       "    </tr>\n",
       "  </tbody>\n",
       "</table>\n",
       "</div>"
      ],
      "text/plain": [
       "   order_id  product_id  add_to_cart_order  reordered\n",
       "1    567889        1560                  1          1\n",
       "2   2261212       26683                  1          1\n",
       "3    491251        8670                 35          1\n",
       "4   2571142        1940                  5          1\n",
       "5   2456893       21616                  4          1"
      ]
     },
     "execution_count": 48,
     "metadata": {},
     "output_type": "execute_result"
    }
   ],
   "source": [
    "# Filtering out rows to just the reordered products\n",
    "reordered_prods = df_order_products[df_order_products['reordered'] == 1]\n",
    "reordered_prods.info(show_counts=True)\n",
    "reordered_prods.head()"
   ]
  },
  {
   "cell_type": "code",
   "execution_count": 49,
   "id": "possible-change",
   "metadata": {
    "scrolled": true
   },
   "outputs": [
    {
     "name": "stdout",
     "output_type": "stream",
     "text": [
      "product_id\n",
      "24852    55763\n",
      "13176    44450\n",
      "21137    28639\n",
      "21903    26233\n",
      "47209    23629\n",
      "         ...  \n",
      "7092         1\n",
      "21003        1\n",
      "32856        1\n",
      "42727        1\n",
      "24091        1\n",
      "Name: order_id, Length: 36228, dtype: int64\n"
     ]
    }
   ],
   "source": [
    "print(reordered_prods.groupby('product_id')['order_id'].count().sort_values(ascending=False))"
   ]
  },
  {
   "cell_type": "code",
   "execution_count": 50,
   "id": "professional-surfing",
   "metadata": {
    "scrolled": true
   },
   "outputs": [],
   "source": [
    "# df_products[df_products['product_id']==21137]\n",
    "df_merged = reordered_prods.merge(df_products,\n",
    "                             on='product_id',\n",
    "                             )\n",
    "# df_merged.info()  # 2683838\n",
    "# df_merged.head()\n"
   ]
  },
  {
   "cell_type": "code",
   "execution_count": 51,
   "id": "48dd3658",
   "metadata": {},
   "outputs": [
    {
     "name": "stdout",
     "output_type": "stream",
     "text": [
      "product_id  product_name            \n",
      "24852       Banana                      55763\n",
      "13176       Bag of Organic Bananas      44450\n",
      "21137       Organic Strawberries        28639\n",
      "21903       Organic Baby Spinach        26233\n",
      "47209       Organic Hass Avocado        23629\n",
      "47766       Organic Avocado             18743\n",
      "27845       Organic Whole Milk          16251\n",
      "47626       Large Lemon                 15044\n",
      "27966       Organic Raspberries         14748\n",
      "16797       Strawberries                13945\n",
      "26209       Limes                       13327\n",
      "22935       Organic Yellow Onion        11145\n",
      "24964       Organic Garlic              10411\n",
      "45007       Organic Zucchini            10076\n",
      "49683       Cucumber Kirby               9538\n",
      "28204       Organic Fuji Apple           8989\n",
      "8277        Apple Honeycrisp Organic     8836\n",
      "39275       Organic Blueberries          8799\n",
      "5876        Organic Lemon                8412\n",
      "49235       Organic Half & Half          8389\n",
      "Name: order_id, dtype: int64\n"
     ]
    }
   ],
   "source": [
    "top_20_reordered = df_merged.groupby(['product_id', 'product_name'])['order_id'].count().sort_values(ascending=False)\n",
    "print(top_20_reordered.head(20))\n",
    "# top_twenty = pd.Series(top_20_reordered)\n",
    "# top_twenty.columns=['A','B','c']\n",
    "# print(top_twenty)"
   ]
  },
  {
   "cell_type": "markdown",
   "id": "80e70c74",
   "metadata": {},
   "source": [
    "Just like earlier, the top 20 list for most reordered products are organic fruits and vegetables. Similarly, bananas are the top products again."
   ]
  },
  {
   "cell_type": "markdown",
   "id": "32eb0c38",
   "metadata": {},
   "source": [
    "<div class=\"alert alert-block alert-success\">✔️\n",
    "    \n",
    "\n",
    "__Reviewer's comment №2__\n",
    "\n",
    "I agree"
   ]
  },
  {
   "cell_type": "markdown",
   "id": "9d312b14",
   "metadata": {},
   "source": [
    "### [C3] For each product, what proportion of its orders are reorders?"
   ]
  },
  {
   "cell_type": "code",
   "execution_count": null,
   "id": "8ae9f4b1",
   "metadata": {},
   "outputs": [],
   "source": []
  },
  {
   "cell_type": "code",
   "execution_count": null,
   "id": "103e7fe1",
   "metadata": {},
   "outputs": [],
   "source": []
  },
  {
   "cell_type": "code",
   "execution_count": null,
   "id": "social-individual",
   "metadata": {},
   "outputs": [],
   "source": []
  },
  {
   "cell_type": "markdown",
   "id": "subject-boxing",
   "metadata": {},
   "source": [
    "### [C4] For each customer, what proportion of their products ordered are reorders?"
   ]
  },
  {
   "cell_type": "code",
   "execution_count": null,
   "id": "medical-couple",
   "metadata": {
    "scrolled": true
   },
   "outputs": [],
   "source": []
  },
  {
   "cell_type": "code",
   "execution_count": null,
   "id": "8892e4b4",
   "metadata": {},
   "outputs": [],
   "source": []
  },
  {
   "cell_type": "markdown",
   "id": "92d35137",
   "metadata": {},
   "source": [
    "### [C5] What are the top 20 items that people put in their carts first? "
   ]
  },
  {
   "cell_type": "code",
   "execution_count": null,
   "id": "0ae57274",
   "metadata": {
    "scrolled": true
   },
   "outputs": [],
   "source": []
  },
  {
   "cell_type": "code",
   "execution_count": null,
   "id": "forty-netherlands",
   "metadata": {
    "scrolled": true
   },
   "outputs": [],
   "source": []
  },
  {
   "cell_type": "code",
   "execution_count": null,
   "id": "08e41ec2",
   "metadata": {},
   "outputs": [],
   "source": []
  },
  {
   "cell_type": "markdown",
   "id": "28ce9872",
   "metadata": {},
   "source": [
    "<h1>Findings:\n",
    "    \n",
    "1. The beginning of the week and midday tends to be the most popular times to order.\n",
    "2. Fruits and vegetables are the most ordered and reordered products."
   ]
  },
  {
   "cell_type": "markdown",
   "id": "5fc5b78e",
   "metadata": {},
   "source": [
    "<div class=\"alert alert-block alert-success\">✔️\n",
    "    \n",
    "\n",
    "__Reviewer's comment №1__\n",
    "\n",
    "Well done for describing the final conclusion"
   ]
  },
  {
   "cell_type": "markdown",
   "id": "62c331da",
   "metadata": {},
   "source": [
    "<div class=\"alert alert-info\"> <b>Student сomments:</b> Thanks again for reviewing my project! </div>"
   ]
  },
  {
   "cell_type": "markdown",
   "id": "45c219f5",
   "metadata": {},
   "source": [
    "<div class=\"alert alert-block alert-success\">✔️\n",
    "    \n",
    "\n",
    "__Reviewer's comment №2__\n",
    "\n",
    "\n",
    "Otherwise it's great😊. Your project is begging for github =)   \n",
    "    \n",
    "Congratulations on the successful completion of the project 😊👍\n",
    "And I wish you success in new works 😊"
   ]
  }
 ],
 "metadata": {
  "kernelspec": {
   "display_name": "Python 3 (ipykernel)",
   "language": "python",
   "name": "python3"
  },
  "language_info": {
   "codemirror_mode": {
    "name": "ipython",
    "version": 3
   },
   "file_extension": ".py",
   "mimetype": "text/x-python",
   "name": "python",
   "nbconvert_exporter": "python",
   "pygments_lexer": "ipython3",
   "version": "3.9.19"
  },
  "toc": {
   "base_numbering": 1,
   "nav_menu": {},
   "number_sections": true,
   "sideBar": true,
   "skip_h1_title": true,
   "title_cell": "Table of Contents",
   "title_sidebar": "Contents",
   "toc_cell": false,
   "toc_position": {
    "height": "calc(100% - 180px)",
    "left": "10px",
    "top": "150px",
    "width": "269px"
   },
   "toc_section_display": true,
   "toc_window_display": true
  },
  "vscode": {
   "interpreter": {
    "hash": "01a7be9ec63e704a62cefc5fe7a4756944464ee731be31632bdf42a4cb4688cf"
   }
  }
 },
 "nbformat": 4,
 "nbformat_minor": 5
}
