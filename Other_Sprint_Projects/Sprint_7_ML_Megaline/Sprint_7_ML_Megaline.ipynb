{
 "cells": [
  {
   "cell_type": "markdown",
   "metadata": {},
   "source": [
    "<div style=\"border:solid green 2px; padding: 20px\"> <h1 style=\"color:green; margin-bottom:20px\">Reviewer's comment v1</h1>\n",
    "\n",
    "Hello Mark, my name is Dmitrii. I'm going to review your project! Nice to meet you! 🙌\n",
    "\n",
    "You can find my comments under the heading **«Review»**. I will categorize my comments in green, blue or red boxes like this:\n",
    "\n",
    "<div class=\"alert alert-success\">\n",
    "    <b>Success:</b> if everything is done successfully\n",
    "</div>\n",
    "<div class=\"alert alert-warning\">\n",
    "    <b>Remarks:</b> if I can give some recommendations or ways to improve the project\n",
    "   \n",
    "</div>\n",
    "<div class=\"alert alert-danger\">\n",
    "    <b>Needs fixing:</b> if the block requires some corrections. Work can't be accepted with the red comments\n",
    "</div>\n",
    "\n",
    "Please don't remove my comments :) If you have any questions don't hesitate to respond to my comments in a different section. \n",
    "<div class=\"alert alert-info\"> <b>Student comments:</b> For example like this</div>   \n",
    "   "
   ]
  },
  {
   "cell_type": "markdown",
   "metadata": {},
   "source": [
    "<div style=\"border:solid green 2px; padding: 20px\">\n",
    "<b>Reviewer's comment v1:</b>\n",
    "    \n",
    "<b>Overall Feedback</b> \n",
    "    \n",
    "\n",
    "You've done a really good job overall! Your work shows that you understand the topic well and you've put in a lot of effort. There are a few small things to work on, but nothing too big:\n",
    "    \n",
    "    - Update model for the Sanity Check\n",
    "    \n",
    "Keep going like this, and with a little bit of tweaking, your work will be even better. I will wait for you to send me a new version of the project :)\n",
    "    \n",
    "</div>"
   ]
  },
  {
   "cell_type": "markdown",
   "metadata": {},
   "source": [
    "<div style=\"border:solid green 2px; padding: 20px\">\n",
    "<b>Reviewer's comment v2:</b>\n",
    "    \n",
    "<b>Overall Feedback</b> \n",
    "    \n",
    "Now everything is perfect. No critial issues left, so your project has been accepted! \n",
    "\n",
    "Wish you cool projects in the next sprints! ☘️\n",
    "    \n",
    "\n",
    "</div>"
   ]
  },
  {
   "cell_type": "markdown",
   "metadata": {},
   "source": [
    "# Introduction\n",
    "\n",
    "In this project, we will be analyzing behavior data about subscribers who have already switched to the new plans for the mobile carrier, Megaline. The company found out that many of their subscribers use legacy plans. The analysis is geared to recommend one of Megaline's newer plans: Smart or Ultra.\n",
    "\n",
    "**Objective**: Analyze the subscribers' behavior and Develop a model that will pick the right plan with the highest possible accuracy. The threshold for accuracy is 0.75. The accuracy will be checked using the test dataset.\n",
    "\n",
    "## Process the Data\n",
    "\n",
    "To begin, we will first perform the following on the data:\n",
    "\n",
    "- Load the necessary libraries\n",
    "- Import the file into Dataframes\n",
    "- Display the data\n",
    "- View the info\n",
    "- Check for nulls\n",
    "- Check the unique values\n",
    "- Check for duplicates\n",
    "\n",
    "Every observation in the dataset contains monthly behavior information about one user. The information given is as follows: \n",
    "- сalls — number of calls,\n",
    "- minutes — total call duration in minutes,\n",
    "- messages — number of text messages,\n",
    "- mb_used — Internet traffic used in MB,\n",
    "- is_ultra — plan for the current month (Ultra - 1, Smart - 0)."
   ]
  },
  {
   "cell_type": "markdown",
   "metadata": {},
   "source": [
    "<div class=\"alert alert-success\">\n",
    "<b>Reviewer's comment v1:</b>\n",
    "    \n",
    "It is always helpful for the reader to have additional information about project tasks. It gives an overview of what you are going to achieve in this project.\n"
   ]
  },
  {
   "cell_type": "code",
   "execution_count": 1,
   "metadata": {},
   "outputs": [],
   "source": [
    "# Load the necessary libraries\n",
    "import pandas as pd\n",
    "from sklearn.model_selection import train_test_split\n",
    "from sklearn.metrics import accuracy_score\n",
    "from sklearn.metrics import mean_squared_error\n",
    "from sklearn.ensemble import RandomForestClassifier\n",
    "from sklearn.ensemble import RandomForestRegressor\n",
    "from sklearn.tree import DecisionTreeClassifier\n",
    "from sklearn.tree import DecisionTreeRegressor\n",
    "from sklearn.linear_model import LogisticRegression\n",
    "from sklearn.linear_model import LinearRegression\n",
    "import random"
   ]
  },
  {
   "cell_type": "code",
   "execution_count": 2,
   "metadata": {},
   "outputs": [],
   "source": [
    "# Import the file into Dataframes\n",
    "# df = pd.read_csv('/datasets/users_behavior.csv')\n",
    "try:\n",
    "    df = pd.read_csv('/datasets/users_behavior.csv', sep=',')\n",
    "\n",
    "except FileNotFoundError:\n",
    "    df = pd.read_csv('../datasets/users_behavior.csv', sep=',')"
   ]
  },
  {
   "cell_type": "markdown",
   "metadata": {},
   "source": [
    "<div class=\"alert alert-block alert-warning\">\n",
    "<b>Reviewer's comment v1</b>\n",
    " \n",
    "Everything is correct here; however it's a good practice to use `try/except blocks` when performing file operations or other tasks that might fail due to external reasons, such as the file not being present, issues with file permissions, or incorrect file formats. This way, you can handle errors gracefully and provide a more user-friendly error message, rather than having the program crash unexpectedly.\n",
    "\n",
    "Here's how you can implement it:\n",
    "\n",
    "```\n",
    "try:\n",
    "    orders = pd.read_csv(local_path['Churn.csv'], sep=';')\n",
    "\n",
    "except FileNotFoundError:\n",
    "    orders = pd.read_csv(server_path['Churn.csv'], sep=';')\n",
    "```"
   ]
  },
  {
   "cell_type": "markdown",
   "metadata": {},
   "source": [
    "<div class=\"alert alert-info\"> <b>Student comments:</b> Tried implementing the try/except code. Can you clarify how to make the code more adaptable in the future? Not really understanding what changes need to be made for the local and server paths.</div>   \n",
    "   "
   ]
  },
  {
   "cell_type": "markdown",
   "metadata": {},
   "source": [
    "<div class=\"alert alert-success\">\n",
    "<b>Reviewer's comment v2:</b>\n",
    "    \n",
    "Your implementation is correct. The purpose of this block is to first attempt to load the file from a local path, and if that fails (for instance, due to the file not being present), it then tries to load from a server path. By using these methods, your code becomes more flexible and maintainable. You can easily change file paths without altering the code, and it's clearer what the code is doing and how to troubleshoot it in case of errors."
   ]
  },
  {
   "cell_type": "code",
   "execution_count": 3,
   "metadata": {
    "scrolled": false
   },
   "outputs": [
    {
     "data": {
      "text/html": [
       "<div>\n",
       "<style scoped>\n",
       "    .dataframe tbody tr th:only-of-type {\n",
       "        vertical-align: middle;\n",
       "    }\n",
       "\n",
       "    .dataframe tbody tr th {\n",
       "        vertical-align: top;\n",
       "    }\n",
       "\n",
       "    .dataframe thead th {\n",
       "        text-align: right;\n",
       "    }\n",
       "</style>\n",
       "<table border=\"1\" class=\"dataframe\">\n",
       "  <thead>\n",
       "    <tr style=\"text-align: right;\">\n",
       "      <th></th>\n",
       "      <th>calls</th>\n",
       "      <th>minutes</th>\n",
       "      <th>messages</th>\n",
       "      <th>mb_used</th>\n",
       "      <th>is_ultra</th>\n",
       "    </tr>\n",
       "  </thead>\n",
       "  <tbody>\n",
       "    <tr>\n",
       "      <th>0</th>\n",
       "      <td>40.0</td>\n",
       "      <td>311.90</td>\n",
       "      <td>83.0</td>\n",
       "      <td>19915.42</td>\n",
       "      <td>0</td>\n",
       "    </tr>\n",
       "    <tr>\n",
       "      <th>1</th>\n",
       "      <td>85.0</td>\n",
       "      <td>516.75</td>\n",
       "      <td>56.0</td>\n",
       "      <td>22696.96</td>\n",
       "      <td>0</td>\n",
       "    </tr>\n",
       "    <tr>\n",
       "      <th>2</th>\n",
       "      <td>77.0</td>\n",
       "      <td>467.66</td>\n",
       "      <td>86.0</td>\n",
       "      <td>21060.45</td>\n",
       "      <td>0</td>\n",
       "    </tr>\n",
       "    <tr>\n",
       "      <th>3</th>\n",
       "      <td>106.0</td>\n",
       "      <td>745.53</td>\n",
       "      <td>81.0</td>\n",
       "      <td>8437.39</td>\n",
       "      <td>1</td>\n",
       "    </tr>\n",
       "    <tr>\n",
       "      <th>4</th>\n",
       "      <td>66.0</td>\n",
       "      <td>418.74</td>\n",
       "      <td>1.0</td>\n",
       "      <td>14502.75</td>\n",
       "      <td>0</td>\n",
       "    </tr>\n",
       "    <tr>\n",
       "      <th>...</th>\n",
       "      <td>...</td>\n",
       "      <td>...</td>\n",
       "      <td>...</td>\n",
       "      <td>...</td>\n",
       "      <td>...</td>\n",
       "    </tr>\n",
       "    <tr>\n",
       "      <th>3209</th>\n",
       "      <td>122.0</td>\n",
       "      <td>910.98</td>\n",
       "      <td>20.0</td>\n",
       "      <td>35124.90</td>\n",
       "      <td>1</td>\n",
       "    </tr>\n",
       "    <tr>\n",
       "      <th>3210</th>\n",
       "      <td>25.0</td>\n",
       "      <td>190.36</td>\n",
       "      <td>0.0</td>\n",
       "      <td>3275.61</td>\n",
       "      <td>0</td>\n",
       "    </tr>\n",
       "    <tr>\n",
       "      <th>3211</th>\n",
       "      <td>97.0</td>\n",
       "      <td>634.44</td>\n",
       "      <td>70.0</td>\n",
       "      <td>13974.06</td>\n",
       "      <td>0</td>\n",
       "    </tr>\n",
       "    <tr>\n",
       "      <th>3212</th>\n",
       "      <td>64.0</td>\n",
       "      <td>462.32</td>\n",
       "      <td>90.0</td>\n",
       "      <td>31239.78</td>\n",
       "      <td>0</td>\n",
       "    </tr>\n",
       "    <tr>\n",
       "      <th>3213</th>\n",
       "      <td>80.0</td>\n",
       "      <td>566.09</td>\n",
       "      <td>6.0</td>\n",
       "      <td>29480.52</td>\n",
       "      <td>1</td>\n",
       "    </tr>\n",
       "  </tbody>\n",
       "</table>\n",
       "<p>3214 rows × 5 columns</p>\n",
       "</div>"
      ],
      "text/plain": [
       "      calls  minutes  messages   mb_used  is_ultra\n",
       "0      40.0   311.90      83.0  19915.42         0\n",
       "1      85.0   516.75      56.0  22696.96         0\n",
       "2      77.0   467.66      86.0  21060.45         0\n",
       "3     106.0   745.53      81.0   8437.39         1\n",
       "4      66.0   418.74       1.0  14502.75         0\n",
       "...     ...      ...       ...       ...       ...\n",
       "3209  122.0   910.98      20.0  35124.90         1\n",
       "3210   25.0   190.36       0.0   3275.61         0\n",
       "3211   97.0   634.44      70.0  13974.06         0\n",
       "3212   64.0   462.32      90.0  31239.78         0\n",
       "3213   80.0   566.09       6.0  29480.52         1\n",
       "\n",
       "[3214 rows x 5 columns]"
      ]
     },
     "metadata": {},
     "output_type": "display_data"
    }
   ],
   "source": [
    "# Display the data\n",
    "display(df)"
   ]
  },
  {
   "cell_type": "code",
   "execution_count": 4,
   "metadata": {
    "scrolled": true
   },
   "outputs": [
    {
     "name": "stdout",
     "output_type": "stream",
     "text": [
      "<class 'pandas.core.frame.DataFrame'>\n",
      "RangeIndex: 3214 entries, 0 to 3213\n",
      "Data columns (total 5 columns):\n",
      " #   Column    Non-Null Count  Dtype  \n",
      "---  ------    --------------  -----  \n",
      " 0   calls     3214 non-null   float64\n",
      " 1   minutes   3214 non-null   float64\n",
      " 2   messages  3214 non-null   float64\n",
      " 3   mb_used   3214 non-null   float64\n",
      " 4   is_ultra  3214 non-null   int64  \n",
      "dtypes: float64(4), int64(1)\n",
      "memory usage: 125.7 KB\n"
     ]
    }
   ],
   "source": [
    "# View the info\n",
    "df.info()"
   ]
  },
  {
   "cell_type": "code",
   "execution_count": 5,
   "metadata": {},
   "outputs": [
    {
     "name": "stdout",
     "output_type": "stream",
     "text": [
      "calls       0\n",
      "minutes     0\n",
      "messages    0\n",
      "mb_used     0\n",
      "is_ultra    0\n",
      "dtype: int64\n"
     ]
    }
   ],
   "source": [
    "# Nulls\n",
    "print(df.isna().sum())"
   ]
  },
  {
   "cell_type": "code",
   "execution_count": 6,
   "metadata": {},
   "outputs": [
    {
     "name": "stdout",
     "output_type": "stream",
     "text": [
      "calls        184\n",
      "minutes     3144\n",
      "messages     180\n",
      "mb_used     3203\n",
      "is_ultra       2\n",
      "dtype: int64\n"
     ]
    }
   ],
   "source": [
    "# Check uniqueness\n",
    "print(df.nunique())"
   ]
  },
  {
   "cell_type": "code",
   "execution_count": 7,
   "metadata": {},
   "outputs": [
    {
     "name": "stdout",
     "output_type": "stream",
     "text": [
      "Empty DataFrame\n",
      "Columns: [calls, minutes, messages, mb_used, is_ultra]\n",
      "Index: []\n"
     ]
    }
   ],
   "source": [
    "# Checking for any duplicates\n",
    "print(df[df.duplicated()])"
   ]
  },
  {
   "cell_type": "markdown",
   "metadata": {},
   "source": [
    "- Split the source data into a training set, a validation set, and a test set.\n",
    "- Investigate the quality of different models by changing hyperparameters. Briefly describe the findings of the study.\n",
    "- Check the quality of the model using the test set.\n",
    "- Additional task: sanity check the model. This data is more complex than what you’re used to working with, so it's not an easy task. We'll take a closer look at it later."
   ]
  },
  {
   "cell_type": "markdown",
   "metadata": {},
   "source": [
    "- How did you look into data after downloading?\n",
    "- Have you correctly split the data into train, validation, and test sets?\n",
    "- How have you chosen the sets' sizes?\n",
    "- Did you evaluate the quality of the models correctly?\n",
    "- What models and hyperparameters did you use?\n",
    "- What are your findings?\n",
    "- Did you test the models correctly?\n",
    "- What is your accuracy score?\n",
    "- Have you stuck to the project structure and kept the code neat?"
   ]
  },
  {
   "cell_type": "markdown",
   "metadata": {},
   "source": [
    "<div class=\"alert alert-success\">\n",
    "<b>Reviewer's comment v1:</b>\n",
    "    \n",
    "Well done! Data have been successfully loaded and inspected."
   ]
  },
  {
   "cell_type": "markdown",
   "metadata": {},
   "source": [
    "## Splitting the Data\n",
    "\n",
    "First, we will assign the data into the features and target data.\n",
    "\n",
    "Then we will split the data into the following sets:\n",
    "- 60% Training set\n",
    "- 20% Validation set\n",
    "- 20% Test set\n",
    "\n",
    "This will be done by initially seperating the data into 80% for the combined training/validation set and the 20% test set. After, split again the 80% set into the 60% training set and 20% validation set by taking 25% of the 80% set."
   ]
  },
  {
   "cell_type": "code",
   "execution_count": 8,
   "metadata": {},
   "outputs": [],
   "source": [
    "features = df.drop(['is_ultra'], axis=1)\n",
    "target = df['is_ultra']"
   ]
  },
  {
   "cell_type": "code",
   "execution_count": 9,
   "metadata": {},
   "outputs": [
    {
     "name": "stdout",
     "output_type": "stream",
     "text": [
      "2571.2000000000003\n",
      "1928.3999999999999\n",
      "642.8000000000001\n",
      "1928.25\n"
     ]
    }
   ],
   "source": [
    "# Double checking the counts from splitting up the data set into 60% training, 20% validation, 20% test\n",
    "print(3214*.8)\n",
    "print(3214*.6)\n",
    "print(3214*.2)\n",
    "print(2571*.75)"
   ]
  },
  {
   "cell_type": "code",
   "execution_count": 10,
   "metadata": {
    "scrolled": true
   },
   "outputs": [
    {
     "name": "stdout",
     "output_type": "stream",
     "text": [
      "(2571, 4)\n",
      "(643, 4)\n",
      "(2571,)\n",
      "(643,)\n"
     ]
    }
   ],
   "source": [
    "# 80-20 split\n",
    "features_train, features_test, target_train, target_test = train_test_split(features, target, test_size=0.2, random_state=12345)\n",
    "print(features_train.shape)\n",
    "print(features_test.shape)\n",
    "print(target_train.shape)\n",
    "print(target_test.shape)"
   ]
  },
  {
   "cell_type": "code",
   "execution_count": 11,
   "metadata": {
    "scrolled": true
   },
   "outputs": [
    {
     "name": "stdout",
     "output_type": "stream",
     "text": [
      "(1928, 4)\n",
      "(643, 4)\n",
      "(1928,)\n",
      "(643,)\n"
     ]
    }
   ],
   "source": [
    "# Split the 80% data set into 60% training set and 20% validation set\n",
    "features_train, features_valid, target_train, target_valid = train_test_split(features_train, target_train, test_size=0.25, random_state=12345)\n",
    "print(features_train.shape)\n",
    "print(features_valid.shape)\n",
    "print(target_train.shape)\n",
    "print(target_valid.shape)"
   ]
  },
  {
   "cell_type": "markdown",
   "metadata": {},
   "source": [
    "We checked the shapes of each of the sets to make sure the counts line up with the correct percentage splits."
   ]
  },
  {
   "cell_type": "markdown",
   "metadata": {},
   "source": [
    "<div class=\"alert alert-success\">\n",
    "<b>Reviewer's comment v1:</b>\n",
    "    \n",
    "The data split is correct. "
   ]
  },
  {
   "cell_type": "markdown",
   "metadata": {},
   "source": [
    "## Model Testing and Hypertuning\n",
    "\n",
    "For our analysis, we are going to use the following models and hypertune their parameters:\n",
    "- Decision Tree Classifier\n",
    "- Decision Tree Regressor\n",
    "- RandomForestClassifier\n",
    "- Random Forest Regressor\n",
    "- Logistic Regression\n",
    "- Linear Regression"
   ]
  },
  {
   "cell_type": "markdown",
   "metadata": {},
   "source": [
    "### Decision Tree Classifier Model\n",
    "\n",
    "We will first make a function to find the optimized hypertune and show the parameters and accuracies."
   ]
  },
  {
   "cell_type": "code",
   "execution_count": 12,
   "metadata": {},
   "outputs": [],
   "source": [
    "# Make a reusable function to find the most optimized hypertuning of the max_depth parameter\n",
    "def decision_tree_optimizer(model_name):\n",
    "    best_model = None\n",
    "    best_acc, best_test_acc, best_est, best_depth, best_rmse = 0, 0, 0, 0, 0\n",
    "    print(model_name)\n",
    "    for depth in range(1, 11):\n",
    "        model = model_name(random_state=12345, max_depth=depth)\n",
    "        model.fit(features_train, target_train)\n",
    "        predictions = model.predict(features_valid)\n",
    "        rmse = mean_squared_error(target_valid, predictions)**0.5\n",
    "        predictions_int = [int(round(predictions[i])) for i in range(len(predictions))]\n",
    "        accuracy = accuracy_score(target_valid, predictions_int)\n",
    "        predictions_test = model.predict(features_test)\n",
    "        predictions_test_int = [int(round(predictions_test[i])) for i in range(len(predictions_test))]\n",
    "        accuracy_test = accuracy_score(target_test, predictions_test_int)\n",
    "        if accuracy_test > best_test_acc:\n",
    "            best_acc = accuracy\n",
    "            best_test_acc = accuracy_test\n",
    "            # best_est = est\n",
    "            best_depth = depth\n",
    "            best_rmse = rmse\n",
    "            best_model = model\n",
    "    print('Best Depth:', best_depth)\n",
    "    print('RMSE:', best_rmse)\n",
    "    print('Accuracy of Validation Set:', best_acc)\n",
    "    print('Best Accuracy of Test Set:', best_test_acc)\n",
    "    print(best_model)"
   ]
  },
  {
   "cell_type": "code",
   "execution_count": 13,
   "metadata": {},
   "outputs": [
    {
     "name": "stdout",
     "output_type": "stream",
     "text": [
      "<class 'sklearn.tree._classes.DecisionTreeClassifier'>\n",
      "Best Depth: 5\n",
      "RMSE: 0.4909761122175637\n",
      "Accuracy of Validation Set: 0.7589424572317263\n",
      "Best Accuracy of Test Set: 0.7884914463452566\n",
      "DecisionTreeClassifier(max_depth=5, random_state=12345)\n"
     ]
    }
   ],
   "source": [
    "decision_tree_optimizer(DecisionTreeClassifier)"
   ]
  },
  {
   "cell_type": "code",
   "execution_count": 14,
   "metadata": {},
   "outputs": [
    {
     "name": "stdout",
     "output_type": "stream",
     "text": [
      "Decision Tree Classifier\n",
      "1\n",
      "RMSE: 0.5111509289453966\n",
      "Accuracy of Validation Set: 0.7387247278382582\n",
      "Accuracy of Test Set: 0.7480559875583204\n",
      "\n",
      "2\n",
      "RMSE: 0.492557359828901\n",
      "Accuracy of Validation Set: 0.7573872472783826\n",
      "Accuracy of Test Set: 0.7838258164852255\n",
      "\n",
      "3\n",
      "RMSE: 0.4845995284303307\n",
      "Accuracy of Validation Set: 0.7651632970451011\n",
      "Accuracy of Test Set: 0.7869362363919129\n",
      "\n",
      "4\n",
      "RMSE: 0.48620151471199946\n",
      "Accuracy of Validation Set: 0.7636080870917574\n",
      "Accuracy of Test Set: 0.7869362363919129\n",
      "\n",
      "5\n",
      "RMSE: 0.4909761122175637\n",
      "Accuracy of Validation Set: 0.7589424572317263\n",
      "Accuracy of Test Set: 0.7884914463452566\n",
      "\n",
      "6\n",
      "RMSE: 0.492557359828901\n",
      "Accuracy of Validation Set: 0.7573872472783826\n",
      "Accuracy of Test Set: 0.7791601866251944\n",
      "\n",
      "7\n",
      "RMSE: 0.4748741340974856\n",
      "Accuracy of Validation Set: 0.7744945567651633\n",
      "Accuracy of Test Set: 0.7884914463452566\n",
      "\n",
      "8\n",
      "RMSE: 0.48299222871755937\n",
      "Accuracy of Validation Set: 0.7667185069984448\n",
      "Accuracy of Test Set: 0.7807153965785381\n",
      "\n",
      "9\n",
      "RMSE: 0.4877982399123497\n",
      "Accuracy of Validation Set: 0.7620528771384136\n",
      "Accuracy of Test Set: 0.7776049766718507\n",
      "\n",
      "10\n",
      "RMSE: 0.47813791226122626\n",
      "Accuracy of Validation Set: 0.7713841368584758\n",
      "Accuracy of Test Set: 0.7713841368584758\n",
      "\n"
     ]
    }
   ],
   "source": [
    "# Decision Tree Classifier Model for depths 1 to 10 to make sure our function worked\n",
    "print('Decision Tree Classifier')\n",
    "for depth in range(1, 11): \n",
    "    print(depth)\n",
    "    model_dtc = DecisionTreeClassifier(random_state=12345, max_depth=depth) # min_samples_split, max_depth\n",
    "    model_dtc.fit(features_train, target_train) # train model on training set\n",
    "    predictions_valid_dtc = model_dtc.predict(features_valid) # get model predictions on validation set\n",
    "    result_dtc = mean_squared_error(target_valid, predictions_valid_dtc)**0.5\n",
    "    print('RMSE:', result_dtc)\n",
    "    acc_valid_dtc = accuracy_score(target_valid, predictions_valid_dtc)\n",
    "    print('Accuracy of Validation Set:', acc_valid_dtc)\n",
    "    predictions_test_dtc = model_dtc.predict(features_test)\n",
    "    acc_test_dtc = accuracy_score(target_test, predictions_test_dtc)\n",
    "    print('Accuracy of Test Set:', acc_test_dtc)\n",
    "    print()"
   ]
  },
  {
   "cell_type": "markdown",
   "metadata": {},
   "source": [
    "### Decision Tree Regressor Model\n",
    "\n",
    "We will apply the function now with the Decision Tree Regressor and double check it's values."
   ]
  },
  {
   "cell_type": "code",
   "execution_count": 15,
   "metadata": {
    "scrolled": false
   },
   "outputs": [
    {
     "name": "stdout",
     "output_type": "stream",
     "text": [
      "<class 'sklearn.tree._classes.DecisionTreeRegressor'>\n",
      "Best Depth: 5\n",
      "RMSE: 0.42689477985395363\n",
      "Accuracy of Validation Set: 0.7589424572317263\n",
      "Best Accuracy of Test Set: 0.7884914463452566\n",
      "DecisionTreeRegressor(max_depth=5, random_state=12345)\n"
     ]
    }
   ],
   "source": [
    "decision_tree_optimizer(DecisionTreeRegressor)"
   ]
  },
  {
   "cell_type": "code",
   "execution_count": 16,
   "metadata": {
    "scrolled": false
   },
   "outputs": [
    {
     "name": "stdout",
     "output_type": "stream",
     "text": [
      "Accuracy of Decision Tree Regressor\n",
      "1\n",
      "RMSE: 0.4402116325036126\n",
      "Accuracy of Validation Set: 0.7387247278382582\n",
      "Accuracy of Test Set: 0.7480559875583204\n",
      "\n",
      "2\n",
      "RMSE: 0.42878035356378946\n",
      "Accuracy of Validation Set: 0.7573872472783826\n",
      "Accuracy of Test Set: 0.7838258164852255\n",
      "\n",
      "3\n",
      "RMSE: 0.42245705210925333\n",
      "Accuracy of Validation Set: 0.7651632970451011\n",
      "Accuracy of Test Set: 0.7869362363919129\n",
      "\n",
      "4\n",
      "RMSE: 0.4270601028507425\n",
      "Accuracy of Validation Set: 0.7636080870917574\n",
      "Accuracy of Test Set: 0.7869362363919129\n",
      "\n",
      "5\n",
      "RMSE: 0.42689477985395363\n",
      "Accuracy of Validation Set: 0.7589424572317263\n",
      "Accuracy of Test Set: 0.7884914463452566\n",
      "\n",
      "6\n",
      "RMSE: 0.4311135397191622\n",
      "Accuracy of Validation Set: 0.7573872472783826\n",
      "Accuracy of Test Set: 0.7791601866251944\n",
      "\n",
      "7\n",
      "RMSE: 0.42825814633329395\n",
      "Accuracy of Validation Set: 0.7744945567651633\n",
      "Accuracy of Test Set: 0.7884914463452566\n",
      "\n",
      "8\n",
      "RMSE: 0.43386469156461527\n",
      "Accuracy of Validation Set: 0.7667185069984448\n",
      "Accuracy of Test Set: 0.7807153965785381\n",
      "\n",
      "9\n",
      "RMSE: 0.43942881208336954\n",
      "Accuracy of Validation Set: 0.7620528771384136\n",
      "Accuracy of Test Set: 0.7776049766718507\n",
      "\n",
      "10\n",
      "RMSE: 0.44097841783327874\n",
      "Accuracy of Validation Set: 0.7713841368584758\n",
      "Accuracy of Test Set: 0.7713841368584758\n",
      "\n"
     ]
    }
   ],
   "source": [
    "# Decision Tree Regressor Model for depths 1 to 10 to make sure our function worked\n",
    "print('Accuracy of Decision Tree Regressor')\n",
    "for depth in range(1, 11): \n",
    "    print(depth)\n",
    "    model_dtr = DecisionTreeRegressor(random_state=12345, max_depth=depth)\n",
    "    model_dtr.fit(features_train, target_train) # train model on training set\n",
    "    predictions_valid_dtr = model_dtr.predict(features_valid) # get model predictions on validation set\n",
    "    result_dtr = mean_squared_error(target_valid, predictions_valid_dtr)**0.5\n",
    "    print('RMSE:', result_dtr)\n",
    "    pv_dtr = [int(round(predictions_valid_dtr[i])) for i in range(len(predictions_valid_dtr))]\n",
    "    accy = accuracy_score(target_valid, pv_dtr)\n",
    "    print('Accuracy of Validation Set:', accy)\n",
    "    predictions_test_dtr = model_dtr.predict(features_test)\n",
    "    pv_test_dtr = [int(round(predictions_test_dtr[i])) for i in range(len(predictions_test_dtr))]\n",
    "    acc_test_dtr = accuracy_score(target_test, pv_test_dtr)\n",
    "    print('Accuracy of Test Set:', acc_test_dtr)\n",
    "    print()"
   ]
  },
  {
   "cell_type": "markdown",
   "metadata": {},
   "source": [
    "For both the Decision Tree Classifier and Regressor, we got our best accuracy at a depth of 5 and a test set accuracy at 78%. When comparing the rmse value, this depth also had the smallest value."
   ]
  },
  {
   "cell_type": "markdown",
   "metadata": {},
   "source": [
    "### RandomForestClassifier \n",
    "\n",
    "Like before, we will create a similar function to optimize the parameters of the Random Forest models. The parameters we will work on are the max_depth and n_estimators."
   ]
  },
  {
   "cell_type": "code",
   "execution_count": 17,
   "metadata": {},
   "outputs": [],
   "source": [
    "def random_forest_optimizer(model_name):\n",
    "    best_model = None\n",
    "    best_acc, best_test_acc, best_est, best_depth, best_rmse = 0, 0, 0, 0, 0\n",
    "    print(model_name)\n",
    "    for est in range(10, 61, 5):\n",
    "        for depth in range(1, 11):\n",
    "            model = model_name(random_state=12345, max_depth=depth, n_estimators=est)\n",
    "            model.fit(features_train, target_train)\n",
    "            predictions = model.predict(features_valid)\n",
    "            rmse = mean_squared_error(target_valid, predictions)**0.5\n",
    "            predictions_int = [int(round(predictions[i])) for i in range(len(predictions))]\n",
    "            accuracy = accuracy_score(target_valid, predictions_int)\n",
    "            predictions_test = model.predict(features_test)\n",
    "            predictions_test_int = [int(round(predictions_test[i])) for i in range(len(predictions_test))]\n",
    "            accuracy_test = accuracy_score(target_test, predictions_test_int)\n",
    "            if accuracy_test > best_test_acc:\n",
    "                best_acc = accuracy\n",
    "                best_test_acc = accuracy_test\n",
    "                best_est = est\n",
    "                best_depth = depth\n",
    "                best_rmse = rmse\n",
    "                best_model = model\n",
    "    print('Best Depth:', best_depth)\n",
    "    print('Best n-estimators', best_est)\n",
    "    print('RMSE:', best_rmse)\n",
    "    print('Accuracy of Validation Set:', best_acc)\n",
    "    print('Best Accuracy of Test Set:', best_test_acc)\n",
    "    print(best_model)"
   ]
  },
  {
   "cell_type": "code",
   "execution_count": 18,
   "metadata": {
    "scrolled": true
   },
   "outputs": [
    {
     "name": "stdout",
     "output_type": "stream",
     "text": [
      "<class 'sklearn.ensemble._forest.RandomForestClassifier'>\n",
      "Best Depth: 6\n",
      "Best n-estimators 20\n",
      "RMSE: 0.46326987119974766\n",
      "Accuracy of Validation Set: 0.7853810264385692\n",
      "Best Accuracy of Test Set: 0.8009331259720062\n",
      "RandomForestClassifier(max_depth=6, n_estimators=20, random_state=12345)\n"
     ]
    }
   ],
   "source": [
    "random_forest_optimizer(RandomForestClassifier)"
   ]
  },
  {
   "cell_type": "code",
   "execution_count": 19,
   "metadata": {
    "scrolled": true
   },
   "outputs": [
    {
     "name": "stdout",
     "output_type": "stream",
     "text": [
      "RandomForestClassifier\n",
      "Depth: 6  || Estimators: 20\n",
      "RMSE: 0.46326987119974766\n",
      "Accuracy of Validation Set: 0.7853810264385692\n",
      "Accuracy of Test Set: 0.8009331259720062\n",
      "RandomForestClassifier(max_depth=6, n_estimators=20, random_state=12345)\n"
     ]
    }
   ],
   "source": [
    "# RandomForestClassifier \n",
    "# Hypertune: n_estimators=est, max_depth=depth (10,7)\n",
    "best_model = None\n",
    "best_acc, best_test_acc, best_est, best_depth, best_rmse = 0, 0, 0, 0, 0\n",
    "print('RandomForestClassifier')\n",
    "for est in range(10, 61, 5):\n",
    "    for depth in range (1, 15):\n",
    "        model_rfc = RandomForestClassifier(random_state=12345, n_estimators=est, max_depth=depth)\n",
    "        model_rfc.fit(features_train, target_train)\n",
    "        predictions_valid_rfc = model_rfc.predict(features_valid)\n",
    "        result_rfc = mean_squared_error(target_valid, predictions_valid_rfc)**0.5\n",
    "        acc_valid_rfc = accuracy_score(target_valid, predictions_valid_rfc)\n",
    "        predictions_test_rfc = model_rfc.predict(features_test)\n",
    "        acc_test_rfc = accuracy_score(target_test, predictions_test_rfc)\n",
    "        if acc_test_rfc > best_test_acc:\n",
    "            best_acc = acc_valid_rfc\n",
    "            best_test_acc = acc_test_rfc\n",
    "            best_est = est\n",
    "            best_depth = depth\n",
    "            best_rmse = result_rfc\n",
    "            best_model = model_rfc\n",
    "print('Depth:', best_depth, ' || Estimators:', best_est)\n",
    "print('RMSE:', best_rmse)\n",
    "print('Accuracy of Validation Set:', best_acc)\n",
    "print('Accuracy of Test Set:', best_test_acc)\n",
    "print(best_model)"
   ]
  },
  {
   "cell_type": "markdown",
   "metadata": {},
   "source": [
    "### RandomForestRegressor "
   ]
  },
  {
   "cell_type": "code",
   "execution_count": 20,
   "metadata": {},
   "outputs": [
    {
     "name": "stdout",
     "output_type": "stream",
     "text": [
      "<class 'sklearn.ensemble._forest.RandomForestRegressor'>\n",
      "Best Depth: 8\n",
      "Best n-estimators 20\n",
      "RMSE: 0.4016390453109308\n",
      "Accuracy of Validation Set: 0.7869362363919129\n",
      "Best Accuracy of Test Set: 0.8009331259720062\n",
      "RandomForestRegressor(max_depth=8, n_estimators=20, random_state=12345)\n"
     ]
    }
   ],
   "source": [
    "random_forest_optimizer(RandomForestRegressor)"
   ]
  },
  {
   "cell_type": "code",
   "execution_count": 21,
   "metadata": {
    "scrolled": true
   },
   "outputs": [
    {
     "name": "stdout",
     "output_type": "stream",
     "text": [
      "RandomForestRegressor\n",
      "Depth: 8  || Estimators: 20\n",
      "RMSE: 0.4016390453109308\n",
      "Accuracy of Validation Set: 0.7869362363919129\n",
      "Accuracy of Test Set: 0.8009331259720062\n",
      "RandomForestRegressor(max_depth=8, n_estimators=20, random_state=12345)\n"
     ]
    }
   ],
   "source": [
    "# RandomForestRegressor\n",
    "best_model = None\n",
    "best_acc, best_test_acc, best_est, best_depth, best_rmse = 0, 0, 0, 0, 0\n",
    "print('RandomForestRegressor')\n",
    "for est in range(5, 61, 5):\n",
    "    for depth in range (1, 12):\n",
    "        model_rfr = RandomForestRegressor(random_state=12345, n_estimators=est, max_depth=depth) # initialize model constructor with parameters random_state=12345 and n_estimators=est\n",
    "        model_rfr.fit(features_train, target_train) # train model on training set\n",
    "        predictions_valid_rfr = model_rfr.predict(features_valid) # get model predictions on validation set\n",
    "        result_rfr = mean_squared_error(target_valid, predictions_valid_rfr)**0.5\n",
    "        # print('RMSE:', result_rfr)\n",
    "        pv_rfr = [int(round(predictions_valid_rfr[i])) for i in range(len(predictions_valid_rfr))]\n",
    "        acc_valid_rfr = accuracy_score(target_valid, pv_rfr)\n",
    "        #print('Accuracy of Validation Set:', acc_valid_rfr)\n",
    "        predictions_test_rfr = model_rfr.predict(features_test)\n",
    "        pv_test_rfr = [int(round(predictions_test_rfr[i])) for i in range(len(predictions_test_rfr))]\n",
    "        acc_test_rfr = accuracy_score(target_test, pv_test_rfr)\n",
    "        if acc_test_rfr > best_test_acc:\n",
    "            best_acc = acc_valid_rfr\n",
    "            best_test_acc = acc_test_rfr\n",
    "            best_est = est\n",
    "            best_depth = depth\n",
    "            best_rmse = result_rfr\n",
    "            best_model = model_rfr\n",
    "print('Depth:', best_depth, ' || Estimators:', best_est)\n",
    "print('RMSE:', best_rmse)\n",
    "print('Accuracy of Validation Set:', best_acc)\n",
    "print('Accuracy of Test Set:', best_test_acc)\n",
    "print(best_model)"
   ]
  },
  {
   "cell_type": "markdown",
   "metadata": {},
   "source": [
    "Both Random Forest models performed better than the Decision Tree models in both accuracy, just past 80%, and an RMSE value just above 0.4."
   ]
  },
  {
   "cell_type": "markdown",
   "metadata": {},
   "source": [
    "### LogisticRegression Model\n",
    "\n",
    "For Logistic Regression, we are choosing to hypertune the C value."
   ]
  },
  {
   "cell_type": "code",
   "execution_count": 22,
   "metadata": {},
   "outputs": [
    {
     "name": "stdout",
     "output_type": "stream",
     "text": [
      "LogisticRegression\n",
      "Strength: 1\n",
      "RMSE: 0.520198550441852\n",
      "Accuracy of Validation Set: 0.7293934681181959\n",
      "Best Accuracy of Test Set: 0.7511664074650077\n",
      "LogisticRegression(C=1, random_state=12345, solver='liblinear')\n"
     ]
    }
   ],
   "source": [
    "# LogisticRegression \n",
    "# Hypertune: solver='liblinear', C=10.0, random_state=\n",
    "best_model = None\n",
    "best_acc, best_test_acc, best_strength, best_rmse = 0, 0, 0, 0\n",
    "print('LogisticRegression')\n",
    "# for est in range(10, 51, 10):\n",
    "for strength in range (1, 11):\n",
    "    model_lgr = LogisticRegression(solver='liblinear', C=strength, random_state=12345)\n",
    "    model_lgr.fit(features_train, target_train)\n",
    "    predictions_valid_lgr = model_lgr.predict(features_valid)\n",
    "    result_lgr = mean_squared_error(target_valid, predictions_valid_lgr)**0.5\n",
    "    acc_valid_lgr = accuracy_score(target_valid, predictions_valid_lgr)\n",
    "    predictions_test_lgr = model_lgr.predict(features_test)\n",
    "    acc_test_lgr = accuracy_score(target_test, predictions_test_lgr)\n",
    "    if acc_valid_lgr > best_acc:\n",
    "        best_acc = acc_valid_lgr\n",
    "        best_test_acc = acc_test_lgr\n",
    "        best_strength = strength\n",
    "        best_rmse = result_lgr\n",
    "        best_model = model_lgr\n",
    "print('Strength:', best_strength)\n",
    "print('RMSE:', best_rmse)\n",
    "print('Accuracy of Validation Set:', best_acc)\n",
    "print('Best Accuracy of Test Set:', best_test_acc)\n",
    "print(best_model)"
   ]
  },
  {
   "cell_type": "markdown",
   "metadata": {},
   "source": [
    "### LinearRegression Model"
   ]
  },
  {
   "cell_type": "code",
   "execution_count": 23,
   "metadata": {},
   "outputs": [
    {
     "name": "stdout",
     "output_type": "stream",
     "text": [
      "RMSE: 0.520198550441852\n",
      "Accuracy of Validation Set: 0.7293934681181959\n",
      "Accuracy of Test Set: 0.7558320373250389\n"
     ]
    }
   ],
   "source": [
    "# LinearRegression\n",
    "model_lr = LinearRegression(normalize=True) #, )n_jobs=-1\n",
    "model_lr.fit(features_train, target_train) # train model on training set\n",
    "predictions_valid_lr = model_lr.predict(features_valid) # get model predictions on validation set\n",
    "pv_lr = [int(round(predictions_valid_lr[i])) for i in range(len(predictions_valid_lr))]\n",
    "result_lr = mean_squared_error(target_valid, pv_lr)**0.5\n",
    "print('RMSE:', result_lr)\n",
    "acc_valid_lr = accuracy_score(target_valid, pv_lr)\n",
    "print('Accuracy of Validation Set:', acc_valid_lr)\n",
    "predictions_test_lgr = model_lr.predict(features_test)\n",
    "pv_test_lr = [int(round(predictions_test_lgr[i])) for i in range(len(predictions_test_lgr))]\n",
    "acc_test_lr = accuracy_score(target_test, pv_test_lr)\n",
    "print('Accuracy of Test Set:', acc_test_lr)"
   ]
  },
  {
   "cell_type": "code",
   "execution_count": 24,
   "metadata": {
    "scrolled": true
   },
   "outputs": [],
   "source": [
    "# LinearRegression().get_params()"
   ]
  },
  {
   "cell_type": "markdown",
   "metadata": {
    "scrolled": true
   },
   "source": [
    "The Logistic and Linear Regression models performed the worst among the six models in both RMSE and accuracy values."
   ]
  },
  {
   "cell_type": "markdown",
   "metadata": {},
   "source": [
    "<div class=\"alert alert-success\">\n",
    "<b>Reviewer's comment v1:</b>\n",
    "    \n",
    "Everything is correct here! Great that you've managed to check multiple models. \n",
    "\n",
    "Some possible minor improvements: \n",
    "\n",
    "- The `decision_tree_optimizer` and `random_forest_optimizer` functions can be further optimized for reuse by passing parameters for the `range of depth` and `estimators`. You can also make the scoring metric a parameter.\n",
    "- DecisionTreeRegressor and LinearRegression are not suitable for classification tasks. Instead, focus on classification models like LogisticRegression, RandomForestClassifier, and DecisionTreeClassifier.\n",
    "- Besides accuracy, consider evaluating models using additional metrics like F1-score, precision, recall, or the ROC-AUC score for a more holistic view of performance, especially if the class distribution is imbalanced.\n",
    "- Cross-validation could be used instead of a single validation set to get a more reliable estimate of model performance."
   ]
  },
  {
   "cell_type": "markdown",
   "metadata": {},
   "source": [
    "<div class=\"alert alert-info\"> <b>Student comments:</b> I had a similar thought of trying to make a more generalized function for both the decision trees and random forests models, but struggled thinking of a clean way to pass more parameters. Do you have a general suggestion to get that started so I can try it on my own? I'd like to try that out also when I go over the other metrics like recall, precision, etc., which looks like are in the next sprint.</div>"
   ]
  },
  {
   "cell_type": "markdown",
   "metadata": {},
   "source": [
    "<div class=\"alert alert-success\">\n",
    "<b>Reviewer's comment v2:</b>\n",
    "    \n",
    "First you could define your function to accept hyperparameters like `max_depth`, `n_estimators`, `scoring_metric`, etc. as inputs. This way, you can pass different values for different scenarios.\n",
    "    \n",
    "e.g. The same function can be used for different models like `RandomForestClassifier` by just changing the model and parameters arguments.\n",
    " \n",
    "```\n",
    "def model_optimizer(model, parameters, scoring_metric='accuracy', cv=5):\n",
    "    from sklearn.model_selection import GridSearchCV\n",
    "\n",
    "    grid_search = GridSearchCV(model, parameters, cv=cv, scoring=scoring_metric)\n",
    "    grid_search.fit(X_train, y_train)\n",
    "\n",
    "    best_params = grid_search.best_params_\n",
    "    best_score = grid_search.best_score_\n",
    "\n",
    "    return best_params, best_score\n",
    "```\n",
    "  \n",
    "Then you could apply it in the following way: \n",
    "    \n",
    "   \n",
    "```\n",
    "from sklearn.tree import DecisionTreeClassifier\n",
    "\n",
    "dt_params = {'max_depth': [10, 20, 30, None],\n",
    "             'min_samples_split': [2, 5, 10]}\n",
    "dt_model = DecisionTreeClassifier()\n",
    "\n",
    "best_params, best_score = model_optimizer(dt_model, dt_params, scoring_metric='roc_auc')\n",
    "```"
   ]
  },
  {
   "cell_type": "markdown",
   "metadata": {},
   "source": [
    "## Sanity Check\n",
    "\n",
    "We will check that our models can beat the accuracy of a randomly generated set of values and values made with the DummyClassifier for the is_ultra column."
   ]
  },
  {
   "cell_type": "code",
   "execution_count": 25,
   "metadata": {},
   "outputs": [
    {
     "data": {
      "text/plain": [
       "0    0.693528\n",
       "1    0.306472\n",
       "Name: is_ultra, dtype: float64"
      ]
     },
     "execution_count": 25,
     "metadata": {},
     "output_type": "execute_result"
    }
   ],
   "source": [
    "df['is_ultra'].value_counts() / df.shape[0]"
   ]
  },
  {
   "cell_type": "code",
   "execution_count": 26,
   "metadata": {
    "scrolled": false
   },
   "outputs": [
    {
     "name": "stdout",
     "output_type": "stream",
     "text": [
      "[1, 0, 1, 1, 0, 0, 1, 0, 1, 1, 0, 0, 0, 1, 1, 1, 1, 0, 0, 0, 1, 0, 1, 1, 1, 0, 1, 1, 1, 0, 0, 0, 0, 1, 1, 1, 0, 0, 0, 1, 1, 1, 1, 1, 0, 0, 0, 0, 1, 1, 1, 0, 0, 0, 0, 1, 1, 1, 0, 1, 1, 0, 1, 0, 1, 0, 0, 0, 1, 1, 0, 1, 1, 1, 1, 0, 1, 0, 0, 0, 1, 1, 0, 0, 1, 1, 0, 0, 0, 1, 0, 0, 0, 1, 0, 0, 0, 1, 1, 1, 0, 1, 0, 0, 1, 0, 1, 1, 1, 0, 0, 0, 0, 1, 1, 0, 0, 0, 1, 1, 1, 0, 0, 0, 1, 0, 1, 0, 1, 1, 0, 1, 1, 0, 1, 1, 0, 0, 1, 1, 1, 0, 0, 0, 0, 1, 0, 1, 1, 1, 0, 1, 0, 1, 0, 0, 0, 0, 1, 1, 0, 1, 1, 0, 0, 0, 1, 0, 0, 0, 1, 1, 0, 1, 0, 0, 1, 0, 1, 1, 0, 1, 0, 1, 1, 0, 0, 1, 0, 0, 0, 1, 1, 1, 1, 0, 1, 1, 1, 0, 1, 0, 1, 1, 1, 0, 1, 1, 0, 0, 0, 0, 0, 0, 1, 1, 1, 1, 0, 0, 0, 1, 0, 1, 0, 0, 0, 1, 1, 0, 0, 0, 0, 1, 1, 0, 1, 0, 0, 1, 0, 1, 0, 0, 0, 1, 0, 1, 0, 1, 0, 1, 0, 1, 0, 0, 0, 1, 0, 0, 0, 1, 1, 1, 0, 1, 0, 1, 1, 1, 1, 1, 0, 1, 0, 1, 0, 1, 0, 0, 0, 1, 0, 0, 0, 0, 0, 1, 1, 1, 1, 1, 0, 1, 0, 0, 1, 0, 1, 0, 1, 0, 0, 1, 1, 1, 0, 0, 0, 0, 0, 1, 1, 1, 1, 0, 0, 1, 1, 0, 1, 0, 0, 0, 0, 0, 0, 0, 1, 1, 1, 1, 1, 1, 0, 1, 0, 0, 0, 1, 0, 1, 1, 0, 1, 0, 0, 1, 0, 1, 1, 1, 1, 1, 1, 1, 1, 1, 0, 1, 1, 1, 0, 1, 1, 1, 1, 0, 0, 0, 1, 1, 0, 0, 1, 0, 0, 0, 0, 0, 0, 1, 1, 0, 1, 1, 1, 0, 0, 0, 1, 0, 1, 1, 0, 0, 0, 1, 0, 0, 0, 0, 1, 0, 0, 0, 0, 1, 1, 1, 1, 0, 0, 0, 0, 0, 0, 0, 0, 1, 0, 1, 1, 0, 0, 0, 0, 0, 1, 0, 0, 1, 1, 0, 0, 1, 0, 1, 1, 1, 1, 1, 1, 1, 1, 0, 1, 1, 1, 0, 1, 1, 1, 1, 1, 0, 1, 1, 0, 0, 1, 1, 1, 1, 1, 1, 1, 1, 1, 1, 1, 1, 0, 0, 1, 0, 0, 1, 1, 1, 1, 0, 1, 1, 0, 1, 0, 1, 0, 0, 1, 1, 0, 0, 0, 0, 0, 1, 1, 1, 0, 0, 1, 0, 1, 1, 1, 0, 0, 0, 1, 0, 0, 0, 0, 1, 1, 1, 0, 1, 1, 1, 1, 1, 0, 0, 0, 0, 0, 0, 1, 0, 0, 0, 0, 0, 0, 0, 0, 1, 0, 1, 1, 0, 0, 1, 0, 1, 0, 1, 0, 0, 0, 1, 1, 1, 0, 0, 0, 1, 0, 0, 1, 0, 0, 1, 1, 1, 0, 0, 1, 0, 1, 1, 1, 1, 1, 1, 0, 1, 0, 0, 1, 0, 1, 1, 0, 1, 1, 0, 1, 0, 1, 0, 0, 1, 1, 1, 1, 0, 0, 1, 1, 1, 1, 1, 1, 0, 1, 0, 1, 0, 0, 1, 1, 1, 0, 0, 1, 1, 1, 0, 0, 1, 1, 1, 0, 1, 0, 1, 1, 0, 0, 0, 1, 1, 0, 1, 0, 0, 0, 0, 0]\n"
     ]
    }
   ],
   "source": [
    "rand_pv = []\n",
    "for i in range(len(target_test)):\n",
    "    rand_pv.append(random.randint(0, 1))\n",
    "print(rand_pv)"
   ]
  },
  {
   "cell_type": "code",
   "execution_count": 27,
   "metadata": {},
   "outputs": [
    {
     "name": "stdout",
     "output_type": "stream",
     "text": [
      "Baseline Dummy Classifier Accuracy: 0.70\n"
     ]
    }
   ],
   "source": [
    "from sklearn.dummy import DummyClassifier\n",
    "from sklearn.metrics import accuracy_score\n",
    "\n",
    "# Assume features_train, features_test, target_train, and target_test are predefined\n",
    "# and contain the training/testing data split.\n",
    "\n",
    "# Initialize the DummyClassifier to predict the most frequent class\n",
    "dummy_clf = DummyClassifier(strategy=\"most_frequent\", random_state=0)\n",
    "\n",
    "# Fit the dummy classifier on the training data\n",
    "dummy_clf.fit(features_train, target_train)\n",
    "\n",
    "# Predict the labels for the test set\n",
    "dummy_predictions = dummy_clf.predict(features_test)\n",
    "\n",
    "# Calculate the accuracy of the dummy classifier\n",
    "dummy_accuracy = accuracy_score(target_test, dummy_predictions)\n",
    "\n",
    "print(f\"Baseline Dummy Classifier Accuracy: {dummy_accuracy:.2f}\")\n",
    "\n",
    "# After this, you would compare the dummy_accuracy with your actual model's accuracy.\n",
    "# Any model that is performing better than the dummy classifier is considered to have learned something beyond the baseline.\n"
   ]
  },
  {
   "cell_type": "code",
   "execution_count": 28,
   "metadata": {},
   "outputs": [
    {
     "name": "stdout",
     "output_type": "stream",
     "text": [
      "0.4821150855365474\n"
     ]
    }
   ],
   "source": [
    "accy = accuracy_score(target_test, rand_pv)\n",
    "print(accy)"
   ]
  },
  {
   "cell_type": "markdown",
   "metadata": {},
   "source": [
    "<div class=\"alert alert-danger\">\n",
    "<b>Reviewer's comment v1:</b>\n",
    "    \n",
    "In our case, we have a very skewed distribution of users across the two plans. As you can see, only 30% are enrolled in the Ultra plan. Therefore, this initial distribution could perhaps be used to validate the machine learning model rather than using a random generator.\n",
    "    \n",
    "You could use `DummyClassifier` to implement this sanity check. You could read about it [here](https://scikit-learn.org/stable/modules/generated/sklearn.dummy.DummyClassifier.html)\n",
    "    \n",
    "```\n",
    "from sklearn.dummy import DummyClassifier\n",
    "# Initialize the DummyClassifier to predict the most frequent class\n",
    "dummy_clf = DummyClassifier(strategy=\"most_frequent\", random_state=0)\n",
    "# Fit the dummy classifier on the training data\n",
    "...\n",
    "```"
   ]
  },
  {
   "cell_type": "markdown",
   "metadata": {},
   "source": [
    "All the models have a higher accuracy than a set determined by chance. When the previous two cells were ran multiple times, the accuracy was always around 50%, which all the models in the previous section were able to achieve higher accuracy.\n",
    "\n",
    "In addition to the randomly generated set of values for the is_ultra values, we used the Dummy Classifier function to create a another baseline to compare the models with. This classifier set a baseline of 70%, which is a stricter bar to reach than the random set, and a better sanity check to use. We see that all our models did indeed attain a higher accuracy score than the Dummy Classifier, with accuracies at least 5% higher."
   ]
  },
  {
   "cell_type": "markdown",
   "metadata": {},
   "source": [
    "<div class=\"alert alert-info\"> <b>Student comments:</b> Added a comparison of the results between the Dummy Classifier to the models. I'll add this </div>   "
   ]
  },
  {
   "cell_type": "markdown",
   "metadata": {},
   "source": [
    "<div class=\"alert alert-success\">\n",
    "<b>Reviewer's comment v2:</b>\n",
    "    \n",
    "\n",
    "Well done! Comparing the results of your models to a Dummy Classifier is a valuable approach. It helps in establishing a baseline performance, which can be crucial for understanding the effectiveness of your models. "
   ]
  },
  {
   "cell_type": "markdown",
   "metadata": {},
   "source": [
    "## Conclusion\n",
    "\n",
    "From our model testing and hypertuning, Megaline should use the RandomForestRegressor model to help determine which of the new plans their subscribers should be offered. This model had the highest accuracy on the test set of a little over 80%, the lowest RMSE value of just above 0.4, and the highest accuracy on the validation set, which barely beat the accuracy from the RandomForestClassifier model.\n",
    "\n",
    "All models, however, did meet our threshold of 75% accuracy on the test set. Also, the RMSE values ranged from 0.4 to a little over 0.5."
   ]
  },
  {
   "cell_type": "markdown",
   "metadata": {},
   "source": [
    "<div class=\"alert alert-success\">\n",
    "<b>Reviewer's comment v1:</b>\n",
    "    \n",
    "\n",
    "Great job on your overall conclusions and recommendations!  Your recommendations are well-thought and could be very valuable to the business."
   ]
  },
  {
   "cell_type": "markdown",
   "metadata": {},
   "source": [
    "<div class=\"alert alert-info\"> <b>Student comments:</b> Thank you for taking the time to review my project and providing helpful feedback!</div>"
   ]
  },
  {
   "cell_type": "markdown",
   "metadata": {},
   "source": [
    "<div class=\"alert alert-success\">\n",
    "<b>Reviewer's comment v2:</b>\n",
    "    \n",
    "\n",
    "\n",
    "You're very welcome! I'm glad to hear that you found the feedback helpful. "
   ]
  }
 ],
 "metadata": {
  "kernelspec": {
   "display_name": "Python 3 (ipykernel)",
   "language": "python",
   "name": "python3"
  },
  "language_info": {
   "codemirror_mode": {
    "name": "ipython",
    "version": 3
   },
   "file_extension": ".py",
   "mimetype": "text/x-python",
   "name": "python",
   "nbconvert_exporter": "python",
   "pygments_lexer": "ipython3",
   "version": "3.9.19"
  },
  "toc": {
   "base_numbering": 1,
   "nav_menu": {},
   "number_sections": true,
   "sideBar": true,
   "skip_h1_title": true,
   "title_cell": "Table of Contents",
   "title_sidebar": "Contents",
   "toc_cell": false,
   "toc_position": {
    "height": "calc(100% - 180px)",
    "left": "10px",
    "top": "150px",
    "width": "167px"
   },
   "toc_section_display": true,
   "toc_window_display": true
  }
 },
 "nbformat": 4,
 "nbformat_minor": 2
}
