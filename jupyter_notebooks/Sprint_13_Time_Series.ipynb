{
 "cells": [
  {
   "cell_type": "markdown",
   "metadata": {},
   "source": [
    "<div class=\"alert alert-success\">\n",
    "<b>Reviewer's comment V2</b>\n",
    "\n",
    "Thanks for taking the time to improve the project! It is now accepted. Good luck on the next sprint!\n",
    "\n",
    "</div>"
   ]
  },
  {
   "cell_type": "markdown",
   "metadata": {},
   "source": [
    "**Review**\n",
    "\n",
    "Hi, my name is Dmitry and I will be reviewing your project.\n",
    "  \n",
    "You can find my comments in colored markdown cells:\n",
    "  \n",
    "<div class=\"alert alert-success\">\n",
    "  If everything is done successfully.\n",
    "</div>\n",
    "  \n",
    "<div class=\"alert alert-warning\">\n",
    "  If I have some (optional) suggestions, or questions to think about, or general comments.\n",
    "</div>\n",
    "  \n",
    "<div class=\"alert alert-danger\">\n",
    "  If a section requires some corrections. Work can't be accepted with red comments.\n",
    "</div>\n",
    "  \n",
    "Please don't remove my comments, as it will make further review iterations much harder for me.\n",
    "  \n",
    "Feel free to reply to my comments or ask questions using the following template:\n",
    "  \n",
    "<div class=\"alert alert-info\">\n",
    "  For your comments and questions.\n",
    "</div>\n",
    "  \n",
    "First of all, thank you for turning in the project! You did a pretty good job overall, but there are some issues that need to be fixed before the project is accepted. Let me know if you have questions!"
   ]
  },
  {
   "cell_type": "markdown",
   "metadata": {},
   "source": [
    "# Project description\n",
    "\n",
    "Sweet Lift Taxi company has collected historical data on taxi orders at airports. To attract more drivers during peak hours, we need to predict the amount of taxi orders for the next hour. Build a model for such a prediction.\n",
    "\n",
    "The RMSE metric on the test set should not be more than 48.\n",
    "\n",
    "## Project instructions\n",
    "\n",
    "1. Download the data and resample it by one hour.\n",
    "2. Analyze the data.\n",
    "3. Train different models with different hyperparameters. The test sample should be 10% of the initial dataset. \n",
    "4. Test the data using the test sample and provide a conclusion.\n",
    "\n",
    "## Data description\n",
    "\n",
    "The data is stored in file `taxi.csv`. The number of orders is in the '*num_orders*' column."
   ]
  },
  {
   "cell_type": "markdown",
   "metadata": {},
   "source": [
    "## Preparation"
   ]
  },
  {
   "cell_type": "code",
   "execution_count": 1,
   "metadata": {
    "scrolled": false
   },
   "outputs": [
    {
     "name": "stdout",
     "output_type": "stream",
     "text": [
      "Requirement already satisfied: pmdarima in /home/jovyan/.local/lib/python3.9/site-packages (2.0.4)\n",
      "Requirement already satisfied: pandas>=0.19 in /opt/conda/lib/python3.9/site-packages (from pmdarima) (1.2.4)\n",
      "Requirement already satisfied: statsmodels>=0.13.2 in /opt/conda/lib/python3.9/site-packages (from pmdarima) (0.13.2)\n",
      "Requirement already satisfied: urllib3 in /opt/conda/lib/python3.9/site-packages (from pmdarima) (1.26.6)\n",
      "Requirement already satisfied: joblib>=0.11 in /opt/conda/lib/python3.9/site-packages (from pmdarima) (1.1.0)\n",
      "Requirement already satisfied: numpy>=1.21.2 in /home/jovyan/.local/lib/python3.9/site-packages (from pmdarima) (1.24.4)\n",
      "Requirement already satisfied: scipy>=1.3.2 in /opt/conda/lib/python3.9/site-packages (from pmdarima) (1.8.0)\n",
      "Requirement already satisfied: packaging>=17.1 in /opt/conda/lib/python3.9/site-packages (from pmdarima) (21.3)\n",
      "Requirement already satisfied: Cython!=0.29.18,!=0.29.31,>=0.29 in /home/jovyan/.local/lib/python3.9/site-packages (from pmdarima) (3.0.10)\n",
      "Requirement already satisfied: scikit-learn>=0.22 in /opt/conda/lib/python3.9/site-packages (from pmdarima) (0.24.1)\n",
      "Requirement already satisfied: setuptools!=50.0.0,>=38.6.0 in /opt/conda/lib/python3.9/site-packages (from pmdarima) (49.6.0.post20210108)\n",
      "Requirement already satisfied: pyparsing!=3.0.5,>=2.0.2 in /opt/conda/lib/python3.9/site-packages (from packaging>=17.1->pmdarima) (2.4.7)\n",
      "Requirement already satisfied: python-dateutil>=2.7.3 in /opt/conda/lib/python3.9/site-packages (from pandas>=0.19->pmdarima) (2.8.1)\n",
      "Requirement already satisfied: pytz>=2017.3 in /opt/conda/lib/python3.9/site-packages (from pandas>=0.19->pmdarima) (2021.1)\n",
      "Requirement already satisfied: six>=1.5 in /opt/conda/lib/python3.9/site-packages (from python-dateutil>=2.7.3->pandas>=0.19->pmdarima) (1.16.0)\n",
      "Requirement already satisfied: threadpoolctl>=2.0.0 in /opt/conda/lib/python3.9/site-packages (from scikit-learn>=0.22->pmdarima) (3.1.0)\n",
      "Requirement already satisfied: patsy>=0.5.2 in /opt/conda/lib/python3.9/site-packages (from statsmodels>=0.13.2->pmdarima) (0.5.2)\n",
      "Note: you may need to restart the kernel to use updated packages.\n"
     ]
    }
   ],
   "source": [
    "%pip install pmdarima --user"
   ]
  },
  {
   "cell_type": "markdown",
   "metadata": {},
   "source": [
    "Note: I had to restart the kernel before getting the pmdarima library to work."
   ]
  },
  {
   "cell_type": "code",
   "execution_count": 2,
   "metadata": {
    "scrolled": false
   },
   "outputs": [],
   "source": [
    "from pmdarima import auto_arima"
   ]
  },
  {
   "cell_type": "code",
   "execution_count": 98,
   "metadata": {},
   "outputs": [],
   "source": [
    "# import libraries\n",
    "import pandas as pd\n",
    "from statsmodels.tsa.arima.model import ARIMA\n",
    "from statsmodels.tsa.statespace.sarimax import SARIMAX\n",
    "from sklearn.model_selection import train_test_split\n",
    "from statsmodels.tsa.stattools import arma_order_select_ic\n",
    "from sklearn.metrics import mean_absolute_error, mean_squared_error\n",
    "from statsmodels.tsa.seasonal import seasonal_decompose\n",
    "import matplotlib.pyplot as plt\n",
    "from statsmodels.tsa.stattools import adfuller\n",
    "from statsmodels.tsa.ar_model import AutoReg, ar_select_order\n",
    "from statsmodels.graphics.tsaplots import plot_acf, plot_pacf\n",
    "from sklearn.linear_model import LinearRegression\n",
    "from sklearn.preprocessing import MaxAbsScaler"
   ]
  },
  {
   "cell_type": "code",
   "execution_count": 4,
   "metadata": {},
   "outputs": [],
   "source": [
    "# load dataframe by parsing the time series\n",
    "data = pd.read_csv('/datasets/taxi.csv', index_col=[0], parse_dates=[0])"
   ]
  },
  {
   "cell_type": "code",
   "execution_count": 5,
   "metadata": {
    "scrolled": true
   },
   "outputs": [
    {
     "data": {
      "text/html": [
       "<div>\n",
       "<style scoped>\n",
       "    .dataframe tbody tr th:only-of-type {\n",
       "        vertical-align: middle;\n",
       "    }\n",
       "\n",
       "    .dataframe tbody tr th {\n",
       "        vertical-align: top;\n",
       "    }\n",
       "\n",
       "    .dataframe thead th {\n",
       "        text-align: right;\n",
       "    }\n",
       "</style>\n",
       "<table border=\"1\" class=\"dataframe\">\n",
       "  <thead>\n",
       "    <tr style=\"text-align: right;\">\n",
       "      <th></th>\n",
       "      <th>num_orders</th>\n",
       "    </tr>\n",
       "    <tr>\n",
       "      <th>datetime</th>\n",
       "      <th></th>\n",
       "    </tr>\n",
       "  </thead>\n",
       "  <tbody>\n",
       "    <tr>\n",
       "      <th>2018-03-01 00:00:00</th>\n",
       "      <td>9</td>\n",
       "    </tr>\n",
       "    <tr>\n",
       "      <th>2018-03-01 00:10:00</th>\n",
       "      <td>14</td>\n",
       "    </tr>\n",
       "    <tr>\n",
       "      <th>2018-03-01 00:20:00</th>\n",
       "      <td>28</td>\n",
       "    </tr>\n",
       "    <tr>\n",
       "      <th>2018-03-01 00:30:00</th>\n",
       "      <td>20</td>\n",
       "    </tr>\n",
       "    <tr>\n",
       "      <th>2018-03-01 00:40:00</th>\n",
       "      <td>32</td>\n",
       "    </tr>\n",
       "    <tr>\n",
       "      <th>...</th>\n",
       "      <td>...</td>\n",
       "    </tr>\n",
       "    <tr>\n",
       "      <th>2018-08-31 23:10:00</th>\n",
       "      <td>32</td>\n",
       "    </tr>\n",
       "    <tr>\n",
       "      <th>2018-08-31 23:20:00</th>\n",
       "      <td>24</td>\n",
       "    </tr>\n",
       "    <tr>\n",
       "      <th>2018-08-31 23:30:00</th>\n",
       "      <td>27</td>\n",
       "    </tr>\n",
       "    <tr>\n",
       "      <th>2018-08-31 23:40:00</th>\n",
       "      <td>39</td>\n",
       "    </tr>\n",
       "    <tr>\n",
       "      <th>2018-08-31 23:50:00</th>\n",
       "      <td>53</td>\n",
       "    </tr>\n",
       "  </tbody>\n",
       "</table>\n",
       "<p>26496 rows × 1 columns</p>\n",
       "</div>"
      ],
      "text/plain": [
       "                     num_orders\n",
       "datetime                       \n",
       "2018-03-01 00:00:00           9\n",
       "2018-03-01 00:10:00          14\n",
       "2018-03-01 00:20:00          28\n",
       "2018-03-01 00:30:00          20\n",
       "2018-03-01 00:40:00          32\n",
       "...                         ...\n",
       "2018-08-31 23:10:00          32\n",
       "2018-08-31 23:20:00          24\n",
       "2018-08-31 23:30:00          27\n",
       "2018-08-31 23:40:00          39\n",
       "2018-08-31 23:50:00          53\n",
       "\n",
       "[26496 rows x 1 columns]"
      ]
     },
     "metadata": {},
     "output_type": "display_data"
    }
   ],
   "source": [
    "# display\n",
    "display(data)"
   ]
  },
  {
   "cell_type": "code",
   "execution_count": 6,
   "metadata": {
    "scrolled": true
   },
   "outputs": [
    {
     "name": "stdout",
     "output_type": "stream",
     "text": [
      "<class 'pandas.core.frame.DataFrame'>\n",
      "DatetimeIndex: 26496 entries, 2018-03-01 00:00:00 to 2018-08-31 23:50:00\n",
      "Data columns (total 1 columns):\n",
      " #   Column      Non-Null Count  Dtype\n",
      "---  ------      --------------  -----\n",
      " 0   num_orders  26496 non-null  int64\n",
      "dtypes: int64(1)\n",
      "memory usage: 414.0 KB\n"
     ]
    }
   ],
   "source": [
    "data.info()\n",
    "# 6 months"
   ]
  },
  {
   "cell_type": "code",
   "execution_count": 7,
   "metadata": {},
   "outputs": [],
   "source": [
    "# make sure time series is in order\n",
    "data.sort_index(inplace=True)"
   ]
  },
  {
   "cell_type": "code",
   "execution_count": 8,
   "metadata": {
    "scrolled": false
   },
   "outputs": [
    {
     "name": "stdout",
     "output_type": "stream",
     "text": [
      "True\n"
     ]
    }
   ],
   "source": [
    "# Check if the time is monotonic\n",
    "print(data.index.is_monotonic)"
   ]
  },
  {
   "cell_type": "markdown",
   "metadata": {},
   "source": [
    "<div class=\"alert alert-success\">\n",
    "<b>Reviewer's comment</b>\n",
    "\n",
    "Good idea to check that the time series is in correct order\n",
    "\n",
    "</div>"
   ]
  },
  {
   "cell_type": "code",
   "execution_count": 9,
   "metadata": {
    "scrolled": true
   },
   "outputs": [
    {
     "data": {
      "text/plain": [
       "num_orders    0\n",
       "dtype: int64"
      ]
     },
     "execution_count": 9,
     "metadata": {},
     "output_type": "execute_result"
    }
   ],
   "source": [
    "# Check for nulls\n",
    "data.isna().sum()"
   ]
  },
  {
   "cell_type": "code",
   "execution_count": 10,
   "metadata": {
    "scrolled": true
   },
   "outputs": [
    {
     "data": {
      "text/html": [
       "<div>\n",
       "<style scoped>\n",
       "    .dataframe tbody tr th:only-of-type {\n",
       "        vertical-align: middle;\n",
       "    }\n",
       "\n",
       "    .dataframe tbody tr th {\n",
       "        vertical-align: top;\n",
       "    }\n",
       "\n",
       "    .dataframe thead th {\n",
       "        text-align: right;\n",
       "    }\n",
       "</style>\n",
       "<table border=\"1\" class=\"dataframe\">\n",
       "  <thead>\n",
       "    <tr style=\"text-align: right;\">\n",
       "      <th></th>\n",
       "      <th>num_orders</th>\n",
       "    </tr>\n",
       "    <tr>\n",
       "      <th>datetime</th>\n",
       "      <th></th>\n",
       "    </tr>\n",
       "  </thead>\n",
       "  <tbody>\n",
       "    <tr>\n",
       "      <th>2018-03-01 02:10:00</th>\n",
       "      <td>12</td>\n",
       "    </tr>\n",
       "    <tr>\n",
       "      <th>2018-03-01 02:20:00</th>\n",
       "      <td>19</td>\n",
       "    </tr>\n",
       "    <tr>\n",
       "      <th>2018-03-01 03:00:00</th>\n",
       "      <td>8</td>\n",
       "    </tr>\n",
       "    <tr>\n",
       "      <th>2018-03-01 03:10:00</th>\n",
       "      <td>17</td>\n",
       "    </tr>\n",
       "    <tr>\n",
       "      <th>2018-03-01 03:20:00</th>\n",
       "      <td>7</td>\n",
       "    </tr>\n",
       "    <tr>\n",
       "      <th>...</th>\n",
       "      <td>...</td>\n",
       "    </tr>\n",
       "    <tr>\n",
       "      <th>2018-08-31 23:10:00</th>\n",
       "      <td>32</td>\n",
       "    </tr>\n",
       "    <tr>\n",
       "      <th>2018-08-31 23:20:00</th>\n",
       "      <td>24</td>\n",
       "    </tr>\n",
       "    <tr>\n",
       "      <th>2018-08-31 23:30:00</th>\n",
       "      <td>27</td>\n",
       "    </tr>\n",
       "    <tr>\n",
       "      <th>2018-08-31 23:40:00</th>\n",
       "      <td>39</td>\n",
       "    </tr>\n",
       "    <tr>\n",
       "      <th>2018-08-31 23:50:00</th>\n",
       "      <td>53</td>\n",
       "    </tr>\n",
       "  </tbody>\n",
       "</table>\n",
       "<p>26415 rows × 1 columns</p>\n",
       "</div>"
      ],
      "text/plain": [
       "                     num_orders\n",
       "datetime                       \n",
       "2018-03-01 02:10:00          12\n",
       "2018-03-01 02:20:00          19\n",
       "2018-03-01 03:00:00           8\n",
       "2018-03-01 03:10:00          17\n",
       "2018-03-01 03:20:00           7\n",
       "...                         ...\n",
       "2018-08-31 23:10:00          32\n",
       "2018-08-31 23:20:00          24\n",
       "2018-08-31 23:30:00          27\n",
       "2018-08-31 23:40:00          39\n",
       "2018-08-31 23:50:00          53\n",
       "\n",
       "[26415 rows x 1 columns]"
      ]
     },
     "execution_count": 10,
     "metadata": {},
     "output_type": "execute_result"
    }
   ],
   "source": [
    "# check for duplicates\n",
    "data[data.duplicated()]"
   ]
  },
  {
   "cell_type": "markdown",
   "metadata": {},
   "source": [
    "The duplicates would make sense since they should be at different times."
   ]
  },
  {
   "cell_type": "markdown",
   "metadata": {},
   "source": [
    "<div class=\"alert alert-success\">\n",
    "<b>Reviewer's comment</b>\n",
    "\n",
    "Right!\n",
    "\n",
    "</div>"
   ]
  },
  {
   "cell_type": "code",
   "execution_count": 11,
   "metadata": {
    "scrolled": true
   },
   "outputs": [
    {
     "name": "stdout",
     "output_type": "stream",
     "text": [
      "[  9  14  28  20  32  21   7   5  17  12  19  25  22   8   6   4  10  13\n",
      "   2   3   0   1  11  15  16  23  18  33  24  26  30  38  34  42  31  27\n",
      "  36  29  35  56  37  40  39  45  49  58  68  43  53  44  41  52  46  57\n",
      "  47  64  61  50  48  55  62  54  71  78 119  99  51  60  87  90  94  82\n",
      "  80  91  76  66  65  98  81  95  67]\n",
      "81\n"
     ]
    }
   ],
   "source": [
    "print(data['num_orders'].unique())\n",
    "print(data['num_orders'].nunique())"
   ]
  },
  {
   "cell_type": "code",
   "execution_count": 12,
   "metadata": {
    "scrolled": true
   },
   "outputs": [
    {
     "data": {
      "text/plain": [
       "num_orders\n",
       "9             1373\n",
       "11            1365\n",
       "12            1317\n",
       "10            1316\n",
       "8             1253\n",
       "              ... \n",
       "94               1\n",
       "95               1\n",
       "98               1\n",
       "99               1\n",
       "81               1\n",
       "Length: 81, dtype: int64"
      ]
     },
     "execution_count": 12,
     "metadata": {},
     "output_type": "execute_result"
    }
   ],
   "source": [
    "data.value_counts()"
   ]
  },
  {
   "cell_type": "code",
   "execution_count": 13,
   "metadata": {
    "scrolled": true
   },
   "outputs": [
    {
     "data": {
      "text/html": [
       "<div>\n",
       "<style scoped>\n",
       "    .dataframe tbody tr th:only-of-type {\n",
       "        vertical-align: middle;\n",
       "    }\n",
       "\n",
       "    .dataframe tbody tr th {\n",
       "        vertical-align: top;\n",
       "    }\n",
       "\n",
       "    .dataframe thead th {\n",
       "        text-align: right;\n",
       "    }\n",
       "</style>\n",
       "<table border=\"1\" class=\"dataframe\">\n",
       "  <thead>\n",
       "    <tr style=\"text-align: right;\">\n",
       "      <th></th>\n",
       "      <th>num_orders</th>\n",
       "    </tr>\n",
       "  </thead>\n",
       "  <tbody>\n",
       "    <tr>\n",
       "      <th>count</th>\n",
       "      <td>26496.000000</td>\n",
       "    </tr>\n",
       "    <tr>\n",
       "      <th>mean</th>\n",
       "      <td>14.070463</td>\n",
       "    </tr>\n",
       "    <tr>\n",
       "      <th>std</th>\n",
       "      <td>9.211330</td>\n",
       "    </tr>\n",
       "    <tr>\n",
       "      <th>min</th>\n",
       "      <td>0.000000</td>\n",
       "    </tr>\n",
       "    <tr>\n",
       "      <th>25%</th>\n",
       "      <td>8.000000</td>\n",
       "    </tr>\n",
       "    <tr>\n",
       "      <th>50%</th>\n",
       "      <td>13.000000</td>\n",
       "    </tr>\n",
       "    <tr>\n",
       "      <th>75%</th>\n",
       "      <td>19.000000</td>\n",
       "    </tr>\n",
       "    <tr>\n",
       "      <th>max</th>\n",
       "      <td>119.000000</td>\n",
       "    </tr>\n",
       "  </tbody>\n",
       "</table>\n",
       "</div>"
      ],
      "text/plain": [
       "         num_orders\n",
       "count  26496.000000\n",
       "mean      14.070463\n",
       "std        9.211330\n",
       "min        0.000000\n",
       "25%        8.000000\n",
       "50%       13.000000\n",
       "75%       19.000000\n",
       "max      119.000000"
      ]
     },
     "execution_count": 13,
     "metadata": {},
     "output_type": "execute_result"
    }
   ],
   "source": [
    "# view the descriptive statistics\n",
    "data.describe()"
   ]
  },
  {
   "cell_type": "code",
   "execution_count": 14,
   "metadata": {
    "scrolled": true
   },
   "outputs": [
    {
     "data": {
      "image/png": "[encoded data removed]",
      "text/plain": [
       "<Figure size 792x216 with 1 Axes>"
      ]
     },
     "metadata": {
      "needs_background": "light"
     },
     "output_type": "display_data"
    }
   ],
   "source": [
    "# Creating plot\n",
    "plt.figure(figsize=(11, 3))\n",
    "plt.boxplot(data, vert = 0)\n",
    "plt.xlabel(\"num_orders\")\n",
    "plt.title(\"Taxi Requests\")\n",
    "#plt.figure(figsize=(8, 6))\n",
    "# show plot\n",
    "plt.show()"
   ]
  },
  {
   "cell_type": "markdown",
   "metadata": {},
   "source": [
    "There appear to be many outliers. We will need to check the seasonality to see if there are repeating peaks.\n",
    "\n",
    "Resampling the data for Sweet Lift Taxi company because they are looking at peak hours."
   ]
  },
  {
   "cell_type": "code",
   "execution_count": 15,
   "metadata": {
    "scrolled": false
   },
   "outputs": [],
   "source": [
    "# Using the mean to resample by the hour\n",
    "#data_hour = data.resample('1H').mean()\n",
    "data_hour = data.resample('1H').sum()\n",
    "decomposed = seasonal_decompose(data_hour)"
   ]
  },
  {
   "cell_type": "markdown",
   "metadata": {},
   "source": [
    "<div class=\"alert alert-danger\">\n",
    "<s><b>Reviewer's comment</b>\n",
    "\n",
    "We're looking to predict the total number of orders in an hour, not a mean value of orders in 10-minute intervals in an hour:)\n",
    "\n",
    "</div>"
   ]
  },
  {
   "cell_type": "markdown",
   "metadata": {},
   "source": [
    "<div class=\"alert alert-info\">\n",
    "  Changed the resampling to the sum instead of the mean.\n",
    "</div>"
   ]
  },
  {
   "cell_type": "markdown",
   "metadata": {},
   "source": [
    "<div class=\"alert alert-success\">\n",
    "<b>Reviewer's comment V2</b>\n",
    "\n",
    "Great!\n",
    "\n",
    "</div>"
   ]
  },
  {
   "cell_type": "code",
   "execution_count": 16,
   "metadata": {
    "scrolled": false
   },
   "outputs": [
    {
     "data": {
      "text/html": [
       "<div>\n",
       "<style scoped>\n",
       "    .dataframe tbody tr th:only-of-type {\n",
       "        vertical-align: middle;\n",
       "    }\n",
       "\n",
       "    .dataframe tbody tr th {\n",
       "        vertical-align: top;\n",
       "    }\n",
       "\n",
       "    .dataframe thead th {\n",
       "        text-align: right;\n",
       "    }\n",
       "</style>\n",
       "<table border=\"1\" class=\"dataframe\">\n",
       "  <thead>\n",
       "    <tr style=\"text-align: right;\">\n",
       "      <th></th>\n",
       "      <th>num_orders</th>\n",
       "    </tr>\n",
       "    <tr>\n",
       "      <th>datetime</th>\n",
       "      <th></th>\n",
       "    </tr>\n",
       "  </thead>\n",
       "  <tbody>\n",
       "    <tr>\n",
       "      <th>2018-03-01 00:00:00</th>\n",
       "      <td>124</td>\n",
       "    </tr>\n",
       "    <tr>\n",
       "      <th>2018-03-01 01:00:00</th>\n",
       "      <td>85</td>\n",
       "    </tr>\n",
       "    <tr>\n",
       "      <th>2018-03-01 02:00:00</th>\n",
       "      <td>71</td>\n",
       "    </tr>\n",
       "    <tr>\n",
       "      <th>2018-03-01 03:00:00</th>\n",
       "      <td>66</td>\n",
       "    </tr>\n",
       "    <tr>\n",
       "      <th>2018-03-01 04:00:00</th>\n",
       "      <td>43</td>\n",
       "    </tr>\n",
       "    <tr>\n",
       "      <th>...</th>\n",
       "      <td>...</td>\n",
       "    </tr>\n",
       "    <tr>\n",
       "      <th>2018-08-31 19:00:00</th>\n",
       "      <td>136</td>\n",
       "    </tr>\n",
       "    <tr>\n",
       "      <th>2018-08-31 20:00:00</th>\n",
       "      <td>154</td>\n",
       "    </tr>\n",
       "    <tr>\n",
       "      <th>2018-08-31 21:00:00</th>\n",
       "      <td>159</td>\n",
       "    </tr>\n",
       "    <tr>\n",
       "      <th>2018-08-31 22:00:00</th>\n",
       "      <td>223</td>\n",
       "    </tr>\n",
       "    <tr>\n",
       "      <th>2018-08-31 23:00:00</th>\n",
       "      <td>205</td>\n",
       "    </tr>\n",
       "  </tbody>\n",
       "</table>\n",
       "<p>4416 rows × 1 columns</p>\n",
       "</div>"
      ],
      "text/plain": [
       "                     num_orders\n",
       "datetime                       \n",
       "2018-03-01 00:00:00         124\n",
       "2018-03-01 01:00:00          85\n",
       "2018-03-01 02:00:00          71\n",
       "2018-03-01 03:00:00          66\n",
       "2018-03-01 04:00:00          43\n",
       "...                         ...\n",
       "2018-08-31 19:00:00         136\n",
       "2018-08-31 20:00:00         154\n",
       "2018-08-31 21:00:00         159\n",
       "2018-08-31 22:00:00         223\n",
       "2018-08-31 23:00:00         205\n",
       "\n",
       "[4416 rows x 1 columns]"
      ]
     },
     "metadata": {},
     "output_type": "display_data"
    }
   ],
   "source": [
    "display(data_hour)"
   ]
  },
  {
   "cell_type": "markdown",
   "metadata": {},
   "source": [
    "The data has been inspected and prepared."
   ]
  },
  {
   "cell_type": "markdown",
   "metadata": {},
   "source": [
    "## Analysis\n",
    "\n",
    "We will check the decomposed graphs for trend, seasonality and residuals by the hour."
   ]
  },
  {
   "cell_type": "code",
   "execution_count": 17,
   "metadata": {},
   "outputs": [
    {
     "data": {
      "text/plain": [
       "<AxesSubplot:xlabel='datetime'>"
      ]
     },
     "execution_count": 17,
     "metadata": {},
     "output_type": "execute_result"
    },
    {
     "data": {
      "image/png": "[encoded data removed]",
      "text/plain": [
       "<Figure size 1008x504 with 1 Axes>"
      ]
     },
     "metadata": {
      "needs_background": "light"
     },
     "output_type": "display_data"
    }
   ],
   "source": [
    "data_hour.plot(figsize=(14,7))"
   ]
  },
  {
   "cell_type": "code",
   "execution_count": 18,
   "metadata": {},
   "outputs": [
    {
     "data": {
      "image/png": "[encoded data removed]",
      "text/plain": [
       "<Figure size 720x864 with 3 Axes>"
      ]
     },
     "metadata": {
      "needs_background": "light"
     },
     "output_type": "display_data"
    }
   ],
   "source": [
    "# Create the decomposed results\n",
    "plt.figure(figsize=(10, 12))\n",
    "plt.subplot(311)\n",
    "decomposed.trend.plot(ax=plt.gca())\n",
    "plt.title('Trend')\n",
    "plt.subplot(312)\n",
    "decomposed.seasonal.plot(ax=plt.gca())\n",
    "plt.title('Seasonality')\n",
    "plt.subplot(313)\n",
    "decomposed.resid.plot(ax=plt.gca()) \n",
    "plt.title('Residuals')\n",
    "plt.tight_layout()"
   ]
  },
  {
   "cell_type": "code",
   "execution_count": 19,
   "metadata": {},
   "outputs": [],
   "source": [
    "# Now we'll look at a smaller period to get a better picture of the seasonality of the data\n",
    "#data_week = data['2018-03-01':'2018-03-07'].resample('1H').sum()\n",
    "#print(data_week)"
   ]
  },
  {
   "cell_type": "markdown",
   "metadata": {},
   "source": [
    "<div class=\"alert alert-warning\">\n",
    "<b>Reviewer's comment</b>\n",
    "\n",
    "It would make more sense to take a smaller slice of `decomposed.seasonal`, rather then decomposing the data for one week (how can we talk about any seasonality if we're looking at only one week's worth of data?)\n",
    "\n",
    "</div>"
   ]
  },
  {
   "cell_type": "markdown",
   "metadata": {},
   "source": [
    "<div class=\"alert alert-info\">\n",
    "  Made slices to the seasonal data below for better comparison.\n",
    "</div>"
   ]
  },
  {
   "cell_type": "markdown",
   "metadata": {},
   "source": [
    "<div class=\"alert alert-success\">\n",
    "<b>Reviewer's comment V2</b>\n",
    "\n",
    "Alright!\n",
    "\n",
    "</div>"
   ]
  },
  {
   "cell_type": "code",
   "execution_count": 20,
   "metadata": {
    "scrolled": false
   },
   "outputs": [
    {
     "data": {
      "text/plain": [
       "<AxesSubplot:xlabel='datetime'>"
      ]
     },
     "execution_count": 20,
     "metadata": {},
     "output_type": "execute_result"
    },
    {
     "data": {
      "image/png": "[encoded data removed]",
      "text/plain": [
       "<Figure size 432x288 with 1 Axes>"
      ]
     },
     "metadata": {
      "needs_background": "light"
     },
     "output_type": "display_data"
    }
   ],
   "source": [
    "decomposed.seasonal['2018-03-01':'2018-03-07'].plot()"
   ]
  },
  {
   "cell_type": "code",
   "execution_count": 21,
   "metadata": {},
   "outputs": [
    {
     "data": {
      "text/plain": [
       "<AxesSubplot:xlabel='datetime'>"
      ]
     },
     "execution_count": 21,
     "metadata": {},
     "output_type": "execute_result"
    },
    {
     "data": {
      "image/png": "[encoded data removed]",
      "text/plain": [
       "<Figure size 432x288 with 1 Axes>"
      ]
     },
     "metadata": {
      "needs_background": "light"
     },
     "output_type": "display_data"
    }
   ],
   "source": [
    "decomposed.seasonal['2018-08-25':'2018-08-31'].plot()"
   ]
  },
  {
   "cell_type": "code",
   "execution_count": 22,
   "metadata": {},
   "outputs": [
    {
     "data": {
      "text/plain": [
       "datetime\n",
       "2018-03-01 00:00:00    60.248112\n",
       "2018-03-01 01:00:00    20.177074\n",
       "2018-03-01 02:00:00    28.982743\n",
       "2018-03-01 03:00:00    17.885407\n",
       "2018-03-01 04:00:00     2.791145\n",
       "                         ...    \n",
       "2018-08-31 19:00:00    -7.124270\n",
       "2018-08-31 20:00:00    -2.696560\n",
       "2018-08-31 21:00:00    10.670243\n",
       "2018-08-31 22:00:00    13.596814\n",
       "2018-08-31 23:00:00    25.000503\n",
       "Freq: H, Name: seasonal, Length: 4416, dtype: float64"
      ]
     },
     "execution_count": 22,
     "metadata": {},
     "output_type": "execute_result"
    }
   ],
   "source": [
    "decomposed.seasonal"
   ]
  },
  {
   "cell_type": "code",
   "execution_count": 23,
   "metadata": {
    "scrolled": true
   },
   "outputs": [],
   "source": [
    "#decomposed_week = seasonal_decompose(data_week)\n",
    "#decomposed_week.seasonal.plot()"
   ]
  },
  {
   "cell_type": "code",
   "execution_count": 24,
   "metadata": {
    "scrolled": false
   },
   "outputs": [],
   "source": [
    "#decomposed_week.trend.plot()"
   ]
  },
  {
   "cell_type": "code",
   "execution_count": 25,
   "metadata": {},
   "outputs": [],
   "source": [
    "#decomposed_week.resid.plot()"
   ]
  },
  {
   "cell_type": "code",
   "execution_count": 26,
   "metadata": {
    "scrolled": true
   },
   "outputs": [],
   "source": [
    "#data_week['roll_mean'] = data_week['num_orders'].rolling(7).mean()\n",
    "#data_week.plot()\n"
   ]
  },
  {
   "cell_type": "markdown",
   "metadata": {},
   "source": [
    "When we narrowed down our timeframe to a week, we saw that there is definitely seasonality in our data. The taxi orders peaked usually around midnight."
   ]
  },
  {
   "cell_type": "markdown",
   "metadata": {},
   "source": [
    "<div class=\"alert alert-success\">\n",
    "<b>Reviewer's comment</b>\n",
    "\n",
    "Alright, you explored the data and made some useful observations!\n",
    "\n",
    "</div>"
   ]
  },
  {
   "cell_type": "markdown",
   "metadata": {},
   "source": [
    "## Training"
   ]
  },
  {
   "cell_type": "markdown",
   "metadata": {},
   "source": [
    "Train different models with different hyperparameters. The test sample should be 10% of the initial dataset."
   ]
  },
  {
   "cell_type": "code",
   "execution_count": 27,
   "metadata": {
    "scrolled": true
   },
   "outputs": [
    {
     "name": "stdout",
     "output_type": "stream",
     "text": [
      "(3974, 1) (442, 1)\n"
     ]
    }
   ],
   "source": [
    "train_all, test = train_test_split(data_hour, shuffle=False, test_size=0.1)\n",
    "print(train_all.shape, test.shape)"
   ]
  },
  {
   "cell_type": "markdown",
   "metadata": {},
   "source": [
    "<div class=\"alert alert-success\">\n",
    "<b>Reviewer's comment</b>\n",
    "\n",
    "The data was split without shuffling\n",
    "\n",
    "</div>"
   ]
  },
  {
   "cell_type": "code",
   "execution_count": 28,
   "metadata": {},
   "outputs": [
    {
     "name": "stdout",
     "output_type": "stream",
     "text": [
      "(3576, 1) (398, 1)\n"
     ]
    }
   ],
   "source": [
    "train, valid = train_test_split(train_all, shuffle=False, test_size=0.1)\n",
    "print(train.shape, valid.shape)"
   ]
  },
  {
   "cell_type": "markdown",
   "metadata": {},
   "source": [
    "<div class=\"alert alert-info\">\n",
    "  Created a validation set for training.\n",
    "</div>"
   ]
  },
  {
   "cell_type": "markdown",
   "metadata": {},
   "source": [
    "<div class=\"alert alert-success\">\n",
    "<b>Reviewer's comment V2</b>\n",
    "\n",
    "Awesome!\n",
    "\n",
    "</div>"
   ]
  },
  {
   "cell_type": "code",
   "execution_count": 29,
   "metadata": {},
   "outputs": [
    {
     "name": "stdout",
     "output_type": "stream",
     "text": [
      "P-value:  0.00073227305273638\n"
     ]
    }
   ],
   "source": [
    "# run the adfuller test to check for stationarity\n",
    "df_stationarityTest = adfuller(train_all, autolag='AIC')\n",
    "print(\"P-value: \", df_stationarityTest[1])"
   ]
  },
  {
   "cell_type": "markdown",
   "metadata": {},
   "source": [
    "This shows that the data is stationary."
   ]
  },
  {
   "cell_type": "markdown",
   "metadata": {},
   "source": [
    "<div class=\"alert alert-success\">\n",
    "<b>Reviewer's comment</b>\n",
    "\n",
    "Great!\n",
    "\n",
    "</div>"
   ]
  },
  {
   "cell_type": "code",
   "execution_count": 30,
   "metadata": {
    "scrolled": false
   },
   "outputs": [
    {
     "name": "stderr",
     "output_type": "stream",
     "text": [
      "/opt/conda/lib/python3.9/site-packages/statsmodels/graphics/tsaplots.py:348: FutureWarning: The default method 'yw' can produce PACF values outside of the [-1,1] interval. After 0.13, the default will change tounadjusted Yule-Walker ('ywm'). You can use this method now by setting method='ywm'.\n",
      "  warnings.warn(\n"
     ]
    },
    {
     "data": {
      "image/png": "[encoded data removed]",
      "text/plain": [
       "<Figure size 864x576 with 1 Axes>"
      ]
     },
     "metadata": {
      "needs_background": "light"
     },
     "output_type": "display_data"
    }
   ],
   "source": [
    "#plt.figure(figsize=(12, 8))\n",
    "\n",
    "lags_to_check = 50\n",
    "pacf = plot_pacf(x=train_all, lags=lags_to_check)  # fill in arguments here\n",
    "pacf.set_figheight(8)\n",
    "pacf.set_figwidth(12)\n",
    "plt.xlabel(\"Lags\")\n",
    "plt.ylabel(\"PACF\")\n",
    "plt.show()"
   ]
  },
  {
   "cell_type": "markdown",
   "metadata": {},
   "source": [
    "The pacf shows that the lags to use is 2."
   ]
  },
  {
   "cell_type": "code",
   "execution_count": 97,
   "metadata": {},
   "outputs": [
    {
     "data": {
      "image/png": "[encoded data removed]",
      "text/plain": [
       "<Figure size 864x576 with 1 Axes>"
      ]
     },
     "metadata": {
      "needs_background": "light"
     },
     "output_type": "display_data"
    }
   ],
   "source": [
    "lags_to_check = 50\n",
    "pacf = plot_acf(x=train_all, lags=lags_to_check)  # fill in arguments here\n",
    "pacf.set_figheight(8)\n",
    "pacf.set_figwidth(12)\n",
    "plt.xlabel(\"Lags\")\n",
    "plt.ylabel(\"ACF\")\n",
    "plt.show()"
   ]
  },
  {
   "cell_type": "markdown",
   "metadata": {},
   "source": [
    "### LinearRegression"
   ]
  },
  {
   "cell_type": "code",
   "execution_count": 31,
   "metadata": {
    "scrolled": true
   },
   "outputs": [
    {
     "name": "stdout",
     "output_type": "stream",
     "text": [
      "                     num_orders\n",
      "datetime                       \n",
      "2018-08-13 14:00:00         102\n",
      "2018-08-13 15:00:00         175\n",
      "2018-08-13 16:00:00         144\n",
      "2018-08-13 17:00:00         152\n",
      "2018-08-13 18:00:00         104\n",
      "...                         ...\n",
      "2018-08-31 19:00:00         136\n",
      "2018-08-31 20:00:00         154\n",
      "2018-08-31 21:00:00         159\n",
      "2018-08-31 22:00:00         223\n",
      "2018-08-31 23:00:00         205\n",
      "\n",
      "[442 rows x 1 columns]\n"
     ]
    }
   ],
   "source": [
    "train_lr = train.copy()\n",
    "valid_lr = valid.copy()\n",
    "test_lr = test.copy()\n",
    "print(test_lr)  # train_lr)"
   ]
  },
  {
   "cell_type": "code",
   "execution_count": 32,
   "metadata": {},
   "outputs": [],
   "source": [
    "# Create features function\n",
    "def create_features(data, max_lag, rolling_mean_size):\n",
    "    data['year'] = data.index.year\n",
    "    data['month'] = data.index.month\n",
    "    data['day'] = data.index.day\n",
    "    data['dayofweek'] = data.index.dayofweek\n",
    "    data['hours'] = data.index.hour\n",
    "    \n",
    "    #data['lag_1'] = data['num_orders'].shift(1)\n",
    "    #data['lag_2'] = data['num_orders'].shift(2)\n",
    "    for lag in range(1, max_lag + 1):\n",
    "        data['lag_{}'.format(lag)] = data['num_orders'].shift(lag)\n",
    "    \n",
    "    data['rolling_mean'] = data['num_orders'].shift().rolling(rolling_mean_size).mean()\n",
    "    data = data.dropna()\n",
    "    feature_data = data.drop(['num_orders'], axis=1)\n",
    "    target_data = data['num_orders']\n",
    "    return feature_data, target_data"
   ]
  },
  {
   "cell_type": "markdown",
   "metadata": {},
   "source": [
    "<div class=\"alert alert-success\">\n",
    "<b>Reviewer's comment V2</b>\n",
    "\n",
    "Good job on feature engineering!\n",
    "\n",
    "</div>"
   ]
  },
  {
   "cell_type": "code",
   "execution_count": 71,
   "metadata": {
    "scrolled": true
   },
   "outputs": [
    {
     "name": "stdout",
     "output_type": "stream",
     "text": [
      "                     year  month  day  dayofweek  hours  lag_1  lag_2  lag_3  \\\n",
      "datetime                                                                       \n",
      "2018-03-02 00:00:00  2018      3    2          4      0   58.0  113.0   66.0   \n",
      "2018-03-02 01:00:00  2018      3    2          4      1   90.0   58.0  113.0   \n",
      "2018-03-02 02:00:00  2018      3    2          4      2  120.0   90.0   58.0   \n",
      "2018-03-02 03:00:00  2018      3    2          4      3   75.0  120.0   90.0   \n",
      "2018-03-02 04:00:00  2018      3    2          4      4   64.0   75.0  120.0   \n",
      "...                   ...    ...  ...        ...    ...    ...    ...    ...   \n",
      "2018-07-27 19:00:00  2018      7   27          4     19   76.0  160.0  162.0   \n",
      "2018-07-27 20:00:00  2018      7   27          4     20   86.0   76.0  160.0   \n",
      "2018-07-27 21:00:00  2018      7   27          4     21  131.0   86.0   76.0   \n",
      "2018-07-27 22:00:00  2018      7   27          4     22  133.0  131.0   86.0   \n",
      "2018-07-27 23:00:00  2018      7   27          4     23  213.0  133.0  131.0   \n",
      "\n",
      "                     rolling_mean  lag_4  ...  lag_15  lag_16  lag_17  lag_18  \\\n",
      "datetime                                  ...                                   \n",
      "2018-03-02 00:00:00     56.833333   61.0  ...    69.0    34.0    15.0    12.0   \n",
      "2018-03-02 01:00:00     55.416667   66.0  ...    64.0    69.0    34.0    15.0   \n",
      "2018-03-02 02:00:00     56.875000  113.0  ...    96.0    64.0    69.0    34.0   \n",
      "2018-03-02 03:00:00     57.041667   58.0  ...    30.0    96.0    64.0    69.0   \n",
      "2018-03-02 04:00:00     56.958333   90.0  ...    32.0    30.0    96.0    64.0   \n",
      "...                           ...    ...  ...     ...     ...     ...     ...   \n",
      "2018-07-27 19:00:00    112.083333  113.0  ...   109.0   131.0   161.0   108.0   \n",
      "2018-07-27 20:00:00    112.708333  162.0  ...    64.0   109.0   131.0   161.0   \n",
      "2018-07-27 21:00:00    115.291667  160.0  ...    78.0    64.0   109.0   131.0   \n",
      "2018-07-27 22:00:00    117.083333   76.0  ...    44.0    78.0    64.0   109.0   \n",
      "2018-07-27 23:00:00    121.583333   86.0  ...    89.0    44.0    78.0    64.0   \n",
      "\n",
      "                     lag_19  lag_20  lag_21  lag_22  lag_23  lag_24  \n",
      "datetime                                                             \n",
      "2018-03-02 00:00:00     6.0    43.0    66.0    71.0    85.0   124.0  \n",
      "2018-03-02 01:00:00    12.0     6.0    43.0    66.0    71.0    85.0  \n",
      "2018-03-02 02:00:00    15.0    12.0     6.0    43.0    66.0    71.0  \n",
      "2018-03-02 03:00:00    34.0    15.0    12.0     6.0    43.0    66.0  \n",
      "2018-03-02 04:00:00    69.0    34.0    15.0    12.0     6.0    43.0  \n",
      "...                     ...     ...     ...     ...     ...     ...  \n",
      "2018-07-27 19:00:00   222.0   117.0   105.0    90.0    69.0    71.0  \n",
      "2018-07-27 20:00:00   108.0   222.0   117.0   105.0    90.0    69.0  \n",
      "2018-07-27 21:00:00   161.0   108.0   222.0   117.0   105.0    90.0  \n",
      "2018-07-27 22:00:00   131.0   161.0   108.0   222.0   117.0   105.0  \n",
      "2018-07-27 23:00:00   109.0   131.0   161.0   108.0   222.0   117.0  \n",
      "\n",
      "[3552 rows x 30 columns] datetime\n",
      "2018-03-02 00:00:00     90\n",
      "2018-03-02 01:00:00    120\n",
      "2018-03-02 02:00:00     75\n",
      "2018-03-02 03:00:00     64\n",
      "2018-03-02 04:00:00     20\n",
      "                      ... \n",
      "2018-07-27 19:00:00     86\n",
      "2018-07-27 20:00:00    131\n",
      "2018-07-27 21:00:00    133\n",
      "2018-07-27 22:00:00    213\n",
      "2018-07-27 23:00:00    122\n",
      "Freq: H, Name: num_orders, Length: 3552, dtype: int64\n"
     ]
    }
   ],
   "source": [
    "feature_train_lr, target_train_lr = create_features(train_lr, 24, 24)\n",
    "print(feature_train_lr, target_train_lr)"
   ]
  },
  {
   "cell_type": "code",
   "execution_count": 72,
   "metadata": {
    "scrolled": true
   },
   "outputs": [
    {
     "name": "stdout",
     "output_type": "stream",
     "text": [
      "                     year  month  day  dayofweek  hours  lag_1  lag_2  lag_3  \\\n",
      "datetime                                                                       \n",
      "2018-07-29 00:00:00  2018      7   29          6      0  120.0   92.0  140.0   \n",
      "2018-07-29 01:00:00  2018      7   29          6      1  165.0  120.0   92.0   \n",
      "2018-07-29 02:00:00  2018      7   29          6      2  102.0  165.0  120.0   \n",
      "2018-07-29 03:00:00  2018      7   29          6      3  136.0  102.0  165.0   \n",
      "2018-07-29 04:00:00  2018      7   29          6      4  101.0  136.0  102.0   \n",
      "...                   ...    ...  ...        ...    ...    ...    ...    ...   \n",
      "2018-08-13 09:00:00  2018      8   13          0      9   91.0   39.0   66.0   \n",
      "2018-08-13 10:00:00  2018      8   13          0     10  137.0   91.0   39.0   \n",
      "2018-08-13 11:00:00  2018      8   13          0     11  156.0  137.0   91.0   \n",
      "2018-08-13 12:00:00  2018      8   13          0     12  144.0  156.0  137.0   \n",
      "2018-08-13 13:00:00  2018      8   13          0     13   92.0  144.0  156.0   \n",
      "\n",
      "                     rolling_mean  lag_4  ...  lag_15  lag_16  lag_17  lag_18  \\\n",
      "datetime                                  ...                                   \n",
      "2018-07-29 00:00:00    113.541667   90.0  ...   113.0    73.0    39.0    44.0   \n",
      "2018-07-29 01:00:00    112.416667  140.0  ...   108.0   113.0    73.0    39.0   \n",
      "2018-07-29 02:00:00    108.541667   92.0  ...   104.0   108.0   113.0    73.0   \n",
      "2018-07-29 03:00:00    108.166667  120.0  ...    75.0   104.0   108.0   113.0   \n",
      "2018-07-29 04:00:00    106.875000  165.0  ...    63.0    75.0   104.0   108.0   \n",
      "...                           ...    ...  ...     ...     ...     ...     ...   \n",
      "2018-08-13 09:00:00    134.041667   83.0  ...    78.0   115.0   153.0   149.0   \n",
      "2018-08-13 10:00:00    135.250000   66.0  ...    82.0    78.0   115.0   153.0   \n",
      "2018-08-13 11:00:00    137.250000   39.0  ...    98.0    82.0    78.0   115.0   \n",
      "2018-08-13 12:00:00    139.875000   91.0  ...   135.0    98.0    82.0    78.0   \n",
      "2018-08-13 13:00:00    138.583333  137.0  ...   118.0   135.0    98.0    82.0   \n",
      "\n",
      "                     lag_19  lag_20  lag_21  lag_22  lag_23  lag_24  \n",
      "datetime                                                             \n",
      "2018-07-29 00:00:00    91.0   215.0   132.0   145.0   195.0   192.0  \n",
      "2018-07-29 01:00:00    44.0    91.0   215.0   132.0   145.0   195.0  \n",
      "2018-07-29 02:00:00    39.0    44.0    91.0   215.0   132.0   145.0  \n",
      "2018-07-29 03:00:00    73.0    39.0    44.0    91.0   215.0   132.0  \n",
      "2018-07-29 04:00:00   113.0    73.0    39.0    44.0    91.0   215.0  \n",
      "...                     ...     ...     ...     ...     ...     ...  \n",
      "2018-08-13 09:00:00   104.0   120.0   123.0    81.0   108.0   108.0  \n",
      "2018-08-13 10:00:00   149.0   104.0   120.0   123.0    81.0   108.0  \n",
      "2018-08-13 11:00:00   153.0   149.0   104.0   120.0   123.0    81.0  \n",
      "2018-08-13 12:00:00   115.0   153.0   149.0   104.0   120.0   123.0  \n",
      "2018-08-13 13:00:00    78.0   115.0   153.0   149.0   104.0   120.0  \n",
      "\n",
      "[374 rows x 30 columns] datetime\n",
      "2018-07-29 00:00:00    165\n",
      "2018-07-29 01:00:00    102\n",
      "2018-07-29 02:00:00    136\n",
      "2018-07-29 03:00:00    101\n",
      "2018-07-29 04:00:00    184\n",
      "                      ... \n",
      "2018-08-13 09:00:00    137\n",
      "2018-08-13 10:00:00    156\n",
      "2018-08-13 11:00:00    144\n",
      "2018-08-13 12:00:00     92\n",
      "2018-08-13 13:00:00    119\n",
      "Freq: H, Name: num_orders, Length: 374, dtype: int64\n"
     ]
    }
   ],
   "source": [
    "feature_valid_lr, target_valid_lr = create_features(valid_lr, 24, 24)\n",
    "print(feature_valid_lr, target_valid_lr)"
   ]
  },
  {
   "cell_type": "code",
   "execution_count": 73,
   "metadata": {
    "scrolled": true
   },
   "outputs": [
    {
     "name": "stdout",
     "output_type": "stream",
     "text": [
      "                     year  month  day  dayofweek  hours  lag_1  lag_2  lag_3  \\\n",
      "datetime                                                                       \n",
      "2018-08-14 14:00:00  2018      8   14          1     14   64.0  114.0  162.0   \n",
      "2018-08-14 15:00:00  2018      8   14          1     15  112.0   64.0  114.0   \n",
      "2018-08-14 16:00:00  2018      8   14          1     16  116.0  112.0   64.0   \n",
      "2018-08-14 17:00:00  2018      8   14          1     17  111.0  116.0  112.0   \n",
      "2018-08-14 18:00:00  2018      8   14          1     18  152.0  111.0  116.0   \n",
      "...                   ...    ...  ...        ...    ...    ...    ...    ...   \n",
      "2018-08-31 19:00:00  2018      8   31          4     19  207.0  217.0  197.0   \n",
      "2018-08-31 20:00:00  2018      8   31          4     20  136.0  207.0  217.0   \n",
      "2018-08-31 21:00:00  2018      8   31          4     21  154.0  136.0  207.0   \n",
      "2018-08-31 22:00:00  2018      8   31          4     22  159.0  154.0  136.0   \n",
      "2018-08-31 23:00:00  2018      8   31          4     23  223.0  159.0  154.0   \n",
      "\n",
      "                     rolling_mean  lag_4  ...  lag_15  lag_16  lag_17  lag_18  \\\n",
      "datetime                                  ...                                   \n",
      "2018-08-14 14:00:00    121.750000  155.0  ...   134.0   104.0   160.0    82.0   \n",
      "2018-08-14 15:00:00    122.166667  162.0  ...   139.0   134.0   104.0   160.0   \n",
      "2018-08-14 16:00:00    119.708333  114.0  ...   231.0   139.0   134.0   104.0   \n",
      "2018-08-14 17:00:00    118.333333   64.0  ...   108.0   231.0   139.0   134.0   \n",
      "2018-08-14 18:00:00    118.333333  112.0  ...   190.0   108.0   231.0   139.0   \n",
      "...                           ...    ...  ...     ...     ...     ...     ...   \n",
      "2018-08-31 19:00:00    164.875000  116.0  ...   268.0    99.0   230.0   194.0   \n",
      "2018-08-31 20:00:00    167.541667  197.0  ...    78.0   268.0    99.0   230.0   \n",
      "2018-08-31 21:00:00    168.041667  217.0  ...    35.0    78.0   268.0    99.0   \n",
      "2018-08-31 22:00:00    166.416667  207.0  ...    46.0    35.0    78.0   268.0   \n",
      "2018-08-31 23:00:00    169.125000  136.0  ...   182.0    46.0    35.0    78.0   \n",
      "\n",
      "                     lag_19  lag_20  lag_21  lag_22  lag_23  lag_24  \n",
      "datetime                                                             \n",
      "2018-08-14 14:00:00    91.0   104.0   152.0   144.0   175.0   102.0  \n",
      "2018-08-14 15:00:00    82.0    91.0   104.0   152.0   144.0   175.0  \n",
      "2018-08-14 16:00:00   160.0    82.0    91.0   104.0   152.0   144.0  \n",
      "2018-08-14 17:00:00   104.0   160.0    82.0    91.0   104.0   152.0  \n",
      "2018-08-14 18:00:00   134.0   104.0   160.0    82.0    91.0   104.0  \n",
      "...                     ...     ...     ...     ...     ...     ...  \n",
      "2018-08-31 19:00:00   276.0   246.0   158.0   198.0   142.0    72.0  \n",
      "2018-08-31 20:00:00   194.0   276.0   246.0   158.0   198.0   142.0  \n",
      "2018-08-31 21:00:00   230.0   194.0   276.0   246.0   158.0   198.0  \n",
      "2018-08-31 22:00:00    99.0   230.0   194.0   276.0   246.0   158.0  \n",
      "2018-08-31 23:00:00   268.0    99.0   230.0   194.0   276.0   246.0  \n",
      "\n",
      "[418 rows x 30 columns] datetime\n",
      "2018-08-14 14:00:00    112\n",
      "2018-08-14 15:00:00    116\n",
      "2018-08-14 16:00:00    111\n",
      "2018-08-14 17:00:00    152\n",
      "2018-08-14 18:00:00     98\n",
      "                      ... \n",
      "2018-08-31 19:00:00    136\n",
      "2018-08-31 20:00:00    154\n",
      "2018-08-31 21:00:00    159\n",
      "2018-08-31 22:00:00    223\n",
      "2018-08-31 23:00:00    205\n",
      "Freq: H, Name: num_orders, Length: 418, dtype: int64\n"
     ]
    }
   ],
   "source": [
    "feature_test_lr, target_test_lr = create_features(test_lr, 24, 24)\n",
    "print(feature_test_lr, target_test_lr)"
   ]
  },
  {
   "cell_type": "code",
   "execution_count": null,
   "metadata": {},
   "outputs": [],
   "source": [
    "# Features for Test set\n",
    "# test_lr = test.copy()\n",
    "# test_lr['year'] = test_lr.index.year\n",
    "# test_lr['month'] = test_lr.index.month\n",
    "# test_lr['day'] = test_lr.index.day\n",
    "# test_lr['dayofweek'] = test_lr.index.dayofweek\n",
    "# test_lr['hours'] = test_lr.index.hour\n",
    "# test_lr['lag_1'] = test_lr['num_orders'].shift(1)\n",
    "# test_lr['lag_2'] = test_lr['num_orders'].shift(2)\n",
    "# test_lr['rolling_mean'] = test_lr['num_orders'].shift().rolling(7).mean()\n",
    "# test_lr = test_lr.dropna()"
   ]
  },
  {
   "cell_type": "code",
   "execution_count": null,
   "metadata": {
    "scrolled": true
   },
   "outputs": [],
   "source": [
    "# feature_train_lr = train_lr.drop(['num_orders'], axis=1)\n",
    "# target_train_lr = train_lr['num_orders']\n",
    "# print(feature_train_lr)\n",
    "# print(target_train_lr.shape)"
   ]
  },
  {
   "cell_type": "code",
   "execution_count": null,
   "metadata": {
    "scrolled": true
   },
   "outputs": [],
   "source": [
    "# Scaling data sets\n",
    "# scaler = MaxAbsScaler()\n",
    "# scaler.fit(feature_train_lr)\n",
    "# feature_train_lr = scaler.transform(feature_train_lr)\n",
    "# print(feature_train_lr)"
   ]
  },
  {
   "cell_type": "code",
   "execution_count": null,
   "metadata": {
    "scrolled": true
   },
   "outputs": [],
   "source": [
    "# scaler = MaxAbsScaler()\n",
    "# scaler.fit(feature_train_lr)\n",
    "# feature_valid_lr = scaler.transform(feature_valid_lr)\n",
    "# print(feature_valid_lr)"
   ]
  },
  {
   "cell_type": "code",
   "execution_count": null,
   "metadata": {},
   "outputs": [],
   "source": [
    "# scaler = MaxAbsScaler()\n",
    "# scaler.fit(feature_train_lr)\n",
    "# feature_test_lr = scaler.transform(feature_test_lr)\n",
    "# print(feature_test_lr)"
   ]
  },
  {
   "cell_type": "markdown",
   "metadata": {},
   "source": [
    "<div class=\"alert alert-warning\">\n",
    "<b>Reviewer's comment V2</b>\n",
    "\n",
    "Note that if you want to apply scaling, the same scaler fitted on the train set should be applied to validation and test sets as well\n",
    "\n",
    "</div>"
   ]
  },
  {
   "cell_type": "code",
   "execution_count": 74,
   "metadata": {
    "scrolled": true
   },
   "outputs": [
    {
     "name": "stdout",
     "output_type": "stream",
     "text": [
      "34.135414700079366\n"
     ]
    }
   ],
   "source": [
    "model_lr = LinearRegression()\n",
    "model_lr.fit(feature_train_lr, target_train_lr)\n",
    "predict_lr = model_lr.predict(feature_valid_lr)\n",
    "#print(predict_lr)\n",
    "lr_mse_val = mean_squared_error(target_valid_lr, predict_lr)\n",
    "print(lr_mse_val**0.5)  # 40.51389934320261 no scaler ; w/ maxabsscaler 52.09222002492444"
   ]
  },
  {
   "cell_type": "code",
   "execution_count": null,
   "metadata": {},
   "outputs": [],
   "source": [
    "# 40.36210044638575 @ 3 lags; 40.85702350774111 @ 24 roll; 40.623924609297674 @ 5, 24; 40.12970007661318 @ 12,12\n",
    "# 40.17809996406857 @ 12, 24; 34.135414700079366 @ 24,24"
   ]
  },
  {
   "cell_type": "markdown",
   "metadata": {},
   "source": [
    "### AutoReg"
   ]
  },
  {
   "cell_type": "code",
   "execution_count": 103,
   "metadata": {},
   "outputs": [],
   "source": [
    "# scaler = MaxAbsScaler()\n",
    "# scaler.fit(train)\n",
    "# train_scaled = scaler.transform(train)\n",
    "# print(train_scaled)\n",
    "# valid_scaled = scaler.transform(valid)\n",
    "# print(len(valid_scaled))"
   ]
  },
  {
   "cell_type": "code",
   "execution_count": 104,
   "metadata": {},
   "outputs": [],
   "source": [
    "# df_train_scaled = pd.DataFrame(train_scaled, index=train.index, columns=['num_orders'])\n",
    "# df_train_scaled"
   ]
  },
  {
   "cell_type": "code",
   "execution_count": 105,
   "metadata": {},
   "outputs": [],
   "source": [
    "# df_valid_scaled = pd.DataFrame(valid_scaled, index=valid.index)\n",
    "# df_valid_scaled"
   ]
  },
  {
   "cell_type": "code",
   "execution_count": 89,
   "metadata": {
    "scrolled": true
   },
   "outputs": [
    {
     "name": "stdout",
     "output_type": "stream",
     "text": [
      "20 : 46.27164480183786\n",
      "21 : 46.07442642815682\n",
      "22 : 45.75188582174972\n",
      "23 : 45.690053162919206\n",
      "24 : 44.26447543767068\n",
      "25 : 44.6449193672269\n",
      "26 : 44.97283730922124\n",
      "27 : 44.861516742999775\n",
      "28 : 45.067834469209686\n",
      "29 : 45.067834469209686\n",
      "30 : 45.067834469209686\n"
     ]
    }
   ],
   "source": [
    "for i in range(20, 31):\n",
    "    # find optimal number of lags\n",
    "    mod = ar_select_order(endog=train, maxlag=i)  # df_train_scaled\n",
    "    ar_order = mod.ar_lags\n",
    "    # print(ar_order)\n",
    "    # create AR model and fit it using the training set\n",
    "    ar_model = AutoReg(train, lags=ar_order, seasonal=True)  # df_train_scaled\n",
    "    ar_model = ar_model.fit()\n",
    "\n",
    "    # make predictions\n",
    "    start_value = len(train)  # df_train_scaled\n",
    "    end_value = len(train) + len(valid) - 1  # df_train_scaled\n",
    "    ar_pred = ar_model.predict(start=start_value, end=end_value, dynamic=True)\n",
    "\n",
    "    # evaluate model\n",
    "    ar_mse_value = mean_squared_error(valid, ar_pred) # calculate MSE   # df_train_scaled\n",
    "    print(i, ':', ar_mse_value**0.5)   # maxlag=24  44.26447543767068 no scale; "
   ]
  },
  {
   "cell_type": "markdown",
   "metadata": {},
   "source": [
    "### auto_arima"
   ]
  },
  {
   "cell_type": "code",
   "execution_count": 106,
   "metadata": {
    "scrolled": true
   },
   "outputs": [
    {
     "name": "stdout",
     "output_type": "stream",
     "text": [
      "Performing stepwise search to minimize aic\n",
      " ARIMA(2,1,2)(1,0,1)[7] intercept   : AIC=34416.593, Time=7.06 sec\n",
      " ARIMA(0,1,0)(0,0,0)[7] intercept   : AIC=35505.914, Time=0.11 sec\n",
      " ARIMA(1,1,0)(1,0,0)[7] intercept   : AIC=35127.145, Time=2.89 sec\n",
      " ARIMA(0,1,1)(0,0,1)[7] intercept   : AIC=34975.878, Time=3.69 sec\n",
      " ARIMA(0,1,0)(0,0,0)[7]             : AIC=35503.914, Time=0.06 sec\n",
      " ARIMA(2,1,2)(0,0,1)[7] intercept   : AIC=34404.706, Time=6.93 sec\n",
      " ARIMA(2,1,2)(0,0,0)[7] intercept   : AIC=34404.328, Time=2.51 sec\n",
      " ARIMA(2,1,2)(1,0,0)[7] intercept   : AIC=34407.417, Time=5.69 sec\n",
      " ARIMA(1,1,2)(0,0,0)[7] intercept   : AIC=34601.340, Time=2.11 sec\n",
      " ARIMA(2,1,1)(0,0,0)[7] intercept   : AIC=34649.261, Time=1.29 sec\n",
      " ARIMA(3,1,2)(0,0,0)[7] intercept   : AIC=34801.376, Time=2.72 sec\n",
      " ARIMA(2,1,3)(0,0,0)[7] intercept   : AIC=34440.077, Time=3.90 sec\n",
      " ARIMA(1,1,1)(0,0,0)[7] intercept   : AIC=34556.038, Time=1.22 sec\n",
      " ARIMA(1,1,3)(0,0,0)[7] intercept   : AIC=34411.558, Time=3.37 sec\n",
      " ARIMA(3,1,1)(0,0,0)[7] intercept   : AIC=34869.597, Time=2.69 sec\n",
      " ARIMA(3,1,3)(0,0,0)[7] intercept   : AIC=34404.248, Time=4.81 sec\n",
      " ARIMA(3,1,3)(1,0,0)[7] intercept   : AIC=34391.261, Time=9.20 sec\n",
      " ARIMA(3,1,3)(2,0,0)[7] intercept   : AIC=34387.659, Time=15.62 sec\n",
      " ARIMA(3,1,3)(2,0,1)[7] intercept   : AIC=34408.874, Time=15.10 sec\n",
      " ARIMA(3,1,3)(1,0,1)[7] intercept   : AIC=34416.774, Time=8.77 sec\n",
      " ARIMA(2,1,3)(2,0,0)[7] intercept   : AIC=34438.831, Time=12.64 sec\n",
      " ARIMA(3,1,2)(2,0,0)[7] intercept   : AIC=34820.700, Time=12.59 sec\n",
      " ARIMA(4,1,3)(2,0,0)[7] intercept   : AIC=34373.540, Time=18.02 sec\n",
      " ARIMA(4,1,3)(1,0,0)[7] intercept   : AIC=34381.199, Time=9.76 sec\n",
      " ARIMA(4,1,3)(2,0,1)[7] intercept   : AIC=34377.340, Time=17.84 sec\n",
      " ARIMA(4,1,3)(1,0,1)[7] intercept   : AIC=34384.638, Time=9.75 sec\n",
      " ARIMA(4,1,2)(2,0,0)[7] intercept   : AIC=34709.484, Time=14.75 sec\n",
      " ARIMA(5,1,3)(2,0,0)[7] intercept   : AIC=34335.399, Time=17.61 sec\n",
      " ARIMA(5,1,3)(1,0,0)[7] intercept   : AIC=34357.547, Time=12.33 sec\n",
      " ARIMA(5,1,3)(2,0,1)[7] intercept   : AIC=34340.800, Time=18.97 sec\n",
      " ARIMA(5,1,3)(1,0,1)[7] intercept   : AIC=34356.921, Time=11.33 sec\n",
      " ARIMA(5,1,2)(2,0,0)[7] intercept   : AIC=34674.451, Time=16.26 sec\n",
      " ARIMA(5,1,4)(2,0,0)[7] intercept   : AIC=34501.439, Time=18.80 sec\n",
      " ARIMA(4,1,4)(2,0,0)[7] intercept   : AIC=34472.847, Time=17.29 sec\n",
      " ARIMA(5,1,3)(2,0,0)[7]             : AIC=34336.203, Time=11.16 sec\n",
      "\n",
      "Best model:  ARIMA(5,1,3)(2,0,0)[7] intercept\n",
      "Total fit time: 318.884 seconds\n"
     ]
    },
    {
     "data": {
      "text/html": [
       "<table class=\"simpletable\">\n",
       "<caption>SARIMAX Results</caption>\n",
       "<tr>\n",
       "  <th>Dep. Variable:</th>                  <td>y</td>               <th>  No. Observations:  </th>    <td>3576</td>   \n",
       "</tr>\n",
       "<tr>\n",
       "  <th>Model:</th>           <td>SARIMAX(5, 1, 3)x(2, 0, [], 7)</td> <th>  Log Likelihood     </th> <td>-17155.700</td>\n",
       "</tr>\n",
       "<tr>\n",
       "  <th>Date:</th>                   <td>Mon, 01 Apr 2024</td>        <th>  AIC                </th>  <td>34335.399</td>\n",
       "</tr>\n",
       "<tr>\n",
       "  <th>Time:</th>                       <td>22:34:08</td>            <th>  BIC                </th>  <td>34409.580</td>\n",
       "</tr>\n",
       "<tr>\n",
       "  <th>Sample:</th>                    <td>03-01-2018</td>           <th>  HQIC               </th>  <td>34361.845</td>\n",
       "</tr>\n",
       "<tr>\n",
       "  <th></th>                          <td>- 07-27-2018</td>          <th>                     </th>      <td> </td>    \n",
       "</tr>\n",
       "<tr>\n",
       "  <th>Covariance Type:</th>               <td>opg</td>              <th>                     </th>      <td> </td>    \n",
       "</tr>\n",
       "</table>\n",
       "<table class=\"simpletable\">\n",
       "<tr>\n",
       "      <td></td>         <th>coef</th>     <th>std err</th>      <th>z</th>      <th>P>|z|</th>  <th>[0.025</th>    <th>0.975]</th>  \n",
       "</tr>\n",
       "<tr>\n",
       "  <th>intercept</th> <td>    0.0189</td> <td>    0.014</td> <td>    1.317</td> <td> 0.188</td> <td>   -0.009</td> <td>    0.047</td>\n",
       "</tr>\n",
       "<tr>\n",
       "  <th>ar.L1</th>     <td>    0.0511</td> <td>    0.322</td> <td>    0.159</td> <td> 0.874</td> <td>   -0.579</td> <td>    0.681</td>\n",
       "</tr>\n",
       "<tr>\n",
       "  <th>ar.L2</th>     <td>   -0.3323</td> <td>    0.427</td> <td>   -0.778</td> <td> 0.437</td> <td>   -1.170</td> <td>    0.505</td>\n",
       "</tr>\n",
       "<tr>\n",
       "  <th>ar.L3</th>     <td>    0.1808</td> <td>    0.162</td> <td>    1.118</td> <td> 0.264</td> <td>   -0.136</td> <td>    0.498</td>\n",
       "</tr>\n",
       "<tr>\n",
       "  <th>ar.L4</th>     <td>    0.0118</td> <td>    0.047</td> <td>    0.250</td> <td> 0.803</td> <td>   -0.081</td> <td>    0.104</td>\n",
       "</tr>\n",
       "<tr>\n",
       "  <th>ar.L5</th>     <td>   -0.0884</td> <td>    0.036</td> <td>   -2.431</td> <td> 0.015</td> <td>   -0.160</td> <td>   -0.017</td>\n",
       "</tr>\n",
       "<tr>\n",
       "  <th>ma.L1</th>     <td>   -0.6285</td> <td>    0.323</td> <td>   -1.949</td> <td> 0.051</td> <td>   -1.261</td> <td>    0.004</td>\n",
       "</tr>\n",
       "<tr>\n",
       "  <th>ma.L2</th>     <td>    0.2163</td> <td>    0.524</td> <td>    0.413</td> <td> 0.680</td> <td>   -0.811</td> <td>    1.243</td>\n",
       "</tr>\n",
       "<tr>\n",
       "  <th>ma.L3</th>     <td>   -0.5664</td> <td>    0.392</td> <td>   -1.444</td> <td> 0.149</td> <td>   -1.335</td> <td>    0.203</td>\n",
       "</tr>\n",
       "<tr>\n",
       "  <th>ar.S.L7</th>   <td>    0.0045</td> <td>    0.025</td> <td>    0.177</td> <td> 0.860</td> <td>   -0.045</td> <td>    0.054</td>\n",
       "</tr>\n",
       "<tr>\n",
       "  <th>ar.S.L14</th>  <td>   -0.0880</td> <td>    0.021</td> <td>   -4.129</td> <td> 0.000</td> <td>   -0.130</td> <td>   -0.046</td>\n",
       "</tr>\n",
       "<tr>\n",
       "  <th>sigma2</th>    <td>  946.5580</td> <td>   21.648</td> <td>   43.724</td> <td> 0.000</td> <td>  904.128</td> <td>  988.988</td>\n",
       "</tr>\n",
       "</table>\n",
       "<table class=\"simpletable\">\n",
       "<tr>\n",
       "  <th>Ljung-Box (L1) (Q):</th>     <td>0.37</td> <th>  Jarque-Bera (JB):  </th> <td>394.67</td>\n",
       "</tr>\n",
       "<tr>\n",
       "  <th>Prob(Q):</th>                <td>0.54</td> <th>  Prob(JB):          </th>  <td>0.00</td> \n",
       "</tr>\n",
       "<tr>\n",
       "  <th>Heteroskedasticity (H):</th> <td>1.56</td> <th>  Skew:              </th>  <td>0.55</td> \n",
       "</tr>\n",
       "<tr>\n",
       "  <th>Prob(H) (two-sided):</th>    <td>0.00</td> <th>  Kurtosis:          </th>  <td>4.20</td> \n",
       "</tr>\n",
       "</table><br/><br/>Warnings:<br/>[1] Covariance matrix calculated using the outer product of gradients (complex-step)."
      ],
      "text/plain": [
       "<class 'statsmodels.iolib.summary.Summary'>\n",
       "\"\"\"\n",
       "                                     SARIMAX Results                                      \n",
       "==========================================================================================\n",
       "Dep. Variable:                                  y   No. Observations:                 3576\n",
       "Model:             SARIMAX(5, 1, 3)x(2, 0, [], 7)   Log Likelihood              -17155.700\n",
       "Date:                            Mon, 01 Apr 2024   AIC                          34335.399\n",
       "Time:                                    22:34:08   BIC                          34409.580\n",
       "Sample:                                03-01-2018   HQIC                         34361.845\n",
       "                                     - 07-27-2018                                         \n",
       "Covariance Type:                              opg                                         \n",
       "==============================================================================\n",
       "                 coef    std err          z      P>|z|      [0.025      0.975]\n",
       "------------------------------------------------------------------------------\n",
       "intercept      0.0189      0.014      1.317      0.188      -0.009       0.047\n",
       "ar.L1          0.0511      0.322      0.159      0.874      -0.579       0.681\n",
       "ar.L2         -0.3323      0.427     -0.778      0.437      -1.170       0.505\n",
       "ar.L3          0.1808      0.162      1.118      0.264      -0.136       0.498\n",
       "ar.L4          0.0118      0.047      0.250      0.803      -0.081       0.104\n",
       "ar.L5         -0.0884      0.036     -2.431      0.015      -0.160      -0.017\n",
       "ma.L1         -0.6285      0.323     -1.949      0.051      -1.261       0.004\n",
       "ma.L2          0.2163      0.524      0.413      0.680      -0.811       1.243\n",
       "ma.L3         -0.5664      0.392     -1.444      0.149      -1.335       0.203\n",
       "ar.S.L7        0.0045      0.025      0.177      0.860      -0.045       0.054\n",
       "ar.S.L14      -0.0880      0.021     -4.129      0.000      -0.130      -0.046\n",
       "sigma2       946.5580     21.648     43.724      0.000     904.128     988.988\n",
       "===================================================================================\n",
       "Ljung-Box (L1) (Q):                   0.37   Jarque-Bera (JB):               394.67\n",
       "Prob(Q):                              0.54   Prob(JB):                         0.00\n",
       "Heteroskedasticity (H):               1.56   Skew:                             0.55\n",
       "Prob(H) (two-sided):                  0.00   Kurtosis:                         4.20\n",
       "===================================================================================\n",
       "\n",
       "Warnings:\n",
       "[1] Covariance matrix calculated using the outer product of gradients (complex-step).\n",
       "\"\"\""
      ]
     },
     "execution_count": 106,
     "metadata": {},
     "output_type": "execute_result"
    }
   ],
   "source": [
    "model = auto_arima(train, seasonal=True, m=7, scoring='mse', error_action='ignore', trace=True,\n",
    "                      suppress_warnings=True, maxiter=5)  # df_train_scaled max_p=1, max_q=1, \n",
    "\n",
    "model.summary()  # Best model:  ARIMA(5,1,3)(2,0,0)[7] intercept Total fit time: 312.934 seconds\n",
    "# make predictions\n",
    "#predictions = model.predict(len(df_valid_scaled))\n",
    "\n",
    "# evaluate the model predictions\n",
    "#auto_arima_mse = mean_squared_error(df_valid_scaled, predictions)\n",
    "#print(auto_arima_mse**0.5)  # 58.0112387752594 @ 1; 46.19702866457665 @ 7; failed @ 12"
   ]
  },
  {
   "cell_type": "code",
   "execution_count": 107,
   "metadata": {},
   "outputs": [
    {
     "data": {
      "text/plain": [
       "46.217425948563886"
      ]
     },
     "execution_count": 107,
     "metadata": {},
     "output_type": "execute_result"
    }
   ],
   "source": [
    "predictions = model.predict(n_periods = len(valid))\n",
    "mean_squared_error(valid, predictions)**0.5"
   ]
  },
  {
   "cell_type": "code",
   "execution_count": 81,
   "metadata": {
    "scrolled": true
   },
   "outputs": [
    {
     "name": "stdout",
     "output_type": "stream",
     "text": [
      "Performing stepwise search to minimize aic\n",
      " ARIMA(5,1,3)(1,0,1)[7] intercept   : AIC=34356.921, Time=10.73 sec\n",
      " ARIMA(0,1,0)(0,0,0)[7] intercept   : AIC=35505.914, Time=0.10 sec\n",
      " ARIMA(1,1,0)(1,0,0)[7] intercept   : AIC=35127.145, Time=3.22 sec\n",
      " ARIMA(0,1,1)(0,0,1)[7] intercept   : AIC=34975.878, Time=2.88 sec\n",
      " ARIMA(0,1,0)(0,0,0)[7]             : AIC=35503.914, Time=0.10 sec\n",
      " ARIMA(5,1,3)(0,0,1)[7] intercept   : AIC=34357.077, Time=8.80 sec\n",
      " ARIMA(5,1,3)(1,0,0)[7] intercept   : AIC=34357.547, Time=12.01 sec\n",
      " ARIMA(5,1,3)(2,0,1)[7] intercept   : AIC=34340.800, Time=16.65 sec\n",
      " ARIMA(5,1,3)(2,0,0)[7] intercept   : AIC=34335.399, Time=15.99 sec\n",
      " ARIMA(4,1,3)(2,0,0)[7] intercept   : AIC=34373.540, Time=18.50 sec\n",
      " ARIMA(5,1,2)(2,0,0)[7] intercept   : AIC=34674.451, Time=16.20 sec\n",
      " ARIMA(4,1,2)(2,0,0)[7] intercept   : AIC=34709.484, Time=14.79 sec\n",
      " ARIMA(5,1,3)(2,0,0)[7]             : AIC=34336.203, Time=10.87 sec\n",
      "\n",
      "Best model:  ARIMA(5,1,3)(2,0,0)[7] intercept\n",
      "Total fit time: 130.872 seconds\n"
     ]
    },
    {
     "data": {
      "text/html": [
       "<table class=\"simpletable\">\n",
       "<caption>SARIMAX Results</caption>\n",
       "<tr>\n",
       "  <th>Dep. Variable:</th>                  <td>y</td>               <th>  No. Observations:  </th>    <td>3576</td>   \n",
       "</tr>\n",
       "<tr>\n",
       "  <th>Model:</th>           <td>SARIMAX(5, 1, 3)x(2, 0, [], 7)</td> <th>  Log Likelihood     </th> <td>-17155.700</td>\n",
       "</tr>\n",
       "<tr>\n",
       "  <th>Date:</th>                   <td>Mon, 01 Apr 2024</td>        <th>  AIC                </th>  <td>34335.399</td>\n",
       "</tr>\n",
       "<tr>\n",
       "  <th>Time:</th>                       <td>21:30:42</td>            <th>  BIC                </th>  <td>34409.580</td>\n",
       "</tr>\n",
       "<tr>\n",
       "  <th>Sample:</th>                    <td>03-01-2018</td>           <th>  HQIC               </th>  <td>34361.845</td>\n",
       "</tr>\n",
       "<tr>\n",
       "  <th></th>                          <td>- 07-27-2018</td>          <th>                     </th>      <td> </td>    \n",
       "</tr>\n",
       "<tr>\n",
       "  <th>Covariance Type:</th>               <td>opg</td>              <th>                     </th>      <td> </td>    \n",
       "</tr>\n",
       "</table>\n",
       "<table class=\"simpletable\">\n",
       "<tr>\n",
       "      <td></td>         <th>coef</th>     <th>std err</th>      <th>z</th>      <th>P>|z|</th>  <th>[0.025</th>    <th>0.975]</th>  \n",
       "</tr>\n",
       "<tr>\n",
       "  <th>intercept</th> <td>    0.0189</td> <td>    0.014</td> <td>    1.317</td> <td> 0.188</td> <td>   -0.009</td> <td>    0.047</td>\n",
       "</tr>\n",
       "<tr>\n",
       "  <th>ar.L1</th>     <td>    0.0511</td> <td>    0.322</td> <td>    0.159</td> <td> 0.874</td> <td>   -0.579</td> <td>    0.681</td>\n",
       "</tr>\n",
       "<tr>\n",
       "  <th>ar.L2</th>     <td>   -0.3323</td> <td>    0.427</td> <td>   -0.778</td> <td> 0.437</td> <td>   -1.170</td> <td>    0.505</td>\n",
       "</tr>\n",
       "<tr>\n",
       "  <th>ar.L3</th>     <td>    0.1808</td> <td>    0.162</td> <td>    1.118</td> <td> 0.264</td> <td>   -0.136</td> <td>    0.498</td>\n",
       "</tr>\n",
       "<tr>\n",
       "  <th>ar.L4</th>     <td>    0.0118</td> <td>    0.047</td> <td>    0.250</td> <td> 0.803</td> <td>   -0.081</td> <td>    0.104</td>\n",
       "</tr>\n",
       "<tr>\n",
       "  <th>ar.L5</th>     <td>   -0.0884</td> <td>    0.036</td> <td>   -2.431</td> <td> 0.015</td> <td>   -0.160</td> <td>   -0.017</td>\n",
       "</tr>\n",
       "<tr>\n",
       "  <th>ma.L1</th>     <td>   -0.6285</td> <td>    0.323</td> <td>   -1.949</td> <td> 0.051</td> <td>   -1.261</td> <td>    0.004</td>\n",
       "</tr>\n",
       "<tr>\n",
       "  <th>ma.L2</th>     <td>    0.2163</td> <td>    0.524</td> <td>    0.413</td> <td> 0.680</td> <td>   -0.811</td> <td>    1.243</td>\n",
       "</tr>\n",
       "<tr>\n",
       "  <th>ma.L3</th>     <td>   -0.5664</td> <td>    0.392</td> <td>   -1.444</td> <td> 0.149</td> <td>   -1.335</td> <td>    0.203</td>\n",
       "</tr>\n",
       "<tr>\n",
       "  <th>ar.S.L7</th>   <td>    0.0045</td> <td>    0.025</td> <td>    0.177</td> <td> 0.860</td> <td>   -0.045</td> <td>    0.054</td>\n",
       "</tr>\n",
       "<tr>\n",
       "  <th>ar.S.L14</th>  <td>   -0.0880</td> <td>    0.021</td> <td>   -4.129</td> <td> 0.000</td> <td>   -0.130</td> <td>   -0.046</td>\n",
       "</tr>\n",
       "<tr>\n",
       "  <th>sigma2</th>    <td>  946.5580</td> <td>   21.648</td> <td>   43.724</td> <td> 0.000</td> <td>  904.128</td> <td>  988.988</td>\n",
       "</tr>\n",
       "</table>\n",
       "<table class=\"simpletable\">\n",
       "<tr>\n",
       "  <th>Ljung-Box (L1) (Q):</th>     <td>0.37</td> <th>  Jarque-Bera (JB):  </th> <td>394.67</td>\n",
       "</tr>\n",
       "<tr>\n",
       "  <th>Prob(Q):</th>                <td>0.54</td> <th>  Prob(JB):          </th>  <td>0.00</td> \n",
       "</tr>\n",
       "<tr>\n",
       "  <th>Heteroskedasticity (H):</th> <td>1.56</td> <th>  Skew:              </th>  <td>0.55</td> \n",
       "</tr>\n",
       "<tr>\n",
       "  <th>Prob(H) (two-sided):</th>    <td>0.00</td> <th>  Kurtosis:          </th>  <td>4.20</td> \n",
       "</tr>\n",
       "</table><br/><br/>Warnings:<br/>[1] Covariance matrix calculated using the outer product of gradients (complex-step)."
      ],
      "text/plain": [
       "<class 'statsmodels.iolib.summary.Summary'>\n",
       "\"\"\"\n",
       "                                     SARIMAX Results                                      \n",
       "==========================================================================================\n",
       "Dep. Variable:                                  y   No. Observations:                 3576\n",
       "Model:             SARIMAX(5, 1, 3)x(2, 0, [], 7)   Log Likelihood              -17155.700\n",
       "Date:                            Mon, 01 Apr 2024   AIC                          34335.399\n",
       "Time:                                    21:30:42   BIC                          34409.580\n",
       "Sample:                                03-01-2018   HQIC                         34361.845\n",
       "                                     - 07-27-2018                                         \n",
       "Covariance Type:                              opg                                         \n",
       "==============================================================================\n",
       "                 coef    std err          z      P>|z|      [0.025      0.975]\n",
       "------------------------------------------------------------------------------\n",
       "intercept      0.0189      0.014      1.317      0.188      -0.009       0.047\n",
       "ar.L1          0.0511      0.322      0.159      0.874      -0.579       0.681\n",
       "ar.L2         -0.3323      0.427     -0.778      0.437      -1.170       0.505\n",
       "ar.L3          0.1808      0.162      1.118      0.264      -0.136       0.498\n",
       "ar.L4          0.0118      0.047      0.250      0.803      -0.081       0.104\n",
       "ar.L5         -0.0884      0.036     -2.431      0.015      -0.160      -0.017\n",
       "ma.L1         -0.6285      0.323     -1.949      0.051      -1.261       0.004\n",
       "ma.L2          0.2163      0.524      0.413      0.680      -0.811       1.243\n",
       "ma.L3         -0.5664      0.392     -1.444      0.149      -1.335       0.203\n",
       "ar.S.L7        0.0045      0.025      0.177      0.860      -0.045       0.054\n",
       "ar.S.L14      -0.0880      0.021     -4.129      0.000      -0.130      -0.046\n",
       "sigma2       946.5580     21.648     43.724      0.000     904.128     988.988\n",
       "===================================================================================\n",
       "Ljung-Box (L1) (Q):                   0.37   Jarque-Bera (JB):               394.67\n",
       "Prob(Q):                              0.54   Prob(JB):                         0.00\n",
       "Heteroskedasticity (H):               1.56   Skew:                             0.55\n",
       "Prob(H) (two-sided):                  0.00   Kurtosis:                         4.20\n",
       "===================================================================================\n",
       "\n",
       "Warnings:\n",
       "[1] Covariance matrix calculated using the outer product of gradients (complex-step).\n",
       "\"\"\""
      ]
     },
     "execution_count": 81,
     "metadata": {},
     "output_type": "execute_result"
    }
   ],
   "source": [
    "model_aa = auto_arima(train, start_p=5, d=1, start_q=3, max_p=5, max_d=1, max_q=3,\n",
    "                   seasonal=True, m=7, scoring='mse', error_action='ignore', trace=True,\n",
    "                   suppress_warnings=True, maxiter=5)\n",
    "\n",
    "model_aa.summary()"
   ]
  },
  {
   "cell_type": "code",
   "execution_count": 83,
   "metadata": {
    "scrolled": true
   },
   "outputs": [
    {
     "name": "stdout",
     "output_type": "stream",
     "text": [
      "46.217425948563886\n"
     ]
    }
   ],
   "source": [
    "# make predictions\n",
    "predictions = model_aa.predict(len(valid))\n",
    "\n",
    "# evaluate the model predictions\n",
    "auto_arima_mse = mean_squared_error(valid, predictions)\n",
    "print(auto_arima_mse**0.5)  # 46.217425948563886"
   ]
  },
  {
   "cell_type": "markdown",
   "metadata": {},
   "source": [
    "### ARIMA"
   ]
  },
  {
   "cell_type": "code",
   "execution_count": 91,
   "metadata": {
    "scrolled": true
   },
   "outputs": [
    {
     "name": "stderr",
     "output_type": "stream",
     "text": [
      "/opt/conda/lib/python3.9/site-packages/statsmodels/base/model.py:604: ConvergenceWarning: Maximum Likelihood optimization failed to converge. Check mle_retvals\n",
      "  warnings.warn(\"Maximum Likelihood optimization failed to \"\n"
     ]
    },
    {
     "name": "stdout",
     "output_type": "stream",
     "text": [
      "2018-07-28 00:00:00    133.315018\n",
      "2018-07-28 01:00:00    104.805945\n",
      "2018-07-28 02:00:00     90.548960\n",
      "2018-07-28 03:00:00     88.622570\n",
      "2018-07-28 04:00:00    106.362776\n",
      "                          ...    \n",
      "2018-08-13 09:00:00    104.233012\n",
      "2018-08-13 10:00:00    104.233012\n",
      "2018-08-13 11:00:00    104.233012\n",
      "2018-08-13 12:00:00    104.233012\n",
      "2018-08-13 13:00:00    104.233012\n",
      "Freq: H, Name: predicted_mean, Length: 398, dtype: float64\n"
     ]
    }
   ],
   "source": [
    "model_arima = ARIMA(train, order=(5,1,3))\n",
    "model_arima = model_arima.fit()\n",
    "# make predictions\n",
    "start_value = len(train)  # df_train_scaled\n",
    "end_value = len(train) + len(valid) - 1  # df_train_scaled\n",
    "#ar_pred = ar_model.predict(start=start_value, end=end_value, dynamic=False)\n",
    "arima_predict = model_arima.predict(start=start_value, end=end_value, dynamic=False)\n",
    "\n",
    "print(arima_predict)"
   ]
  },
  {
   "cell_type": "code",
   "execution_count": 94,
   "metadata": {
    "scrolled": true
   },
   "outputs": [
    {
     "name": "stdout",
     "output_type": "stream",
     "text": [
      "46.707991057406616\n"
     ]
    }
   ],
   "source": [
    "arima_mse = mean_squared_error(valid, arima_predict)\n",
    "print(arima_mse**0.5)"
   ]
  },
  {
   "cell_type": "markdown",
   "metadata": {},
   "source": [
    "### SARIMAX"
   ]
  },
  {
   "cell_type": "code",
   "execution_count": 99,
   "metadata": {},
   "outputs": [
    {
     "name": "stdout",
     "output_type": "stream",
     "text": [
      "RUNNING THE L-BFGS-B CODE\n",
      "\n",
      "           * * *\n",
      "\n",
      "Machine precision = 2.220D-16\n",
      " N =           11     M =           10\n",
      "\n",
      "At X0         0 variables are exactly at the bounds\n",
      "\n",
      "At iterate    0    f=  4.81433D+00    |proj g|=  6.73847D-02\n"
     ]
    },
    {
     "name": "stderr",
     "output_type": "stream",
     "text": [
      " This problem is unconstrained.\n"
     ]
    },
    {
     "name": "stdout",
     "output_type": "stream",
     "text": [
      "\n",
      "At iterate    5    f=  4.79785D+00    |proj g|=  3.47672D-03\n",
      "\n",
      "At iterate   10    f=  4.79643D+00    |proj g|=  2.57544D-02\n",
      "\n",
      "At iterate   15    f=  4.78913D+00    |proj g|=  1.93806D-02\n",
      "\n",
      "At iterate   20    f=  4.78736D+00    |proj g|=  1.38536D-02\n",
      "\n",
      "At iterate   25    f=  4.78425D+00    |proj g|=  7.05427D-03\n",
      "\n",
      "At iterate   30    f=  4.78407D+00    |proj g|=  6.72375D-03\n",
      "\n",
      "At iterate   35    f=  4.78377D+00    |proj g|=  6.77171D-03\n",
      "\n",
      "At iterate   40    f=  4.78347D+00    |proj g|=  1.49084D-02\n",
      "\n",
      "At iterate   45    f=  4.78304D+00    |proj g|=  5.21739D-03\n"
     ]
    },
    {
     "name": "stderr",
     "output_type": "stream",
     "text": [
      "/opt/conda/lib/python3.9/site-packages/statsmodels/base/model.py:604: ConvergenceWarning: Maximum Likelihood optimization failed to converge. Check mle_retvals\n",
      "  warnings.warn(\"Maximum Likelihood optimization failed to \"\n"
     ]
    },
    {
     "name": "stdout",
     "output_type": "stream",
     "text": [
      "\n",
      "At iterate   50    f=  4.78282D+00    |proj g|=  4.91253D-03\n",
      "\n",
      "           * * *\n",
      "\n",
      "Tit   = total number of iterations\n",
      "Tnf   = total number of function evaluations\n",
      "Tnint = total number of segments explored during Cauchy searches\n",
      "Skip  = number of BFGS updates skipped\n",
      "Nact  = number of active bounds at final generalized Cauchy point\n",
      "Projg = norm of the final projected gradient\n",
      "F     = final function value\n",
      "\n",
      "           * * *\n",
      "\n",
      "   N    Tit     Tnf  Tnint  Skip  Nact     Projg        F\n",
      "   11     50     68      1     0     0   4.913D-03   4.783D+00\n",
      "  F =   4.7828215035011494     \n",
      "\n",
      "STOP: TOTAL NO. of ITERATIONS REACHED LIMIT                 \n",
      "2018-07-28 00:00:00    130.157918\n",
      "2018-07-28 01:00:00    105.131756\n",
      "2018-07-28 02:00:00     90.333059\n",
      "2018-07-28 03:00:00     86.975636\n",
      "2018-07-28 04:00:00    106.802277\n",
      "                          ...    \n",
      "2018-08-13 09:00:00    104.285249\n",
      "2018-08-13 10:00:00    104.285249\n",
      "2018-08-13 11:00:00    104.285249\n",
      "2018-08-13 12:00:00    104.285249\n",
      "2018-08-13 13:00:00    104.285249\n",
      "Freq: H, Name: predicted_mean, Length: 398, dtype: float64\n"
     ]
    }
   ],
   "source": [
    "model_sarimax = SARIMAX(train, order=(5,1,3), seasonal_order=(2,0,0,7))\n",
    "model_sarimax = model_sarimax.fit()\n",
    "# make predictions\n",
    "start_value = len(train)  # df_train_scaled\n",
    "end_value = len(train) + len(valid) - 1  # df_train_scaled\n",
    "\n",
    "sarimax_predict = model_sarimax.predict(start=start_value, end=end_value, dynamic=False)\n",
    "print(sarimax_predict)"
   ]
  },
  {
   "cell_type": "code",
   "execution_count": 100,
   "metadata": {},
   "outputs": [
    {
     "name": "stdout",
     "output_type": "stream",
     "text": [
      "46.69035130455062\n"
     ]
    }
   ],
   "source": [
    "sarimax_mse = mean_squared_error(valid, sarimax_predict)\n",
    "print(sarimax_mse**0.5)"
   ]
  },
  {
   "cell_type": "markdown",
   "metadata": {},
   "source": [
    "All the models achieved a RMSE score below 48 on the validation set."
   ]
  },
  {
   "cell_type": "markdown",
   "metadata": {},
   "source": [
    "## Testing"
   ]
  },
  {
   "cell_type": "markdown",
   "metadata": {},
   "source": [
    "The RMSE metric on the test set should not be more than 48."
   ]
  },
  {
   "cell_type": "code",
   "execution_count": 75,
   "metadata": {},
   "outputs": [
    {
     "data": {
      "text/plain": [
       "(3926, 30)"
      ]
     },
     "execution_count": 75,
     "metadata": {},
     "output_type": "execute_result"
    }
   ],
   "source": [
    "feature_train_linreg = pd.concat([feature_train_lr, feature_valid_lr])\n",
    "\n",
    "target_train_linreg = pd.concat([target_train_lr, target_valid_lr])\n",
    "feature_train_linreg.shape\n",
    "#target_train_linreg"
   ]
  },
  {
   "cell_type": "code",
   "execution_count": 76,
   "metadata": {},
   "outputs": [
    {
     "name": "stdout",
     "output_type": "stream",
     "text": [
      "46.32453535485391\n"
     ]
    }
   ],
   "source": [
    "model_lr = LinearRegression()\n",
    "model_lr.fit(feature_train_lr, target_train_lr)\n",
    "predict_lr = model_lr.predict(feature_test_lr)\n",
    "lr_mse_val = mean_squared_error(target_test_lr, predict_lr)\n",
    "print(lr_mse_val**0.5)  # "
   ]
  },
  {
   "cell_type": "code",
   "execution_count": 77,
   "metadata": {},
   "outputs": [],
   "source": [
    "# 53.9665039683576 @ 3 lags; 52.4117501263748 @ 24 roll; 52.180901032100245 @ 5, 24; 53.438835006494436 @ 12,12\n",
    "# 52.19143565124224 @ 12,24; 46.32453535485391 @ 24,24"
   ]
  },
  {
   "cell_type": "code",
   "execution_count": 90,
   "metadata": {},
   "outputs": [
    {
     "name": "stdout",
     "output_type": "stream",
     "text": [
      "68.92728379869911\n"
     ]
    }
   ],
   "source": [
    "# AutoReg Testing\n",
    "# find optimal number of lags\n",
    "mod = ar_select_order(endog=train_all, maxlag=24)  # train_ar_arima\n",
    "ar_order = mod.ar_lags\n",
    "\n",
    "# create AR model and fit it using the training set\n",
    "ar_model = AutoReg(train_all, lags=ar_order, seasonal=True)  # train_ar_arima\n",
    "ar_model = ar_model.fit()\n",
    "\n",
    "# make predictions\n",
    "start_value = len(train_all)  # train_ar_arima\n",
    "end_value = len(train_all) + len(test) - 1  # train_ar_arima\n",
    "ar_pred = ar_model.predict(start=start_value, end=end_value, dynamic=True)\n",
    "\n",
    "# evaluate model\n",
    "ar_mse_value = mean_squared_error(test, ar_pred) # calculate MSE\n",
    "print(ar_mse_value**0.5)  \n",
    "# 68.92728379869911 train_all"
   ]
  },
  {
   "cell_type": "code",
   "execution_count": 95,
   "metadata": {},
   "outputs": [
    {
     "name": "stderr",
     "output_type": "stream",
     "text": [
      "/opt/conda/lib/python3.9/site-packages/statsmodels/base/model.py:604: ConvergenceWarning: Maximum Likelihood optimization failed to converge. Check mle_retvals\n",
      "  warnings.warn(\"Maximum Likelihood optimization failed to \"\n"
     ]
    }
   ],
   "source": [
    "model_arima = ARIMA(train_all, order=(5,1,3))\n",
    "model_arima = model_arima.fit()\n",
    "# make predictions\n",
    "start_value = len(train_all)  # df_train_scaled\n",
    "end_value = len(train_all) + len(test) - 1  # df_train_scaled\n",
    "#ar_pred = ar_model.predict(start=start_value, end=end_value, dynamic=False)\n",
    "arima_predict = model_arima.predict(start=start_value, end=end_value, dynamic=False)"
   ]
  },
  {
   "cell_type": "code",
   "execution_count": 96,
   "metadata": {
    "scrolled": true
   },
   "outputs": [
    {
     "name": "stdout",
     "output_type": "stream",
     "text": [
      "64.6518044890887\n"
     ]
    }
   ],
   "source": [
    "arima_mse = mean_squared_error(test, arima_predict)\n",
    "print(arima_mse**0.5)"
   ]
  },
  {
   "cell_type": "code",
   "execution_count": 101,
   "metadata": {},
   "outputs": [
    {
     "name": "stderr",
     "output_type": "stream",
     "text": [
      " This problem is unconstrained.\n"
     ]
    },
    {
     "name": "stdout",
     "output_type": "stream",
     "text": [
      "RUNNING THE L-BFGS-B CODE\n",
      "\n",
      "           * * *\n",
      "\n",
      "Machine precision = 2.220D-16\n",
      " N =           11     M =           10\n",
      "\n",
      "At X0         0 variables are exactly at the bounds\n",
      "\n",
      "At iterate    0    f=  4.85683D+00    |proj g|=  7.05943D-02\n",
      "\n",
      "At iterate    5    f=  4.84091D+00    |proj g|=  5.90226D-03\n",
      "\n",
      "At iterate   10    f=  4.83922D+00    |proj g|=  3.63665D-02\n",
      "\n",
      "At iterate   15    f=  4.83189D+00    |proj g|=  1.74790D-02\n",
      "\n",
      "At iterate   20    f=  4.83039D+00    |proj g|=  1.76350D-02\n",
      "\n",
      "At iterate   25    f=  4.82634D+00    |proj g|=  2.21309D-02\n",
      "\n",
      "At iterate   30    f=  4.82612D+00    |proj g|=  5.27477D-03\n",
      "\n",
      "At iterate   35    f=  4.82582D+00    |proj g|=  3.63149D-03\n",
      "\n",
      "At iterate   40    f=  4.82494D+00    |proj g|=  3.75415D-02\n",
      "\n",
      "At iterate   45    f=  4.82464D+00    |proj g|=  7.88240D-03\n",
      "\n",
      "At iterate   50    f=  4.82433D+00    |proj g|=  6.33905D-03\n",
      "\n",
      "           * * *\n",
      "\n",
      "Tit   = total number of iterations\n",
      "Tnf   = total number of function evaluations\n",
      "Tnint = total number of segments explored during Cauchy searches\n",
      "Skip  = number of BFGS updates skipped\n",
      "Nact  = number of active bounds at final generalized Cauchy point\n",
      "Projg = norm of the final projected gradient\n",
      "F     = final function value\n",
      "\n",
      "           * * *\n",
      "\n",
      "   N    Tit     Tnf  Tnint  Skip  Nact     Projg        F\n",
      "   11     50     64      1     0     0   6.339D-03   4.824D+00\n",
      "  F =   4.8243301597165358     \n",
      "\n",
      "STOP: TOTAL NO. of ITERATIONS REACHED LIMIT                 \n"
     ]
    },
    {
     "name": "stderr",
     "output_type": "stream",
     "text": [
      "/opt/conda/lib/python3.9/site-packages/statsmodels/base/model.py:604: ConvergenceWarning: Maximum Likelihood optimization failed to converge. Check mle_retvals\n",
      "  warnings.warn(\"Maximum Likelihood optimization failed to \"\n"
     ]
    },
    {
     "name": "stdout",
     "output_type": "stream",
     "text": [
      "64.865748534021\n"
     ]
    }
   ],
   "source": [
    "model_sarimax = SARIMAX(train_all, order=(5,1,3), seasonal_order=(2,0,0,7))\n",
    "model_sarimax = model_sarimax.fit()\n",
    "# make predictions\n",
    "start_value = len(train_all)  # df_train_scaled\n",
    "end_value = len(train_all) + len(test) - 1  # df_train_scaled\n",
    "\n",
    "sarimax_predict = model_sarimax.predict(start=start_value, end=end_value, dynamic=False)\n",
    "#print(sarimax_predict)\n",
    "sarimax_mse = mean_squared_error(test, sarimax_predict)\n",
    "print(sarimax_mse**0.5)"
   ]
  },
  {
   "cell_type": "code",
   "execution_count": 102,
   "metadata": {
    "scrolled": false
   },
   "outputs": [
    {
     "name": "stdout",
     "output_type": "stream",
     "text": [
      "Performing stepwise search to minimize aic\n",
      " ARIMA(5,1,3)(1,0,1)[7] intercept   : AIC=38523.718, Time=13.38 sec\n",
      " ARIMA(0,1,0)(0,0,0)[7] intercept   : AIC=39785.522, Time=0.11 sec\n",
      " ARIMA(1,1,0)(1,0,0)[7] intercept   : AIC=39397.038, Time=3.70 sec\n",
      " ARIMA(0,1,1)(0,0,1)[7] intercept   : AIC=39248.904, Time=4.01 sec\n",
      " ARIMA(0,1,0)(0,0,0)[7]             : AIC=39783.522, Time=0.13 sec\n",
      " ARIMA(5,1,3)(0,0,1)[7] intercept   : AIC=38524.497, Time=10.35 sec\n",
      " ARIMA(5,1,3)(1,0,0)[7] intercept   : AIC=38524.495, Time=13.62 sec\n",
      " ARIMA(5,1,3)(2,0,1)[7] intercept   : AIC=38505.575, Time=19.84 sec\n",
      " ARIMA(5,1,3)(2,0,0)[7] intercept   : AIC=38497.165, Time=18.70 sec\n",
      " ARIMA(4,1,3)(2,0,0)[7] intercept   : AIC=inf, Time=17.29 sec\n",
      " ARIMA(5,1,2)(2,0,0)[7] intercept   : AIC=38876.086, Time=17.41 sec\n",
      " ARIMA(4,1,2)(2,0,0)[7] intercept   : AIC=38928.783, Time=15.99 sec\n",
      " ARIMA(5,1,3)(2,0,0)[7]             : AIC=38497.514, Time=11.35 sec\n",
      "\n",
      "Best model:  ARIMA(5,1,3)(2,0,0)[7] intercept\n",
      "Total fit time: 145.913 seconds\n",
      "60.697477945419294\n"
     ]
    }
   ],
   "source": [
    "# auto_arima Testing\n",
    "model = auto_arima(train_all, start_p=5, d=1, start_q=3, max_p=5, max_d=1, max_q=3,\n",
    "                   seasonal=True, m=7, scoring='mse', error_action='ignore', trace=True,\n",
    "                   suppress_warnings=True, maxiter=5)  \n",
    "\n",
    "# make predictions\n",
    "predictions = model.predict(len(test))\n",
    "\n",
    "# evaluate the model predictions\n",
    "auto_arima_mse = mean_squared_error(test, predictions)\n",
    "print(auto_arima_mse**0.5)  # 60.697477945419294"
   ]
  },
  {
   "cell_type": "markdown",
   "metadata": {},
   "source": [
    "The only model to achieve the benchmark under a RMSE value of 48 was the LinearRegression model with the number of lags at 24 and a rolling mean of 24."
   ]
  },
  {
   "cell_type": "markdown",
   "metadata": {},
   "source": [
    "<div class=\"alert alert-danger\">\n",
    "<s><b>Reviewer's comment</b>\n",
    "\n",
    "Great, you tried a couple of different models, but there are some problems here:\n",
    "    \n",
    "1. It is not appropriate to tune the model's hyperparameters using the test set. You need to use either a validation set or cross-validation with a [TimeSeriesSplit](https://scikit-learn.org/stable/modules/generated/sklearn.model_selection.TimeSeriesSplit.html)\n",
    "    \n",
    "2. You're calculating MAE instead of RMSE\n",
    "\n",
    "3. You're doing a different problem than what the task asked for due to incorrect resampling :)\n",
    "    \n",
    "</div>"
   ]
  },
  {
   "cell_type": "markdown",
   "metadata": {},
   "source": [
    "<div class=\"alert alert-warning\">\n",
    "<b>Reviewer's comment</b>\n",
    "\n",
    "It would be nice if you tried doing some feature engineering from the time series yourself (e.g. calendar features, lag features, a shifted rolling mean) and training a linear regression model using those features\n",
    "\n",
    "</div>"
   ]
  },
  {
   "cell_type": "markdown",
   "metadata": {},
   "source": [
    "<div class=\"alert alert-info\">\n",
    "\n",
    "1. Split the training set into train and validation sets.\n",
    "\n",
    "2. Updated MAE to RMSE, got confused with all the acronyms, heh.\n",
    "\n",
    "3. Added features for the linear regression model.\n",
    "    \n",
    "</div>"
   ]
  },
  {
   "cell_type": "markdown",
   "metadata": {},
   "source": [
    "<div class=\"alert alert-success\">\n",
    "<b>Reviewer's comment V2</b>\n",
    "\n",
    "Ok, all looks good! :)\n",
    "\n",
    "</div>"
   ]
  },
  {
   "cell_type": "markdown",
   "metadata": {},
   "source": [
    "## Conclusion"
   ]
  },
  {
   "cell_type": "markdown",
   "metadata": {},
   "source": [
    "Sweet Lift Taxi should use the LinearRegression model with the number of lags at 24 and a rolling mean of 24, even though the data is seasonal on a daily basis. When we looked at the data in a weeks time, we saw that the largest amount of taxi orders at the airport tended to spike at night around midnight."
   ]
  },
  {
   "cell_type": "markdown",
   "metadata": {},
   "source": [
    "<div class=\"alert alert-danger\">\n",
    "<s><b>Reviewer's comment</b>\n",
    "\n",
    "Please check the results after fixing the problems above\n",
    "\n",
    "</div>"
   ]
  },
  {
   "cell_type": "markdown",
   "metadata": {},
   "source": [
    "<div class=\"alert alert-success\">\n",
    "<b>Reviewer's comment V2</b>\n",
    "\n",
    "Well done!\n",
    "\n",
    "</div>"
   ]
  },
  {
   "cell_type": "markdown",
   "metadata": {},
   "source": [
    "# Review checklist"
   ]
  },
  {
   "cell_type": "markdown",
   "metadata": {},
   "source": [
    "- [x]  Jupyter Notebook is open\n",
    "- [ ]  The code is error-free\n",
    "- [ ]  The cells with the code have been arranged in order of execution\n",
    "- [ ]  The data has been downloaded and prepared\n",
    "- [ ]  The data has been analyzed\n",
    "- [ ]  The model has been trained and hyperparameters have been selected\n",
    "- [ ]  The models have been evaluated. Conclusion has been provided\n",
    "- [ ] *RMSE* for the test set is not more than 48"
   ]
  }
 ],
 "metadata": {
  "kernelspec": {
   "display_name": "Python 3 (ipykernel)",
   "language": "python",
   "name": "python3"
  },
  "language_info": {
   "codemirror_mode": {
    "name": "ipython",
    "version": 3
   },
   "file_extension": ".py",
   "mimetype": "text/x-python",
   "name": "python",
   "nbconvert_exporter": "python",
   "pygments_lexer": "ipython3",
   "version": "3.9.19"
  },
  "toc": {
   "base_numbering": 1,
   "nav_menu": {},
   "number_sections": true,
   "sideBar": true,
   "skip_h1_title": true,
   "title_cell": "Table of Contents",
   "title_sidebar": "Contents",
   "toc_cell": false,
   "toc_position": {
    "height": "calc(100% - 180px)",
    "left": "10px",
    "top": "150px",
    "width": "165px"
   },
   "toc_section_display": true,
   "toc_window_display": true
  }
 },
 "nbformat": 4,
 "nbformat_minor": 2
}
